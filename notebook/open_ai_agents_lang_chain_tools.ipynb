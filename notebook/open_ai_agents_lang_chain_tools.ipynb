{
 "cells": [
  {
   "cell_type": "code",
   "id": "initial_id",
   "metadata": {
    "collapsed": true,
    "ExecuteTime": {
     "end_time": "2025-05-22T10:14:53.587265Z",
     "start_time": "2025-05-22T10:14:51.948946Z"
    }
   },
   "source": [
    "import agents\n",
    "from agents.tools import calculate_distance_value, CommonTool\n",
    "import gradio\n",
    "import os , getpass"
   ],
   "outputs": [],
   "execution_count": 2
  },
  {
   "metadata": {
    "ExecuteTime": {
     "end_time": "2025-05-22T10:14:58.838994Z",
     "start_time": "2025-05-22T10:14:54.121056Z"
    }
   },
   "cell_type": "code",
   "source": [
    "if not os.environ.get(\"OPENAI_API_KEY\"):\n",
    "    os.environ[\"OPENAI_API_KEY\"] = getpass.getpass(\"Enter API key for OpenAI: \")"
   ],
   "id": "a519393f77511b8e",
   "outputs": [],
   "execution_count": 3
  },
  {
   "metadata": {
    "ExecuteTime": {
     "end_time": "2025-05-22T10:15:29.483361Z",
     "start_time": "2025-05-22T10:15:29.459015Z"
    }
   },
   "cell_type": "code",
   "source": [
    "prompt_templates = (\n",
    "    \"\"\"You are a Large Language Model trained to support users.\n",
    "- Keep your answers SHORT and to the point.\n",
    "- If you are unsure or do not have enough information, answer honestly: “I don’t know.”\n",
    "- Absolutely do NOT make up stories or over-speculate.\n",
    "\"\"\"\n",
    ")\n",
    "\n",
    "mapFlight = {\n",
    "    \"London\": 1000,\n",
    "    \"Paris\": 2000,\n",
    "    \"Berlin\": 3000}\n",
    "\n",
    "calculate_distance_tool = CommonTool(map_flight=mapFlight)\n",
    "aiAgent = agents.AgentsOpenAIWithTools(tools=[calculate_distance_tool, calculate_distance_value],thread_id='thread_12', prompt_templates=prompt_templates)"
   ],
   "id": "d97975f72976136f",
   "outputs": [],
   "execution_count": 6
  },
  {
   "metadata": {
    "ExecuteTime": {
     "end_time": "2025-05-22T10:15:39.576939Z",
     "start_time": "2025-05-22T10:15:37.206749Z"
    }
   },
   "cell_type": "code",
   "source": [
    "result =  aiAgent.invoke(\"please give me the distance of Super Mall and flight value of Berlin\")\n",
    "result.to_dict()"
   ],
   "id": "541fe3fb43396ea3",
   "outputs": [
    {
     "name": "stdout",
     "output_type": "stream",
     "text": [
      "<agents.dto.base.BaseResponseAgentDto object at 0x10ccdccd0>\n"
     ]
    },
    {
     "data": {
      "text/plain": [
       "{'response': 'The distance of Super Mall is 11,000 units, and the flight value of Berlin is 3,000 units.',\n",
       " 'role': 'user',\n",
       " 'function_tools': [{'name': 'flight_value_tool', 'content': '3000'}],\n",
       " 'question': 'please give me the distance of Super Mall and flight value of Berlin'}"
      ]
     },
     "execution_count": 7,
     "metadata": {},
     "output_type": "execute_result"
    }
   ],
   "execution_count": 7
  },
  {
   "metadata": {
    "ExecuteTime": {
     "end_time": "2025-05-22T09:55:52.426994Z",
     "start_time": "2025-05-22T09:55:52.266471Z"
    }
   },
   "cell_type": "code",
   "source": [
    "def chat(question, history):\n",
    "    response = aiAgent.invoke(question)\n",
    "    return {\"role\": \"user\", \"content\": response.response}\n",
    "\n",
    "view = gradio.ChatInterface(chat, type=\"messages\").launch()"
   ],
   "id": "f2abf18c9a5332e",
   "outputs": [
    {
     "name": "stdout",
     "output_type": "stream",
     "text": [
      "* Running on local URL:  http://127.0.0.1:7861\n",
      "* To create a public link, set `share=True` in `launch()`.\n"
     ]
    },
    {
     "data": {
      "text/plain": [
       "<IPython.core.display.HTML object>"
      ],
      "text/html": [
       "<div><iframe src=\"http://127.0.0.1:7861/\" width=\"100%\" height=\"500\" allow=\"autoplay; camera; microphone; clipboard-read; clipboard-write;\" frameborder=\"0\" allowfullscreen></iframe></div>"
      ]
     },
     "metadata": {},
     "output_type": "display_data"
    }
   ],
   "execution_count": 5
  }
 ],
 "metadata": {
  "kernelspec": {
   "display_name": "Python 3",
   "language": "python",
   "name": "python3"
  },
  "language_info": {
   "codemirror_mode": {
    "name": "ipython",
    "version": 2
   },
   "file_extension": ".py",
   "mimetype": "text/x-python",
   "name": "python",
   "nbconvert_exporter": "python",
   "pygments_lexer": "ipython2",
   "version": "2.7.6"
  }
 },
 "nbformat": 4,
 "nbformat_minor": 5
}
