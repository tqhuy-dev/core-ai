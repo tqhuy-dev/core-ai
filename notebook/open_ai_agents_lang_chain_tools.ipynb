{
 "cells": [
  {
   "cell_type": "code",
   "id": "initial_id",
   "metadata": {
    "collapsed": true,
    "ExecuteTime": {
     "end_time": "2025-05-22T04:59:21.428467Z",
     "start_time": "2025-05-22T04:59:19.753843Z"
    }
   },
   "source": [
    "import agents\n",
    "from agents.tools import calculate_flight_value\n",
    "import gradio\n",
    "import os , getpass"
   ],
   "outputs": [],
   "execution_count": 1
  },
  {
   "metadata": {
    "ExecuteTime": {
     "end_time": "2025-05-22T04:59:26.306743Z",
     "start_time": "2025-05-22T04:59:22.544284Z"
    }
   },
   "cell_type": "code",
   "source": [
    "if not os.environ.get(\"OPENAI_API_KEY\"):\n",
    "    os.environ[\"OPENAI_API_KEY\"] = getpass.getpass(\"Enter API key for OpenAI: \")"
   ],
   "id": "a519393f77511b8e",
   "outputs": [],
   "execution_count": 2
  },
  {
   "metadata": {
    "ExecuteTime": {
     "end_time": "2025-05-22T04:59:28.223946Z",
     "start_time": "2025-05-22T04:59:28.116388Z"
    }
   },
   "cell_type": "code",
   "source": [
    "prompt_templates = (\n",
    "    \"\"\"You are a Large Language Model trained to support users.\n",
    "- Keep your answers SHORT and to the point.\n",
    "- If you are unsure or do not have enough information, answer honestly: “I don’t know.”\n",
    "- Absolutely do NOT make up stories or over-speculate.\n",
    "\"\"\"\n",
    ")\n",
    "\n",
    "aiAgent = agents.AgentsOpenAIWithTools(tools=[calculate_flight_value],thread_id='thread_1234', prompt_templates=prompt_templates)"
   ],
   "id": "d97975f72976136f",
   "outputs": [],
   "execution_count": 3
  },
  {
   "metadata": {
    "ExecuteTime": {
     "end_time": "2025-05-22T04:59:32.509008Z",
     "start_time": "2025-05-22T04:59:32.341682Z"
    }
   },
   "cell_type": "code",
   "source": [
    "def chat(question, history):\n",
    "    return {\"role\": \"user\", \"content\": aiAgent.invoke(question)}\n",
    "\n",
    "view = gradio.ChatInterface(chat, type=\"messages\").launch()"
   ],
   "id": "f2abf18c9a5332e",
   "outputs": [
    {
     "name": "stdout",
     "output_type": "stream",
     "text": [
      "* Running on local URL:  http://127.0.0.1:7861\n",
      "* To create a public link, set `share=True` in `launch()`.\n"
     ]
    },
    {
     "data": {
      "text/plain": [
       "<IPython.core.display.HTML object>"
      ],
      "text/html": [
       "<div><iframe src=\"http://127.0.0.1:7861/\" width=\"100%\" height=\"500\" allow=\"autoplay; camera; microphone; clipboard-read; clipboard-write;\" frameborder=\"0\" allowfullscreen></iframe></div>"
      ]
     },
     "metadata": {},
     "output_type": "display_data"
    }
   ],
   "execution_count": 4
  }
 ],
 "metadata": {
  "kernelspec": {
   "display_name": "Python 3",
   "language": "python",
   "name": "python3"
  },
  "language_info": {
   "codemirror_mode": {
    "name": "ipython",
    "version": 2
   },
   "file_extension": ".py",
   "mimetype": "text/x-python",
   "name": "python",
   "nbconvert_exporter": "python",
   "pygments_lexer": "ipython2",
   "version": "2.7.6"
  }
 },
 "nbformat": 4,
 "nbformat_minor": 5
}
