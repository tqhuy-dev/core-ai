{
 "cells": [
  {
   "cell_type": "code",
   "id": "initial_id",
   "metadata": {
    "collapsed": true,
    "ExecuteTime": {
     "end_time": "2025-05-26T08:08:15.677887Z",
     "start_time": "2025-05-26T08:08:14.047158Z"
    }
   },
   "source": [
    "import os, getpass\n",
    "from langchain_core.vectorstores import InMemoryVectorStore\n",
    "from langchain_openai import OpenAIEmbeddings\n",
    "from langchain_chroma import Chroma\n",
    "from langchain.tools.retriever import create_retriever_tool\n",
    "from pydantic import BaseModel, Field\n",
    "from langchain.chat_models import init_chat_model\n",
    "from langgraph.graph import MessagesState\n",
    "from typing import Literal\n",
    "import gradio as gr"
   ],
   "outputs": [],
   "execution_count": 1
  },
  {
   "metadata": {
    "ExecuteTime": {
     "end_time": "2025-05-26T08:08:29.956925Z",
     "start_time": "2025-05-26T08:08:17.003856Z"
    }
   },
   "cell_type": "code",
   "source": [
    "if not os.environ.get(\"OPENAI_API_KEY\"):\n",
    "    os.environ[\"OPENAI_API_KEY\"] = getpass.getpass(\"Enter API key for OpenAI: \")"
   ],
   "id": "858fb37f30ff1815",
   "outputs": [],
   "execution_count": 2
  },
  {
   "metadata": {
    "ExecuteTime": {
     "end_time": "2025-05-26T08:08:56.063747Z",
     "start_time": "2025-05-26T08:08:55.972502Z"
    }
   },
   "cell_type": "code",
   "source": "embedding = OpenAIEmbeddings()",
   "id": "b73db78be7b5edd9",
   "outputs": [],
   "execution_count": 3
  },
  {
   "metadata": {
    "ExecuteTime": {
     "end_time": "2025-05-26T08:17:10.246175Z",
     "start_time": "2025-05-26T08:17:10.232244Z"
    }
   },
   "cell_type": "code",
   "source": [
    "vectorstore = Chroma(persist_directory=f\"../db/rag_db\", embedding_function=embedding)\n",
    "vector_store_excel = Chroma(persist_directory=f\"../db/excel_db\", embedding_function=embedding)"
   ],
   "id": "696968b1d1e3468d",
   "outputs": [],
   "execution_count": 23
  },
  {
   "metadata": {
    "ExecuteTime": {
     "end_time": "2025-05-26T08:17:22.935979Z",
     "start_time": "2025-05-26T08:17:22.933535Z"
    }
   },
   "cell_type": "code",
   "source": [
    "retriever = vectorstore.as_retriever()\n",
    "retriever_exel = vector_store_excel.as_retriever()"
   ],
   "id": "43ecf159c8fa7f60",
   "outputs": [],
   "execution_count": 24
  },
  {
   "metadata": {
    "ExecuteTime": {
     "end_time": "2025-05-26T08:18:39.926728Z",
     "start_time": "2025-05-26T08:18:39.922927Z"
    }
   },
   "cell_type": "code",
   "source": [
    "retriever_tool = create_retriever_tool(\n",
    "    retriever,\n",
    "    \"retrieve_employee_blog\",\n",
    "    \"Search and return information about Employee blog posts.\",\n",
    ")\n",
    "\n",
    "retriever_tool_excel = create_retriever_tool(\n",
    "    retriever_exel,\n",
    "    \"retrieve_worldwide_information\",\n",
    "    \"Search and return information about worldwide information.\",\n",
    ")"
   ],
   "id": "cf47ac48a025c506",
   "outputs": [],
   "execution_count": 25
  },
  {
   "metadata": {
    "ExecuteTime": {
     "end_time": "2025-05-26T08:18:47.604805Z",
     "start_time": "2025-05-26T08:18:46.763281Z"
    }
   },
   "cell_type": "code",
   "source": "retriever_tool.invoke({\"query\": \"Who is Alex Chen\"})",
   "id": "856d88ee7affae03",
   "outputs": [
    {
     "data": {
      "text/plain": [
       "'## Other HR Notes\\n- Participates regularly in Insurellm\\'s Diversity & Inclusion initiatives, championing tech accessibility for underrepresented communities.\\n- Completed several certifications in cloud architecture and DevOps, contributing to professional growth.\\n- Plans for a professional development course in AI and machine learning to further enhance backend capabilities in Insurellm\\'s offerings.\\n- Acknowledged for volunteer efforts in local tech meetups, bringing seasoned engineers to mentor aspiring coders.  \\n\\nAlex Chen continues to be a vital asset at Insurellm, contributing significantly to innovative backend solutions that help shape the future of insurance technology.\\n\\n# HR Record\\n\\n# Alex Chen\\n\\n## Summary\\n- **Date of Birth:** March 15, 1990  \\n- **Job Title:** Backend Software Engineer  \\n- **Location:** San Francisco, California  \\n\\n## Insurellm Career Progression\\n- **April 2020:** Joined Insurellm as a Junior Backend Developer. Focused on building APIs to enhance customer data security.\\n- **October 2021:** Promoted to Backend Software Engineer. Took on leadership for a key project developing a microservices architecture to support the company\\'s growing platform.\\n- **March 2023:** Awarded the title of Senior Backend Software Engineer due to exemplary performance in scaling backend services, reducing downtime by 30% over six months.\\n\\n## Annual Performance History\\n- **2020:**  \\n  - Completed onboarding successfully.  \\n  - Met expectations in delivering project milestones.  \\n  - Received positive feedback from the team leads.\\n\\n- **2021:**  \\n  - Achieved a 95% success rate in project delivery timelines.  \\n  - Awarded \"Rising Star\" at the annual company gala for outstanding contributions.\\n\\n## Other HR Notes\\n- Alex Thomson is an active member of the Diversity and Inclusion committee at Insurellm and has participated in various community outreach programs.  \\n- Alex has received external training on advanced CRM usage, which has subsequently improved team efficiency and productivity.\\n- Continuous professional development through attending sales conventions and workshops, with plans to pursue certification in Sales Enablement in 2024.\\n- Recognized by peers for promoting a supportive and high-energy team environment, often organizing team-building activities to enhance camaraderie within the SDR department. \\n\\n--- \\n**Comment:** Alex Thomson is considered a cornerstone of Insurellm’s sales team and has a bright future within the organization.\\n\\n- **Interests**:  \\n  - In Alex\\'s spare time, they enjoy participating in community volunteer programs, particularly those focused on financial literacy.  \\n  - Alex is also an avid runner and has participated in several charity marathons.  \\n\\n- **Feedback from HR**:  \\n  - Alex Harper is noted for their work ethic, positive attitude, and willingness to go above and beyond for both clients and colleagues. Recognized for fostering a team spirit within the SDR team.'"
      ]
     },
     "execution_count": 26,
     "metadata": {},
     "output_type": "execute_result"
    }
   ],
   "execution_count": 26
  },
  {
   "metadata": {
    "ExecuteTime": {
     "end_time": "2025-05-26T08:19:57.517435Z",
     "start_time": "2025-05-26T08:19:56.638435Z"
    }
   },
   "cell_type": "code",
   "source": "retriever_tool_excel.invoke({\"query\": \"min pdgPercap of Canada\"})",
   "id": "4385919cb39d7d8",
   "outputs": [
    {
     "data": {
      "text/plain": [
       "'Unnamed: 0: 240, country: Canada, continent: Americas, year: 1952, lifeExp: 68.75, pop: 14785584, gdpPercap: 11367.16112, iso_alpha: CAN, iso_num: 124\\n\\nUnnamed: 0: 251, country: Canada, continent: Americas, year: 2007, lifeExp: 80.653, pop: 33390141, gdpPercap: 36319.23501, iso_alpha: CAN, iso_num: 124\\n\\nUnnamed: 0: 242, country: Canada, continent: Americas, year: 1962, lifeExp: 71.3, pop: 18985849, gdpPercap: 13462.48555, iso_alpha: CAN, iso_num: 124\\n\\nUnnamed: 0: 243, country: Canada, continent: Americas, year: 1967, lifeExp: 72.13, pop: 20819767, gdpPercap: 16076.58803, iso_alpha: CAN, iso_num: 124'"
      ]
     },
     "execution_count": 28,
     "metadata": {},
     "output_type": "execute_result"
    }
   ],
   "execution_count": 28
  },
  {
   "metadata": {
    "ExecuteTime": {
     "end_time": "2025-05-26T09:11:26.587272Z",
     "start_time": "2025-05-26T09:11:26.581711Z"
    }
   },
   "cell_type": "code",
   "source": "arr_rag_tool = [retriever_tool, retriever_tool_excel]",
   "id": "e4a8bf4dab53bb3e",
   "outputs": [],
   "execution_count": 111
  },
  {
   "metadata": {
    "ExecuteTime": {
     "end_time": "2025-05-26T08:20:32.923713Z",
     "start_time": "2025-05-26T08:20:32.921934Z"
    }
   },
   "cell_type": "code",
   "source": [
    "grade_prompt = (\n",
    "    \"Use the information below to answer the user's question. \"\n",
    "    \"If you can't find a suitable answer, just say you don't know. \"\n",
    "    \"Don't give wrong or incorrect answers. \"\n",
    "    \"{context} \"\n",
    "    \"Câu hỏi: {question} \"\n",
    ")"
   ],
   "id": "91041971cc14e013",
   "outputs": [],
   "execution_count": 29
  },
  {
   "metadata": {
    "ExecuteTime": {
     "end_time": "2025-05-26T08:20:34.561751Z",
     "start_time": "2025-05-26T08:20:34.557050Z"
    }
   },
   "cell_type": "code",
   "source": [
    "class GradeDocuments(BaseModel):\n",
    "    \"\"\"Grade documents using a binary score for relevance check.\"\"\"\n",
    "\n",
    "    binary_score: str = Field(\n",
    "        description=\"Relevance score: 'yes' if relevant, or 'no' if not relevant\"\n",
    "    )"
   ],
   "id": "c7ca77c94bd81d37",
   "outputs": [],
   "execution_count": 30
  },
  {
   "metadata": {
    "ExecuteTime": {
     "end_time": "2025-05-26T08:20:35.809716Z",
     "start_time": "2025-05-26T08:20:35.789159Z"
    }
   },
   "cell_type": "code",
   "source": "grader_model = init_chat_model(\"openai:gpt-4o-mini\", temperature=0)",
   "id": "aa258cda953413cc",
   "outputs": [],
   "execution_count": 31
  },
  {
   "metadata": {
    "ExecuteTime": {
     "end_time": "2025-05-26T08:58:07.235619Z",
     "start_time": "2025-05-26T08:58:07.229653Z"
    }
   },
   "cell_type": "code",
   "source": [
    "def generate_query_or_respond(state: MessagesState):\n",
    "    \"\"\"Call the model to generate a response based on the current state. Given\n",
    "    the question, it will decide to retrieve using the retriever tool, or simply respond to the user.\n",
    "    \"\"\"\n",
    "    system_message = {\n",
    "    \"role\": \"system\",\n",
    "    \"content\": (\n",
    "        \"You are an assistant who only answers based on the tools provided.\"\n",
    "        \"If unsure, or not given the appropriate data, \"\n",
    "        \"reply: 'The question is beyond the scope of information I have access to.' \"\n",
    "        \"Absolutely do not speculate or make up information.\"\n",
    "    )\n",
    "}\n",
    "    print(f\"generate_query_or_respond\")\n",
    "    response = (\n",
    "        grader_model\n",
    "        .bind_tools(arr_rag_tool).invoke([system_message] + state[\"messages\"])\n",
    "    )\n",
    "    return {\"messages\": [response]}"
   ],
   "id": "869f90f6ae985e8b",
   "outputs": [],
   "execution_count": 90
  },
  {
   "metadata": {
    "ExecuteTime": {
     "end_time": "2025-05-26T08:58:08.819122Z",
     "start_time": "2025-05-26T08:58:08.813550Z"
    }
   },
   "cell_type": "code",
   "source": [
    "def grade_documents(\n",
    "    state: MessagesState,\n",
    ") -> Literal[\"generate_answer\", \"rewrite_question\"]:\n",
    "    \"\"\"Determine whether the retrieved documents are relevant to the question.\"\"\"\n",
    "    question = state[\"messages\"][0].content\n",
    "    context = state[\"messages\"][-1].content\n",
    "\n",
    "    prompt = grade_prompt.format(question=question, context=context)\n",
    "    response = (\n",
    "        grader_model\n",
    "        .with_structured_output(GradeDocuments).invoke(\n",
    "            [{\"role\": \"user\", \"content\": prompt}]\n",
    "        )\n",
    "    )\n",
    "    score = response.binary_score\n",
    "    print(f\"grade_documents:{score}\")\n",
    "    if score == \"yes\":\n",
    "        return \"generate_answer\"\n",
    "    else:\n",
    "        return \"rewrite_question\""
   ],
   "id": "fd02316816e78f1d",
   "outputs": [],
   "execution_count": 91
  },
  {
   "metadata": {
    "ExecuteTime": {
     "end_time": "2025-05-26T08:58:12.723468Z",
     "start_time": "2025-05-26T08:58:12.719540Z"
    }
   },
   "cell_type": "code",
   "source": [
    "rewrite_prompt = (\n",
    "    \"Look at the input and try to reason about the underlying semantic intent / meaning.\\n\"\n",
    "    \"Here is the initial question:\"\n",
    "    \"\\n ------- \\n\"\n",
    "    \"{question}\"\n",
    "    \"\\n ------- \\n\"\n",
    "    \"Formulate an improved question:\"\n",
    ")"
   ],
   "id": "70c4f35f290d12bc",
   "outputs": [],
   "execution_count": 93
  },
  {
   "metadata": {
    "ExecuteTime": {
     "end_time": "2025-05-26T08:58:13.600536Z",
     "start_time": "2025-05-26T08:58:13.593572Z"
    }
   },
   "cell_type": "code",
   "source": [
    "def rewrite_question(state: MessagesState):\n",
    "    \"\"\"Rewrite the original user question.\"\"\"\n",
    "    print(\"rewrite_question\")\n",
    "    messages = state[\"messages\"]\n",
    "    question = messages[0].content\n",
    "    prompt = rewrite_prompt.format(question=question)\n",
    "    response = grader_model.invoke([{\"role\": \"user\", \"content\": prompt}])\n",
    "    return {\"messages\": [{\"role\": \"user\", \"content\": response.content}]}"
   ],
   "id": "693a5108038766d2",
   "outputs": [],
   "execution_count": 94
  },
  {
   "metadata": {
    "ExecuteTime": {
     "end_time": "2025-05-26T08:58:15.047926Z",
     "start_time": "2025-05-26T08:58:15.043026Z"
    }
   },
   "cell_type": "code",
   "source": [
    "GENERATE_PROMPT = (\n",
    "    \"You are an assistant for question-answering tasks. \"\n",
    "    \"Use the following pieces of retrieved context to answer the question. \"\n",
    "    \"If you don't know the answer, just say that you don't know. \"\n",
    "    \"Use three sentences maximum and keep the answer concise.\\n\"\n",
    "    \"Question: {question} \\n\"\n",
    "    \"Context: {context}\"\n",
    ")\n",
    "\n",
    "\n",
    "def generate_answer(state: MessagesState):\n",
    "    print(\"generate_answer\")\n",
    "    \"\"\"Generate an answer.\"\"\"\n",
    "    question = state[\"messages\"][0].content\n",
    "    context = state[\"messages\"][-1].content\n",
    "    prompt = GENERATE_PROMPT.format(question=question, context=context)\n",
    "    response = grader_model.invoke([{\"role\": \"user\", \"content\": prompt}])\n",
    "    return {\"messages\": [response]}"
   ],
   "id": "c83c191ff5a65d70",
   "outputs": [],
   "execution_count": 95
  },
  {
   "metadata": {
    "ExecuteTime": {
     "end_time": "2025-05-26T08:58:17.305330Z",
     "start_time": "2025-05-26T08:58:17.293701Z"
    }
   },
   "cell_type": "code",
   "source": [
    "from langgraph.graph import StateGraph, START, END\n",
    "from langgraph.prebuilt import ToolNode\n",
    "from langgraph.prebuilt import tools_condition\n"
   ],
   "id": "7ebfd5463e09c83d",
   "outputs": [],
   "execution_count": 96
  },
  {
   "metadata": {
    "ExecuteTime": {
     "end_time": "2025-05-26T08:58:17.997266Z",
     "start_time": "2025-05-26T08:58:17.992812Z"
    }
   },
   "cell_type": "code",
   "source": [
    "def tool_rag_node():\n",
    "    print(\"tool_rag_node\")\n",
    "    return ToolNode(arr_rag_tool)"
   ],
   "id": "e6d5e61653bfe5a9",
   "outputs": [],
   "execution_count": 97
  },
  {
   "metadata": {
    "ExecuteTime": {
     "end_time": "2025-05-26T09:12:05.229673Z",
     "start_time": "2025-05-26T09:12:05.225691Z"
    }
   },
   "cell_type": "code",
   "source": "workflow = StateGraph(MessagesState)",
   "id": "ba55c0e30d282ec9",
   "outputs": [],
   "execution_count": 113
  },
  {
   "metadata": {
    "ExecuteTime": {
     "end_time": "2025-05-26T09:12:06.068398Z",
     "start_time": "2025-05-26T09:12:06.057205Z"
    }
   },
   "cell_type": "code",
   "source": [
    "workflow.add_node(generate_query_or_respond)\n",
    "workflow.add_node(\"retrieve\", tool_rag_node())\n",
    "workflow.add_node(rewrite_question)\n",
    "workflow.add_node(generate_answer)\n",
    "\n",
    "workflow.add_edge(START, \"generate_query_or_respond\")\n",
    "\n",
    "workflow.add_conditional_edges(\n",
    "    \"generate_query_or_respond\",\n",
    "    # Assess LLM decision (call `retriever_tool` tool or respond to the user)\n",
    "    tools_condition,\n",
    "    {\n",
    "        # Translate the condition outputs to nodes in our graph\n",
    "        \"tools\": \"retrieve\",\n",
    "        END: END,\n",
    "    },\n",
    ")\n",
    "\n",
    "workflow.add_conditional_edges(\n",
    "    \"retrieve\",\n",
    "    # Assess agent decision\n",
    "    grade_documents,\n",
    ")\n",
    "workflow.add_edge(\"generate_answer\", END)\n",
    "workflow.add_edge(\"rewrite_question\", \"generate_query_or_respond\")\n",
    "graph = workflow.compile(name=\"rag_lang_graph\")"
   ],
   "id": "6811f3ba336cef0a",
   "outputs": [
    {
     "name": "stdout",
     "output_type": "stream",
     "text": [
      "tool_rag_node\n"
     ]
    }
   ],
   "execution_count": 114
  },
  {
   "metadata": {
    "ExecuteTime": {
     "end_time": "2025-05-26T09:12:08.572075Z",
     "start_time": "2025-05-26T09:12:08.404701Z"
    }
   },
   "cell_type": "code",
   "source": [
    "from IPython.display import Image, display\n",
    "\n",
    "display(Image(graph.get_graph().draw_mermaid_png()))"
   ],
   "id": "93d7de6a4d600b78",
   "outputs": [
    {
     "data": {
      "image/png": "[encoded data removed]",
      "text/plain": [
       "<IPython.core.display.Image object>"
      ]
     },
     "metadata": {},
     "output_type": "display_data"
    }
   ],
   "execution_count": 115
  },
  {
   "metadata": {
    "ExecuteTime": {
     "end_time": "2025-05-26T09:12:16.146276Z",
     "start_time": "2025-05-26T09:12:11.353403Z"
    }
   },
   "cell_type": "code",
   "source": [
    "response = graph.invoke({\n",
    "        \"messages\": [\n",
    "            {\n",
    "                \"role\": \"user\",\n",
    "                \"content\": \"Summarize data of Canada\",\n",
    "            }\n",
    "        ]\n",
    "    })\n",
    "response[\"messages\"][-1].content"
   ],
   "id": "c341ea5fa88e6d1c",
   "outputs": [
    {
     "name": "stdout",
     "output_type": "stream",
     "text": [
      "generate_query_or_respond\n",
      "grade_documents:yes\n",
      "generate_answer\n"
     ]
    },
    {
     "data": {
      "text/plain": [
       "'Canada, located in the Americas, had a population of approximately 33.39 million in 2007, with a life expectancy of 80.65 years and a GDP per capita of about $36,319. In 1977, the population was around 23.80 million, with a life expectancy of 74.21 years and a GDP per capita of approximately $22,091. Over the decades, Canada has seen improvements in life expectancy and GDP per capita.'"
      ]
     },
     "execution_count": 116,
     "metadata": {},
     "output_type": "execute_result"
    }
   ],
   "execution_count": 116
  }
 ],
 "metadata": {
  "kernelspec": {
   "display_name": "Python 3",
   "language": "python",
   "name": "python3"
  },
  "language_info": {
   "codemirror_mode": {
    "name": "ipython",
    "version": 2
   },
   "file_extension": ".py",
   "mimetype": "text/x-python",
   "name": "python",
   "nbconvert_exporter": "python",
   "pygments_lexer": "ipython2",
   "version": "2.7.6"
  }
 },
 "nbformat": 4,
 "nbformat_minor": 5
}
