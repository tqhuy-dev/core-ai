{
 "cells": [
  {
   "cell_type": "code",
   "id": "initial_id",
   "metadata": {
    "collapsed": true,
    "ExecuteTime": {
     "end_time": "2025-05-23T03:52:53.449740Z",
     "start_time": "2025-05-23T03:52:53.381342Z"
    }
   },
   "source": [
    "from langchain_openai import ChatOpenAI, OpenAIEmbeddings\n",
    "import os, getpass\n",
    "from langchain.memory import ConversationBufferMemory\n",
    "from langchain_chroma import Chroma\n",
    "from langchain.chains import ConversationalRetrievalChain\n",
    "from langchain.prompts import ChatPromptTemplate\n",
    "from langchain_core.callbacks import StdOutCallbackHandler\n",
    "import gradio as gr\n",
    "from langchain_tavily import TavilySearch\n",
    "\n",
    "from agents import  RAGAgentLangChainOpenAI\n",
    "from agents.rag_agents_lang_chain import rag_search_internal_documents"
   ],
   "outputs": [],
   "execution_count": 13
  },
  {
   "metadata": {
    "ExecuteTime": {
     "end_time": "2025-05-23T03:49:21.168015Z",
     "start_time": "2025-05-23T03:49:03.061557Z"
    }
   },
   "cell_type": "code",
   "source": [
    "if not os.environ.get(\"OPENAI_API_KEY\"):\n",
    "    os.environ[\"OPENAI_API_KEY\"] = getpass.getpass(\"Enter API key for OpenAI: \")"
   ],
   "id": "8c1b014c20b7be1e",
   "outputs": [],
   "execution_count": 2
  },
  {
   "metadata": {
    "ExecuteTime": {
     "end_time": "2025-05-23T03:53:27.749183Z",
     "start_time": "2025-05-23T03:53:22.726402Z"
    }
   },
   "cell_type": "code",
   "source": [
    "if not os.environ.get(\"TAVILY_API_KEY\"):\n",
    "    os.environ[\"TAVILY_API_KEY\"] = getpass.getpass(\"Enter Tavily API key for OpenAI: \")"
   ],
   "id": "f8756327eea3c9ce",
   "outputs": [],
   "execution_count": 15
  },
  {
   "metadata": {
    "ExecuteTime": {
     "end_time": "2025-05-23T03:49:23.525753Z",
     "start_time": "2025-05-23T03:49:23.522184Z"
    }
   },
   "cell_type": "code",
   "source": "memory = ConversationBufferMemory(memory_key=\"chat_history\", return_messages=True)",
   "id": "ebb736a07881dd83",
   "outputs": [
    {
     "name": "stderr",
     "output_type": "stream",
     "text": [
      "/var/folders/dk/8plcwpv53gg0_dg9fkx_rgr00000gn/T/ipykernel_14210/1046491335.py:1: LangChainDeprecationWarning: Please see the migration guide at: https://python.langchain.com/docs/versions/migrating_memory/\n",
      "  memory = ConversationBufferMemory(memory_key=\"chat_history\", return_messages=True)\n"
     ]
    }
   ],
   "execution_count": 3
  },
  {
   "metadata": {
    "ExecuteTime": {
     "end_time": "2025-05-23T03:49:44.183763Z",
     "start_time": "2025-05-23T03:49:44.001418Z"
    }
   },
   "cell_type": "code",
   "source": [
    "embedding = OpenAIEmbeddings()\n",
    "vectorstore = Chroma(persist_directory=f\"../db/rag_db\", embedding_function=embedding)"
   ],
   "id": "4de82cf2cc743a06",
   "outputs": [],
   "execution_count": 4
  },
  {
   "metadata": {
    "ExecuteTime": {
     "end_time": "2025-05-23T03:50:07.561790Z",
     "start_time": "2025-05-23T03:50:07.538170Z"
    }
   },
   "cell_type": "code",
   "source": "llm_openai = ChatOpenAI(temperature=0.7 , model=\"gpt-4o-mini\")",
   "id": "4c68f9085562b54a",
   "outputs": [],
   "execution_count": 5
  },
  {
   "metadata": {
    "ExecuteTime": {
     "end_time": "2025-05-23T03:50:08.501184Z",
     "start_time": "2025-05-23T03:50:08.497596Z"
    }
   },
   "cell_type": "code",
   "source": [
    "custom_prompt = ChatPromptTemplate.from_template(\n",
    "\"\"\"Use the information below to answer the user's question.\n",
    "If you can't find a suitable answer, just say you don't know.\n",
    "Don't give wrong or incorrect answers.\n",
    "\n",
    "{context}\n",
    "\n",
    "Câu hỏi: {question}\n",
    "\"\"\"\n",
    ")"
   ],
   "id": "3ba630ddfb73e044",
   "outputs": [],
   "execution_count": 6
  },
  {
   "metadata": {
    "ExecuteTime": {
     "end_time": "2025-05-23T03:50:11.339313Z",
     "start_time": "2025-05-23T03:50:11.334995Z"
    }
   },
   "cell_type": "code",
   "source": "ragLangChainOpenAI = RAGAgentLangChainOpenAI(memory=memory , vector_store=vectorstore, prompt_template=custom_prompt, llm=llm_openai)",
   "id": "b6bd3766029da59f",
   "outputs": [],
   "execution_count": 7
  },
  {
   "metadata": {
    "ExecuteTime": {
     "end_time": "2025-05-22T10:49:02.303088Z",
     "start_time": "2025-05-22T10:48:56.874075Z"
    }
   },
   "cell_type": "code",
   "source": "ragLangChainOpenAI.invoke(\"Who is Alex Chen\")",
   "id": "848adb070e832be0",
   "outputs": [
    {
     "name": "stdout",
     "output_type": "stream",
     "text": [
      "\n",
      "\n",
      "\u001B[1m> Entering new ConversationalRetrievalChain chain...\u001B[0m\n",
      "\n",
      "\n",
      "\u001B[1m> Entering new LLMChain chain...\u001B[0m\n",
      "Prompt after formatting:\n",
      "\u001B[32;1m\u001B[1;3mGiven the following conversation and a follow up question, rephrase the follow up question to be a standalone question, in its original language.\n",
      "\n",
      "Chat History:\n",
      "\n",
      "Human: Alex Chen\n",
      "Assistant: I don't know.\n",
      "Follow Up Input: Who is Alex Chen\n",
      "Standalone question:\u001B[0m\n",
      "\n",
      "\u001B[1m> Finished chain.\u001B[0m\n",
      "\n",
      "\n",
      "\u001B[1m> Entering new StuffDocumentsChain chain...\u001B[0m\n",
      "\n",
      "\n",
      "\u001B[1m> Entering new LLMChain chain...\u001B[0m\n",
      "Prompt after formatting:\n",
      "\u001B[32;1m\u001B[1;3mHuman: Use the information below to answer the user's question.\n",
      "If you can't find a suitable answer, just say you don't know.\n",
      "Don't give wrong or incorrect answers.\n",
      "\n",
      "# HR Record\n",
      "\n",
      "# Alex Chen\n",
      "\n",
      "## Summary\n",
      "- **Date of Birth:** March 15, 1990  \n",
      "- **Job Title:** Backend Software Engineer  \n",
      "- **Location:** San Francisco, California  \n",
      "\n",
      "## Insurellm Career Progression\n",
      "- **April 2020:** Joined Insurellm as a Junior Backend Developer. Focused on building APIs to enhance customer data security.\n",
      "- **October 2021:** Promoted to Backend Software Engineer. Took on leadership for a key project developing a microservices architecture to support the company's growing platform.\n",
      "- **March 2023:** Awarded the title of Senior Backend Software Engineer due to exemplary performance in scaling backend services, reducing downtime by 30% over six months.\n",
      "\n",
      "## Annual Performance History\n",
      "- **2020:**  \n",
      "  - Completed onboarding successfully.  \n",
      "  - Met expectations in delivering project milestones.  \n",
      "  - Received positive feedback from the team leads.\n",
      "\n",
      "- **2021:**  \n",
      "  - Achieved a 95% success rate in project delivery timelines.  \n",
      "  - Awarded \"Rising Star\" at the annual company gala for outstanding contributions.\n",
      "\n",
      "## Other HR Notes\n",
      "- Participates regularly in Insurellm's Diversity & Inclusion initiatives, championing tech accessibility for underrepresented communities.\n",
      "- Completed several certifications in cloud architecture and DevOps, contributing to professional growth.\n",
      "- Plans for a professional development course in AI and machine learning to further enhance backend capabilities in Insurellm's offerings.\n",
      "- Acknowledged for volunteer efforts in local tech meetups, bringing seasoned engineers to mentor aspiring coders.  \n",
      "\n",
      "Alex Chen continues to be a vital asset at Insurellm, contributing significantly to innovative backend solutions that help shape the future of insurance technology.\n",
      "\n",
      "## Other HR Notes\n",
      "- Alex Thomson is an active member of the Diversity and Inclusion committee at Insurellm and has participated in various community outreach programs.  \n",
      "- Alex has received external training on advanced CRM usage, which has subsequently improved team efficiency and productivity.\n",
      "- Continuous professional development through attending sales conventions and workshops, with plans to pursue certification in Sales Enablement in 2024.\n",
      "- Recognized by peers for promoting a supportive and high-energy team environment, often organizing team-building activities to enhance camaraderie within the SDR department. \n",
      "\n",
      "--- \n",
      "**Comment:** Alex Thomson is considered a cornerstone of Insurellm’s sales team and has a bright future within the organization.\n",
      "\n",
      "- **Interests**:  \n",
      "  - In Alex's spare time, they enjoy participating in community volunteer programs, particularly those focused on financial literacy.  \n",
      "  - Alex is also an avid runner and has participated in several charity marathons.  \n",
      "\n",
      "- **Feedback from HR**:  \n",
      "  - Alex Harper is noted for their work ethic, positive attitude, and willingness to go above and beyond for both clients and colleagues. Recognized for fostering a team spirit within the SDR team.\n",
      "\n",
      "Câu hỏi: Who is Alex Chen?\n",
      "\u001B[0m\n",
      "\n",
      "\u001B[1m> Finished chain.\u001B[0m\n",
      "\n",
      "\u001B[1m> Finished chain.\u001B[0m\n",
      "\n",
      "\u001B[1m> Finished chain.\u001B[0m\n"
     ]
    },
    {
     "data": {
      "text/plain": [
       "{'question': 'Who is Alex Chen',\n",
       " 'chat_history': [HumanMessage(content='Alex Chen', additional_kwargs={}, response_metadata={}),\n",
       "  AIMessage(content=\"I don't know.\", additional_kwargs={}, response_metadata={}),\n",
       "  HumanMessage(content='Who is Alex Chen', additional_kwargs={}, response_metadata={}),\n",
       "  AIMessage(content=\"Alex Chen is a Backend Software Engineer at Insurellm, located in San Francisco, California. He was born on March 15, 1990. Alex joined Insurellm in April 2020 as a Junior Backend Developer, was promoted to Backend Software Engineer in October 2021, and in March 2023, he was awarded the title of Senior Backend Software Engineer for his exemplary performance. He has a strong focus on building APIs and developing microservices architecture, significantly contributing to the company's backend solutions. Alex is also involved in diversity and inclusion initiatives and has plans for further professional development in AI and machine learning.\", additional_kwargs={}, response_metadata={})],\n",
       " 'answer': \"Alex Chen is a Backend Software Engineer at Insurellm, located in San Francisco, California. He was born on March 15, 1990. Alex joined Insurellm in April 2020 as a Junior Backend Developer, was promoted to Backend Software Engineer in October 2021, and in March 2023, he was awarded the title of Senior Backend Software Engineer for his exemplary performance. He has a strong focus on building APIs and developing microservices architecture, significantly contributing to the company's backend solutions. Alex is also involved in diversity and inclusion initiatives and has plans for further professional development in AI and machine learning.\"}"
      ]
     },
     "execution_count": 14,
     "metadata": {},
     "output_type": "execute_result"
    }
   ],
   "execution_count": 14
  },
  {
   "metadata": {
    "ExecuteTime": {
     "end_time": "2025-05-22T03:23:54.521560Z",
     "start_time": "2025-05-22T03:23:54.311216Z"
    }
   },
   "cell_type": "code",
   "source": [
    "def chat(question, history):\n",
    "    result_conversation = ragLangChainOpenAI.invoke(question)\n",
    "    return result_conversation[\"answer\"]\n",
    "\n",
    "\n",
    "view = gr.ChatInterface(chat, type=\"messages\").launch()"
   ],
   "id": "728ccac718345267",
   "outputs": [
    {
     "name": "stdout",
     "output_type": "stream",
     "text": [
      "* Running on local URL:  http://127.0.0.1:7861\n",
      "* To create a public link, set `share=True` in `launch()`.\n"
     ]
    },
    {
     "data": {
      "text/plain": [
       "<IPython.core.display.HTML object>"
      ],
      "text/html": [
       "<div><iframe src=\"http://127.0.0.1:7861/\" width=\"100%\" height=\"500\" allow=\"autoplay; camera; microphone; clipboard-read; clipboard-write;\" frameborder=\"0\" allowfullscreen></iframe></div>"
      ]
     },
     "metadata": {},
     "output_type": "display_data"
    }
   ],
   "execution_count": 12
  },
  {
   "metadata": {
    "ExecuteTime": {
     "end_time": "2025-05-23T03:50:16.705712Z",
     "start_time": "2025-05-23T03:50:16.702611Z"
    }
   },
   "cell_type": "code",
   "source": "rag_internal_tools = rag_search_internal_documents(ragLangChainOpenAI)",
   "id": "d2106b979f371d40",
   "outputs": [],
   "execution_count": 8
  },
  {
   "metadata": {
    "ExecuteTime": {
     "end_time": "2025-05-23T03:50:24.541481Z",
     "start_time": "2025-05-23T03:50:20.577214Z"
    }
   },
   "cell_type": "code",
   "source": "rag_internal_tools.invoke(\"Who is Alex Chen\")",
   "id": "715f59f73cfc4519",
   "outputs": [
    {
     "name": "stdout",
     "output_type": "stream",
     "text": [
      "\n",
      "\n",
      "\u001B[1m> Entering new ConversationalRetrievalChain chain...\u001B[0m\n",
      "\n",
      "\n",
      "\u001B[1m> Entering new StuffDocumentsChain chain...\u001B[0m\n",
      "\n",
      "\n",
      "\u001B[1m> Entering new LLMChain chain...\u001B[0m\n",
      "Prompt after formatting:\n",
      "\u001B[32;1m\u001B[1;3mHuman: Use the information below to answer the user's question.\n",
      "If you can't find a suitable answer, just say you don't know.\n",
      "Don't give wrong or incorrect answers.\n",
      "\n",
      "## Other HR Notes\n",
      "- Participates regularly in Insurellm's Diversity & Inclusion initiatives, championing tech accessibility for underrepresented communities.\n",
      "- Completed several certifications in cloud architecture and DevOps, contributing to professional growth.\n",
      "- Plans for a professional development course in AI and machine learning to further enhance backend capabilities in Insurellm's offerings.\n",
      "- Acknowledged for volunteer efforts in local tech meetups, bringing seasoned engineers to mentor aspiring coders.  \n",
      "\n",
      "Alex Chen continues to be a vital asset at Insurellm, contributing significantly to innovative backend solutions that help shape the future of insurance technology.\n",
      "\n",
      "# HR Record\n",
      "\n",
      "# Alex Chen\n",
      "\n",
      "## Summary\n",
      "- **Date of Birth:** March 15, 1990  \n",
      "- **Job Title:** Backend Software Engineer  \n",
      "- **Location:** San Francisco, California  \n",
      "\n",
      "## Insurellm Career Progression\n",
      "- **April 2020:** Joined Insurellm as a Junior Backend Developer. Focused on building APIs to enhance customer data security.\n",
      "- **October 2021:** Promoted to Backend Software Engineer. Took on leadership for a key project developing a microservices architecture to support the company's growing platform.\n",
      "- **March 2023:** Awarded the title of Senior Backend Software Engineer due to exemplary performance in scaling backend services, reducing downtime by 30% over six months.\n",
      "\n",
      "## Annual Performance History\n",
      "- **2020:**  \n",
      "  - Completed onboarding successfully.  \n",
      "  - Met expectations in delivering project milestones.  \n",
      "  - Received positive feedback from the team leads.\n",
      "\n",
      "- **2021:**  \n",
      "  - Achieved a 95% success rate in project delivery timelines.  \n",
      "  - Awarded \"Rising Star\" at the annual company gala for outstanding contributions.\n",
      "\n",
      "## Other HR Notes\n",
      "- Alex Thomson is an active member of the Diversity and Inclusion committee at Insurellm and has participated in various community outreach programs.  \n",
      "- Alex has received external training on advanced CRM usage, which has subsequently improved team efficiency and productivity.\n",
      "- Continuous professional development through attending sales conventions and workshops, with plans to pursue certification in Sales Enablement in 2024.\n",
      "- Recognized by peers for promoting a supportive and high-energy team environment, often organizing team-building activities to enhance camaraderie within the SDR department. \n",
      "\n",
      "--- \n",
      "**Comment:** Alex Thomson is considered a cornerstone of Insurellm’s sales team and has a bright future within the organization.\n",
      "\n",
      "- **Interests**:  \n",
      "  - In Alex's spare time, they enjoy participating in community volunteer programs, particularly those focused on financial literacy.  \n",
      "  - Alex is also an avid runner and has participated in several charity marathons.  \n",
      "\n",
      "- **Feedback from HR**:  \n",
      "  - Alex Harper is noted for their work ethic, positive attitude, and willingness to go above and beyond for both clients and colleagues. Recognized for fostering a team spirit within the SDR team.\n",
      "\n",
      "Câu hỏi: Who is Alex Chen\n",
      "\u001B[0m\n",
      "\n",
      "\u001B[1m> Finished chain.\u001B[0m\n",
      "\n",
      "\u001B[1m> Finished chain.\u001B[0m\n",
      "\n",
      "\u001B[1m> Finished chain.\u001B[0m\n"
     ]
    },
    {
     "data": {
      "text/plain": [
       "'Alex Chen is a Backend Software Engineer at Insurellm, based in San Francisco, California. He was born on March 15, 1990. Alex joined Insurellm in April 2020 as a Junior Backend Developer, focusing on building APIs for customer data security. He was promoted to Backend Software Engineer in October 2021 and then to Senior Backend Software Engineer in March 2023 due to his exemplary performance in scaling backend services. Alex is actively involved in Diversity & Inclusion initiatives and has completed certifications in cloud architecture and DevOps. He is recognized for his contributions to innovative backend solutions in insurance technology.'"
      ]
     },
     "execution_count": 9,
     "metadata": {},
     "output_type": "execute_result"
    }
   ],
   "execution_count": 9
  },
  {
   "metadata": {
    "ExecuteTime": {
     "end_time": "2025-05-23T03:57:51.634313Z",
     "start_time": "2025-05-23T03:57:51.628167Z"
    }
   },
   "cell_type": "code",
   "source": "tavily = TavilySearch(max_results=1 , topic='general')",
   "id": "771e6c6c65826e92",
   "outputs": [],
   "execution_count": 16
  },
  {
   "metadata": {
    "ExecuteTime": {
     "end_time": "2025-05-23T03:58:23.173780Z",
     "start_time": "2025-05-23T03:58:23.150152Z"
    }
   },
   "cell_type": "code",
   "source": [
    "import agents\n",
    "\n",
    "prompt_templates = (\n",
    "    \"\"\"You are a Large Language Model trained to support users.\n",
    "- Keep your answers SHORT and to the point.\n",
    "- If you are unsure or do not have enough information, answer honestly: “I don’t know.”\n",
    "- Absolutely do NOT make up stories or over-speculate.\n",
    "\"\"\"\n",
    ")\n",
    "\n",
    "\n",
    "aiAgent = agents.AgentsOpenAIWithTools(tools=[rag_internal_tools, tavily],thread_id='thread_12', prompt_templates=prompt_templates)"
   ],
   "id": "4d087c43c1766b0f",
   "outputs": [],
   "execution_count": 17
  },
  {
   "metadata": {
    "ExecuteTime": {
     "end_time": "2025-05-23T03:58:59.800293Z",
     "start_time": "2025-05-23T03:58:51.793631Z"
    }
   },
   "cell_type": "code",
   "source": "print(aiAgent.invoke(\"How is the weather at HoChiMinh City\").to_dict())",
   "id": "d5e89dead52964e7",
   "outputs": [
    {
     "name": "stdout",
     "output_type": "stream",
     "text": [
      "<agents.dto.base.BaseResponseAgentDto object at 0x1096f5090>\n",
      "{'response': 'The current weather in Ho Chi Minh City is 31.3°C (88.3°F), partly cloudy, with a humidity of 75%. Winds are coming from the SW at 4.9 mph. For more details, you can visit [Weather API](https://www.weatherapi.com/).', 'role': 'user', 'function_tools': [{'name': 'tavily_search', 'content': '{\"query\": \"current weather Ho Chi Minh City\", \"follow_up_questions\": null, \"answer\": null, \"images\": [], \"results\": [{\"title\": \"Weather in Ho Chi Minh City, Vietnam\", \"url\": \"https://www.weatherapi.com/\", \"content\": \"{\\'location\\': {\\'name\\': \\'Ho Chi Minh City\\', \\'region\\': \\'\\', \\'country\\': \\'Vietnam\\', \\'lat\\': 10.75, \\'lon\\': 106.6667, \\'tz_id\\': \\'Asia/Ho_Chi_Minh\\', \\'localtime_epoch\\': 1747972678, \\'localtime\\': \\'2025-05-23 10:57\\'}, \\'current\\': {\\'last_updated_epoch\\': 1747971900, \\'last_updated\\': \\'2025-05-23 10:45\\', \\'temp_c\\': 31.3, \\'temp_f\\': 88.3, \\'is_day\\': 1, \\'condition\\': {\\'text\\': \\'Partly cloudy\\', \\'icon\\': \\'//cdn.weatherapi.com/weather/64x64/day/116.png\\', \\'code\\': 1003}, \\'wind_mph\\': 4.9, \\'wind_kph\\': 7.9, \\'wind_degree\\': 214, \\'wind_dir\\': \\'SW\\', \\'pressure_mb\\': 1006.0, \\'pressure_in\\': 29.71, \\'precip_mm\\': 0.0, \\'precip_in\\': 0.0, \\'humidity\\': 75, \\'cloud\\': 50, \\'feelslike_c\\': 34.0, \\'feelslike_f\\': 93.1, \\'windchill_c\\': 32.9, \\'windchill_f\\': 91.2, \\'heatindex_c\\': 37.0, \\'heatindex_f\\': 98.7, \\'dewpoint_c\\': 21.6, \\'dewpoint_f\\': 70.9, \\'vis_km\\': 10.0, \\'vis_miles\\': 6.0, \\'uv\\': 8.6, \\'gust_mph\\': 5.7, \\'gust_kph\\': 9.1}}\", \"score\": 0.9062609, \"raw_content\": null}], \"response_time\": 3.73}'}], 'question': 'How is the weather at HoChiMinh City'}\n"
     ]
    }
   ],
   "execution_count": 19
  }
 ],
 "metadata": {
  "kernelspec": {
   "display_name": "Python 3",
   "language": "python",
   "name": "python3"
  },
  "language_info": {
   "codemirror_mode": {
    "name": "ipython",
    "version": 2
   },
   "file_extension": ".py",
   "mimetype": "text/x-python",
   "name": "python",
   "nbconvert_exporter": "python",
   "pygments_lexer": "ipython2",
   "version": "2.7.6"
  }
 },
 "nbformat": 4,
 "nbformat_minor": 5
}
