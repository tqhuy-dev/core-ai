{
 "cells": [
  {
   "cell_type": "code",
   "id": "initial_id",
   "metadata": {
    "collapsed": true,
    "ExecuteTime": {
     "end_time": "2025-05-22T03:19:13.275190Z",
     "start_time": "2025-05-22T03:19:13.270735Z"
    }
   },
   "source": [
    "from langchain_openai import ChatOpenAI, OpenAIEmbeddings\n",
    "import os, getpass\n",
    "from langchain.memory import ConversationBufferMemory\n",
    "from langchain_chroma import Chroma\n",
    "from langchain.chains import ConversationalRetrievalChain\n",
    "from langchain.prompts import ChatPromptTemplate\n",
    "from langchain_core.callbacks import StdOutCallbackHandler\n",
    "import gradio as gr\n",
    "from agents import  RAGAgentLangChainOpenAI"
   ],
   "outputs": [],
   "execution_count": 10
  },
  {
   "metadata": {
    "ExecuteTime": {
     "end_time": "2025-05-22T03:14:00.923528Z",
     "start_time": "2025-05-22T03:13:57.522134Z"
    }
   },
   "cell_type": "code",
   "source": [
    "if not os.environ.get(\"OPENAI_API_KEY\"):\n",
    "    os.environ[\"OPENAI_API_KEY\"] = getpass.getpass(\"Enter API key for OpenAI: \")"
   ],
   "id": "8c1b014c20b7be1e",
   "outputs": [],
   "execution_count": 2
  },
  {
   "metadata": {
    "ExecuteTime": {
     "end_time": "2025-05-22T03:14:02.624829Z",
     "start_time": "2025-05-22T03:14:02.621099Z"
    }
   },
   "cell_type": "code",
   "source": "memory = ConversationBufferMemory(memory_key=\"chat_history\", return_messages=True)",
   "id": "ebb736a07881dd83",
   "outputs": [
    {
     "name": "stderr",
     "output_type": "stream",
     "text": [
      "/var/folders/dk/8plcwpv53gg0_dg9fkx_rgr00000gn/T/ipykernel_62145/1046491335.py:1: LangChainDeprecationWarning: Please see the migration guide at: https://python.langchain.com/docs/versions/migrating_memory/\n",
      "  memory = ConversationBufferMemory(memory_key=\"chat_history\", return_messages=True)\n"
     ]
    }
   ],
   "execution_count": 3
  },
  {
   "metadata": {
    "ExecuteTime": {
     "end_time": "2025-05-22T03:14:44.680271Z",
     "start_time": "2025-05-22T03:14:44.490808Z"
    }
   },
   "cell_type": "code",
   "source": [
    "embedding = OpenAIEmbeddings()\n",
    "vectorstore = Chroma(persist_directory=f\"../db/rag_db\", embedding_function=embedding)"
   ],
   "id": "4de82cf2cc743a06",
   "outputs": [],
   "execution_count": 7
  },
  {
   "metadata": {
    "ExecuteTime": {
     "end_time": "2025-05-22T03:16:38.557001Z",
     "start_time": "2025-05-22T03:16:38.537263Z"
    }
   },
   "cell_type": "code",
   "source": "llm_openai = ChatOpenAI(temperature=0.7 , model=\"gpt-4o-mini\")",
   "id": "4c68f9085562b54a",
   "outputs": [],
   "execution_count": 8
  },
  {
   "metadata": {
    "ExecuteTime": {
     "end_time": "2025-05-22T03:17:36.094410Z",
     "start_time": "2025-05-22T03:17:36.091397Z"
    }
   },
   "cell_type": "code",
   "source": [
    "custom_prompt = ChatPromptTemplate.from_template(\n",
    "\"\"\"Use the information below to answer the user's question.\n",
    "If you can't find a suitable answer, just say you don't know.\n",
    "Don't give wrong or incorrect answers.\n",
    "\n",
    "{context}\n",
    "\n",
    "Câu hỏi: {question}\n",
    "\"\"\"\n",
    ")"
   ],
   "id": "3ba630ddfb73e044",
   "outputs": [],
   "execution_count": 9
  },
  {
   "metadata": {
    "ExecuteTime": {
     "end_time": "2025-05-22T03:20:39.305430Z",
     "start_time": "2025-05-22T03:20:39.297738Z"
    }
   },
   "cell_type": "code",
   "source": "ragLangChainOpenAI = RAGAgentLangChainOpenAI(memory=memory , vector_store=vectorstore, prompt_template=custom_prompt, llm=llm_openai)",
   "id": "b6bd3766029da59f",
   "outputs": [],
   "execution_count": 11
  },
  {
   "metadata": {
    "ExecuteTime": {
     "end_time": "2025-05-22T03:23:54.521560Z",
     "start_time": "2025-05-22T03:23:54.311216Z"
    }
   },
   "cell_type": "code",
   "source": [
    "def chat(question, history):\n",
    "    result_conversation = ragLangChainOpenAI.invoke(question)\n",
    "    return result_conversation[\"answer\"]\n",
    "\n",
    "\n",
    "view = gr.ChatInterface(chat, type=\"messages\").launch()"
   ],
   "id": "728ccac718345267",
   "outputs": [
    {
     "name": "stdout",
     "output_type": "stream",
     "text": [
      "* Running on local URL:  http://127.0.0.1:7861\n",
      "* To create a public link, set `share=True` in `launch()`.\n"
     ]
    },
    {
     "data": {
      "text/plain": [
       "<IPython.core.display.HTML object>"
      ],
      "text/html": [
       "<div><iframe src=\"http://127.0.0.1:7861/\" width=\"100%\" height=\"500\" allow=\"autoplay; camera; microphone; clipboard-read; clipboard-write;\" frameborder=\"0\" allowfullscreen></iframe></div>"
      ]
     },
     "metadata": {},
     "output_type": "display_data"
    }
   ],
   "execution_count": 12
  }
 ],
 "metadata": {
  "kernelspec": {
   "display_name": "Python 3",
   "language": "python",
   "name": "python3"
  },
  "language_info": {
   "codemirror_mode": {
    "name": "ipython",
    "version": 2
   },
   "file_extension": ".py",
   "mimetype": "text/x-python",
   "name": "python",
   "nbconvert_exporter": "python",
   "pygments_lexer": "ipython2",
   "version": "2.7.6"
  }
 },
 "nbformat": 4,
 "nbformat_minor": 5
}
