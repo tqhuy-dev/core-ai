{
 "cells": [
  {
   "cell_type": "code",
   "id": "initial_id",
   "metadata": {
    "collapsed": true,
    "ExecuteTime": {
     "end_time": "2025-05-21T07:20:59.517284Z",
     "start_time": "2025-05-21T07:20:58.098179Z"
    }
   },
   "source": [
    "from langchain_openai import  ChatOpenAI\n",
    "import os, getpass\n",
    "from langchain.memory import ConversationBufferMemory\n",
    "from langchain_chroma import Chroma\n",
    "from langchain.embeddings.openai import OpenAIEmbeddings\n",
    "from langchain.chains import ConversationalRetrievalChain\n",
    "from langchain.prompts import ChatPromptTemplate\n",
    "from langchain_core.callbacks import StdOutCallbackHandler\n",
    "    import gradio as gr\n"
   ],
   "outputs": [],
   "execution_count": 5
  },
  {
   "metadata": {
    "ExecuteTime": {
     "end_time": "2025-05-21T02:21:43.913330Z",
     "start_time": "2025-05-21T02:21:30.573580Z"
    }
   },
   "cell_type": "code",
   "source": [
    "if not os.environ.get(\"OPENAI_API_KEY\"):\n",
    "    os.environ[\"OPENAI_API_KEY\"] = getpass.getpass(\"Enter API key for OpenAI: \")"
   ],
   "id": "8c1b014c20b7be1e",
   "outputs": [],
   "execution_count": 3
  },
  {
   "metadata": {
    "ExecuteTime": {
     "end_time": "2025-05-21T02:49:29.261338Z",
     "start_time": "2025-05-21T02:49:29.258352Z"
    }
   },
   "cell_type": "code",
   "source": "memory = ConversationBufferMemory(memory_key='chat_history', return_messages=True)",
   "id": "ebb736a07881dd83",
   "outputs": [],
   "execution_count": 10
  },
  {
   "metadata": {
    "ExecuteTime": {
     "end_time": "2025-05-21T02:49:30.966889Z",
     "start_time": "2025-05-21T02:49:30.947007Z"
    }
   },
   "cell_type": "code",
   "source": [
    "embedding = OpenAIEmbeddings()\n",
    "\n",
    "# Load lại vectorstore từ disk\n",
    "vectorstore = Chroma(persist_directory=f\"../db/rag_db\", embedding_function=embedding)"
   ],
   "id": "4de82cf2cc743a06",
   "outputs": [],
   "execution_count": 11
  },
  {
   "metadata": {
    "ExecuteTime": {
     "end_time": "2025-05-21T02:49:42.565126Z",
     "start_time": "2025-05-21T02:49:42.562444Z"
    }
   },
   "cell_type": "code",
   "source": "retriever = vectorstore.as_retriever()",
   "id": "4c68f9085562b54a",
   "outputs": [],
   "execution_count": 12
  },
  {
   "metadata": {
    "ExecuteTime": {
     "end_time": "2025-05-21T02:49:47.198695Z",
     "start_time": "2025-05-21T02:49:47.179618Z"
    }
   },
   "cell_type": "code",
   "source": [
    "MODEL = \"gpt-4o-mini\"\n",
    "llm = ChatOpenAI(temperature=0.7,model=MODEL)"
   ],
   "id": "bb43a694a58b5034",
   "outputs": [],
   "execution_count": 13
  },
  {
   "metadata": {
    "ExecuteTime": {
     "end_time": "2025-05-21T02:51:45.686098Z",
     "start_time": "2025-05-21T02:51:45.682368Z"
    }
   },
   "cell_type": "code",
   "source": [
    "custom_prompt = ChatPromptTemplate.from_template(\n",
    "\"\"\"Use the information below to answer the user's question.\n",
    "If you can't find a suitable answer, just say you don't know.\n",
    "Don't give wrong or incorrect answers.\n",
    "\n",
    "{context}\n",
    "\n",
    "Câu hỏi: {question}\n",
    "\"\"\"\n",
    ")"
   ],
   "id": "3ba630ddfb73e044",
   "outputs": [],
   "execution_count": 17
  },
  {
   "metadata": {
    "ExecuteTime": {
     "end_time": "2025-05-21T02:55:48.075178Z",
     "start_time": "2025-05-21T02:55:48.069254Z"
    }
   },
   "cell_type": "code",
   "source": [
    "conversation_chain = ConversationalRetrievalChain.from_llm(llm=llm,\n",
    "                                                           combine_docs_chain_kwargs={\"prompt\": custom_prompt},\n",
    "                                                           retriever=retriever,\n",
    "                                                           memory=memory,callbacks=[StdOutCallbackHandler()])"
   ],
   "id": "b6bd3766029da59f",
   "outputs": [],
   "execution_count": 18
  },
  {
   "metadata": {
    "ExecuteTime": {
     "end_time": "2025-05-21T02:56:00.551875Z",
     "start_time": "2025-05-21T02:56:00.370164Z"
    }
   },
   "cell_type": "code",
   "source": [
    "def chat(question, history):\n",
    "    result_conversation = conversation_chain.invoke({\"question\": question})\n",
    "    return result_conversation[\"answer\"]\n",
    "\n",
    "\n",
    "view = gr.ChatInterface(chat, type=\"messages\").launch()"
   ],
   "id": "728ccac718345267",
   "outputs": [
    {
     "name": "stdout",
     "output_type": "stream",
     "text": [
      "* Running on local URL:  http://127.0.0.1:7860\n",
      "* To create a public link, set `share=True` in `launch()`.\n"
     ]
    },
    {
     "data": {
      "text/plain": [
       "<IPython.core.display.HTML object>"
      ],
      "text/html": [
       "<div><iframe src=\"http://127.0.0.1:7860/\" width=\"100%\" height=\"500\" allow=\"autoplay; camera; microphone; clipboard-read; clipboard-write;\" frameborder=\"0\" allowfullscreen></iframe></div>"
      ]
     },
     "metadata": {},
     "output_type": "display_data"
    },
    {
     "name": "stdout",
     "output_type": "stream",
     "text": [
      "\n",
      "\n",
      "\u001B[1m> Entering new ConversationalRetrievalChain chain...\u001B[0m\n"
     ]
    }
   ],
   "execution_count": 21
  },
  {
   "metadata": {
    "ExecuteTime": {
     "end_time": "2025-05-21T07:13:34.760895Z",
     "start_time": "2025-05-21T07:13:34.728145Z"
    }
   },
   "cell_type": "code",
   "source": [
    "if not os.environ.get(\"OPENAI_API_KEY\"):\n",
    "    os.environ[\"OPENAI_API_KEY\"] = getpass.getpass(\"Enter API key for OpenAI: \")"
   ],
   "id": "d5449f1e09a40f55",
   "outputs": [
    {
     "ename": "NameError",
     "evalue": "name 'os' is not defined",
     "output_type": "error",
     "traceback": [
      "\u001B[31m---------------------------------------------------------------------------\u001B[39m",
      "\u001B[31mNameError\u001B[39m                                 Traceback (most recent call last)",
      "\u001B[36mCell\u001B[39m\u001B[36m \u001B[39m\u001B[32mIn[4]\u001B[39m\u001B[32m, line 1\u001B[39m\n\u001B[32m----> \u001B[39m\u001B[32m1\u001B[39m \u001B[38;5;28;01mif\u001B[39;00m \u001B[38;5;129;01mnot\u001B[39;00m \u001B[43mos\u001B[49m.environ.get(\u001B[33m\"\u001B[39m\u001B[33mOPENAI_API_KEY\u001B[39m\u001B[33m\"\u001B[39m):\n\u001B[32m      2\u001B[39m     os.environ[\u001B[33m\"\u001B[39m\u001B[33mOPENAI_API_KEY\u001B[39m\u001B[33m\"\u001B[39m] = getpass.getpass(\u001B[33m\"\u001B[39m\u001B[33mEnter API key for OpenAI: \u001B[39m\u001B[33m\"\u001B[39m)\n",
      "\u001B[31mNameError\u001B[39m: name 'os' is not defined"
     ]
    }
   ],
   "execution_count": 4
  }
 ],
 "metadata": {
  "kernelspec": {
   "display_name": "Python 3",
   "language": "python",
   "name": "python3"
  },
  "language_info": {
   "codemirror_mode": {
    "name": "ipython",
    "version": 2
   },
   "file_extension": ".py",
   "mimetype": "text/x-python",
   "name": "python",
   "nbconvert_exporter": "python",
   "pygments_lexer": "ipython2",
   "version": "2.7.6"
  }
 },
 "nbformat": 4,
 "nbformat_minor": 5
}
