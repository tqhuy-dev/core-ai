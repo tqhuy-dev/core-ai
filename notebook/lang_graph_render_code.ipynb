{
 "cells": [
  {
   "cell_type": "code",
   "id": "initial_id",
   "metadata": {
    "collapsed": true,
    "ExecuteTime": {
     "end_time": "2025-05-30T05:26:50.107950Z",
     "start_time": "2025-05-30T05:26:50.054102Z"
    }
   },
   "source": [
    "import os , getpass\n",
    "\n",
    "from gradio_client.utils import dict_or_str_to_json_file\n",
    "from langchain.chat_models import init_chat_model\n",
    "from pydantic import BaseModel, Field\n",
    "from langchain_core.tools import tool\n",
    "from langgraph.graph import add_messages\n",
    "from typing import TypedDict, Annotated"
   ],
   "outputs": [],
   "execution_count": 66
  },
  {
   "metadata": {
    "ExecuteTime": {
     "end_time": "2025-05-30T04:29:12.856415Z",
     "start_time": "2025-05-30T04:29:12.853352Z"
    }
   },
   "cell_type": "code",
   "source": [
    "if not os.environ.get(\"OPENAI_API_KEY\"):\n",
    "    os.environ[\"OPENAI_API_KEY\"] = getpass.getpass(\"Enter API key for OpenAI: \")"
   ],
   "id": "943f8732410a9dd8",
   "outputs": [],
   "execution_count": 3
  },
  {
   "metadata": {
    "ExecuteTime": {
     "end_time": "2025-05-30T04:58:20.684612Z",
     "start_time": "2025-05-30T04:58:19.654191Z"
    }
   },
   "cell_type": "code",
   "source": [
    "if not os.environ.get(\"GITHUB_TOKEN\"):\n",
    "    os.environ[\"GITHUB_TOKEN\"] = getpass.getpass(\"Enter API key for Github: \")"
   ],
   "id": "1e7f84d845e3b76e",
   "outputs": [],
   "execution_count": 7
  },
  {
   "metadata": {
    "ExecuteTime": {
     "end_time": "2025-05-30T05:19:09.074351Z",
     "start_time": "2025-05-30T05:19:09.054010Z"
    }
   },
   "cell_type": "code",
   "source": "llm = init_chat_model(\"openai:gpt-4o-mini\")",
   "id": "c162ac604e69f707",
   "outputs": [],
   "execution_count": 41
  },
  {
   "metadata": {
    "ExecuteTime": {
     "end_time": "2025-05-30T05:19:10.294144Z",
     "start_time": "2025-05-30T05:19:10.290758Z"
    }
   },
   "cell_type": "code",
   "source": [
    "map_api_template = {\n",
    "    \"golang_api_echo\":\"golang-template-api-echo\",\n",
    "    \"golang_api_gin\":\"golang-template-api-gin\"\n",
    "}"
   ],
   "id": "2157f80de0cb42ce",
   "outputs": [],
   "execution_count": 42
  },
  {
   "metadata": {
    "ExecuteTime": {
     "end_time": "2025-05-30T05:22:23.216153Z",
     "start_time": "2025-05-30T05:22:23.211738Z"
    }
   },
   "cell_type": "code",
   "source": [
    "class GoLangAPIApp(BaseModel):\n",
    "    \"\"\"Generate a GoLang API application type.\"\"\"\n",
    "    app_type: str = Field(\n",
    "        ...,\n",
    "        description=\"The type of GoLang API application to create. \"\n",
    "                    \"Can be 'golang_api_echo' for Echo framework or 'golang_api_gin' for Gin framework. \"\n",
    "                    \"If the user asks for 'golang api echo' or 'golang api dùng gin', \"\n",
    "    )\n",
    "\n",
    "@tool(\"create_golang_api_app\", args_schema=GoLangAPIApp)\n",
    "def create_golang_api_app(app_type: str) -> str:\n",
    "    print(app_type)\n",
    "    return app_type\n"
   ],
   "id": "5a07e4316f17c937",
   "outputs": [],
   "execution_count": 58
  },
  {
   "metadata": {
    "ExecuteTime": {
     "end_time": "2025-05-30T05:25:25.939179Z",
     "start_time": "2025-05-30T05:25:25.934224Z"
    }
   },
   "cell_type": "code",
   "source": "llm_tool = llm.bind_tools([create_golang_api_app])",
   "id": "b4e84737b84414b8",
   "outputs": [],
   "execution_count": 65
  },
  {
   "metadata": {
    "ExecuteTime": {
     "end_time": "2025-05-30T05:24:39.945824Z",
     "start_time": "2025-05-30T05:24:37.957836Z"
    }
   },
   "cell_type": "code",
   "source": [
    "response = llm.bind_tools([create_golang_api_app]).invoke([\n",
    "    # {\"role\": \"system\", \"content\": \"You are a specialized AI designed to interact solely with provided tools. If a user's request is not directly related to the functionality of the available tools, you must respond with: 'NOT within the scope of processing'\"},\n",
    "    {\n",
    "    \"role\": \"user\",\n",
    "    \"content\": \"Create a Golang API Echo.\"\n",
    "}\n",
    "])"
   ],
   "id": "78bf75d79520c66a",
   "outputs": [],
   "execution_count": 63
  },
  {
   "metadata": {
    "ExecuteTime": {
     "end_time": "2025-05-30T05:24:40.488742Z",
     "start_time": "2025-05-30T05:24:40.484117Z"
    }
   },
   "cell_type": "code",
   "source": "response",
   "id": "5e950a81178d7f42",
   "outputs": [
    {
     "data": {
      "text/plain": [
       "AIMessage(content='', additional_kwargs={'tool_calls': [{'id': 'call_rT1og68jxRV4XqpLYppjgWqk', 'function': {'arguments': '{\\n  \"app_type\": \"golang_api_echo\"\\n}', 'name': 'create_golang_api_app'}, 'type': 'function'}], 'refusal': None}, response_metadata={'token_usage': {'completion_tokens': 22, 'prompt_tokens': 112, 'total_tokens': 134, 'completion_tokens_details': {'accepted_prediction_tokens': 0, 'audio_tokens': 0, 'reasoning_tokens': 0, 'rejected_prediction_tokens': 0}, 'prompt_tokens_details': {'audio_tokens': 0, 'cached_tokens': 0}}, 'model_name': 'gpt-4-0613', 'system_fingerprint': None, 'id': 'chatcmpl-BcmWM7BN2WSEp9RJnHlRWGtGQR2tI', 'service_tier': 'default', 'finish_reason': 'tool_calls', 'logprobs': None}, id='run--34c13d48-a615-4321-8680-a4d32aa4a080-0', tool_calls=[{'name': 'create_golang_api_app', 'args': {'app_type': 'golang_api_echo'}, 'id': 'call_rT1og68jxRV4XqpLYppjgWqk', 'type': 'tool_call'}], usage_metadata={'input_tokens': 112, 'output_tokens': 22, 'total_tokens': 134, 'input_token_details': {'audio': 0, 'cache_read': 0}, 'output_token_details': {'audio': 0, 'reasoning': 0}})"
      ]
     },
     "execution_count": 64,
     "metadata": {},
     "output_type": "execute_result"
    }
   ],
   "execution_count": 64
  },
  {
   "metadata": {
    "ExecuteTime": {
     "end_time": "2025-05-30T07:13:22.221766Z",
     "start_time": "2025-05-30T07:13:22.215990Z"
    }
   },
   "cell_type": "code",
   "source": [
    "class InitGitRepoState(TypedDict):\n",
    "    messages: Annotated[list, add_messages]\n",
    "    image_map: dict[str, str]"
   ],
   "id": "2bf0e90ce8556308",
   "outputs": [],
   "execution_count": 67
  },
  {
   "metadata": {
    "ExecuteTime": {
     "end_time": "2025-05-30T07:14:55.104732Z",
     "start_time": "2025-05-30T07:14:55.101447Z"
    }
   },
   "cell_type": "code",
   "source": [
    "def get_app_feature(state: InitGitRepoState):\n",
    "    response_tool = llm_tool.invoke(state[\"messages\"])\n",
    "    pass\n"
   ],
   "id": "33fa72f43c63ef47",
   "outputs": [],
   "execution_count": 68
  },
  {
   "metadata": {},
   "cell_type": "code",
   "outputs": [],
   "execution_count": null,
   "source": "\n",
   "id": "4b87623feab17fcc"
  }
 ],
 "metadata": {
  "kernelspec": {
   "display_name": "Python 3",
   "language": "python",
   "name": "python3"
  },
  "language_info": {
   "codemirror_mode": {
    "name": "ipython",
    "version": 2
   },
   "file_extension": ".py",
   "mimetype": "text/x-python",
   "name": "python",
   "nbconvert_exporter": "python",
   "pygments_lexer": "ipython2",
   "version": "2.7.6"
  }
 },
 "nbformat": 4,
 "nbformat_minor": 5
}
