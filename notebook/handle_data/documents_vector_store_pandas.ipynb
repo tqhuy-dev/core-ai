{
 "cells": [
  {
   "cell_type": "code",
   "id": "initial_id",
   "metadata": {
    "collapsed": true,
    "ExecuteTime": {
     "end_time": "2025-05-26T07:53:02.778983Z",
     "start_time": "2025-05-26T07:53:01.710506Z"
    }
   },
   "source": [
    "from langchain.memory import ConversationBufferMemory\n",
    "from langchain_chroma import Chroma\n",
    "import pandas as pd\n",
    "from langchain_core.documents import Document\n",
    "from langchain_core.prompts import ChatPromptTemplate\n",
    "from langchain_openai import OpenAIEmbeddings, ChatOpenAI\n",
    "from langchain_text_splitters import CharacterTextSplitter, RecursiveCharacterTextSplitter\n",
    "import os, getpass\n",
    "\n",
    "from agents import RAGAgentLangChainOpenAI"
   ],
   "outputs": [],
   "execution_count": 2
  },
  {
   "metadata": {
    "ExecuteTime": {
     "end_time": "2025-05-26T07:53:06.596695Z",
     "start_time": "2025-05-26T07:53:03.297658Z"
    }
   },
   "cell_type": "code",
   "source": [
    "if not os.environ.get(\"OPENAI_API_KEY\"):\n",
    "    os.environ[\"OPENAI_API_KEY\"] = getpass.getpass(\"Enter API key for OpenAI: \")"
   ],
   "id": "ee890dbab9773596",
   "outputs": [],
   "execution_count": 3
  },
  {
   "metadata": {
    "ExecuteTime": {
     "end_time": "2025-05-26T07:53:07.669727Z",
     "start_time": "2025-05-26T07:53:07.665648Z"
    }
   },
   "cell_type": "code",
   "source": [
    "def load_excel_and_convert_to_text(path: str) -> list[str]:\n",
    "    df = pd.read_excel(path)\n",
    "\n",
    "    chunks = []\n",
    "    for idx, row in df.iterrows():\n",
    "        row_text = \", \".join([f\"{col}: {row[col]}\" for col in df.columns])\n",
    "        chunks.append(row_text)\n",
    "\n",
    "    return chunks"
   ],
   "id": "afd5f3ddf72dfec7",
   "outputs": [],
   "execution_count": 4
  },
  {
   "metadata": {
    "ExecuteTime": {
     "end_time": "2025-05-26T07:53:09.330880Z",
     "start_time": "2025-05-26T07:53:09.326654Z"
    }
   },
   "cell_type": "code",
   "source": [
    "def create_vectorstore_from_text_chunks(chunks: list[str]):\n",
    "    docs = [Document(page_content=chunk) for chunk in chunks]\n",
    "\n",
    "    splitter = CharacterTextSplitter(chunk_size=500, chunk_overlap=50)\n",
    "    split_docs = splitter.split_documents(docs)\n",
    "\n",
    "    embeddings = OpenAIEmbeddings()\n",
    "    if os.path.exists('../../db/excel_db'):\n",
    "        Chroma(persist_directory='excel_db', embedding_function=embeddings).delete_collection()\n",
    "    vectorstore = Chroma.from_documents(documents=split_docs,\n",
    "                                            embedding=embeddings,\n",
    "                                            persist_directory='excel_db')\n",
    "    return vectorstore"
   ],
   "id": "b4a613a73f87ef9b",
   "outputs": [],
   "execution_count": 5
  },
  {
   "metadata": {
    "ExecuteTime": {
     "end_time": "2025-05-26T07:53:53.648107Z",
     "start_time": "2025-05-26T07:53:41.717498Z"
    }
   },
   "cell_type": "code",
   "source": [
    "chunks = load_excel_and_convert_to_text(\"../../resources/Out_9.xlsx\")\n",
    "vector_store = create_vectorstore_from_text_chunks(chunks)"
   ],
   "id": "edde9c2c8afed735",
   "outputs": [],
   "execution_count": 7
  },
  {
   "metadata": {
    "ExecuteTime": {
     "end_time": "2025-05-23T07:11:10.487648Z",
     "start_time": "2025-05-23T07:11:10.460422Z"
    }
   },
   "cell_type": "code",
   "source": "llm_openai = ChatOpenAI(temperature=0.7 , model=\"gpt-4o-mini\")",
   "id": "8eb1ad9bbad62130",
   "outputs": [],
   "execution_count": 25
  },
  {
   "metadata": {
    "ExecuteTime": {
     "end_time": "2025-05-23T07:13:21.993743Z",
     "start_time": "2025-05-23T07:13:21.990703Z"
    }
   },
   "cell_type": "code",
   "source": "memory = ConversationBufferMemory(memory_key=\"chat_history\", return_messages=True)",
   "id": "df7ce6bd39f221e",
   "outputs": [],
   "execution_count": 29
  },
  {
   "metadata": {
    "ExecuteTime": {
     "end_time": "2025-05-23T07:13:24.488875Z",
     "start_time": "2025-05-23T07:13:24.485037Z"
    }
   },
   "cell_type": "code",
   "source": [
    "custom_prompt = ChatPromptTemplate.from_template(\n",
    "\"\"\"Use the information below to answer the user's question.\n",
    "If you can't find a suitable answer, just say you don't know.\n",
    "Don't give wrong or incorrect answers.\n",
    "\n",
    "{context}\n",
    "\n",
    "Câu hỏi: {question}\n",
    "\"\"\"\n",
    ")\n",
    "\n",
    "ragLangChainOpenAI = RAGAgentLangChainOpenAI(memory=memory , vector_store=vector_store, prompt_template=custom_prompt, llm=llm_openai)"
   ],
   "id": "2a67eddbeb9c0aa9",
   "outputs": [],
   "execution_count": 30
  },
  {
   "metadata": {
    "ExecuteTime": {
     "end_time": "2025-05-23T07:14:19.390938Z",
     "start_time": "2025-05-23T07:14:12.649061Z"
    }
   },
   "cell_type": "code",
   "source": "ragLangChainOpenAI.invoke(\"Tell me something about the data of Canada\")",
   "id": "8005f6b9bba4eca4",
   "outputs": [
    {
     "name": "stdout",
     "output_type": "stream",
     "text": [
      "\n",
      "\n",
      "\u001B[1m> Entering new ConversationalRetrievalChain chain...\u001B[0m\n",
      "\n",
      "\n",
      "\u001B[1m> Entering new StuffDocumentsChain chain...\u001B[0m\n",
      "\n",
      "\n",
      "\u001B[1m> Entering new LLMChain chain...\u001B[0m\n",
      "Prompt after formatting:\n",
      "\u001B[32;1m\u001B[1;3mHuman: Use the information below to answer the user's question.\n",
      "If you can't find a suitable answer, just say you don't know.\n",
      "Don't give wrong or incorrect answers.\n",
      "\n",
      "Unnamed: 0: 251, country: Canada, continent: Americas, year: 2007, lifeExp: 80.653, pop: 33390141, gdpPercap: 36319.23501, iso_alpha: CAN, iso_num: 124\n",
      "\n",
      "Unnamed: 0: 242, country: Canada, continent: Americas, year: 1962, lifeExp: 71.3, pop: 18985849, gdpPercap: 13462.48555, iso_alpha: CAN, iso_num: 124\n",
      "\n",
      "Unnamed: 0: 250, country: Canada, continent: Americas, year: 2002, lifeExp: 79.77, pop: 31902268, gdpPercap: 33328.96507, iso_alpha: CAN, iso_num: 124\n",
      "\n",
      "Unnamed: 0: 244, country: Canada, continent: Americas, year: 1972, lifeExp: 72.88, pop: 22284500, gdpPercap: 18970.57086, iso_alpha: CAN, iso_num: 124\n",
      "\n",
      "Câu hỏi: Tell me something about the data of Canada\n",
      "\u001B[0m\n",
      "\n",
      "\u001B[1m> Finished chain.\u001B[0m\n",
      "\n",
      "\u001B[1m> Finished chain.\u001B[0m\n",
      "\n",
      "\u001B[1m> Finished chain.\u001B[0m\n"
     ]
    },
    {
     "data": {
      "text/plain": [
       "{'question': 'Tell me something about the data of Canada',\n",
       " 'chat_history': [HumanMessage(content='Tell me something about the data of Canada', additional_kwargs={}, response_metadata={}),\n",
       "  AIMessage(content='The data for Canada includes information from different years, showcasing various indicators such as life expectancy, population, and GDP per capita. For instance, in 2007, Canada had a life expectancy of 80.653 years, a population of 33,390,141, and a GDP per capita of approximately $36,319.24. In contrast, in 1962, the life expectancy was lower at 71.3 years, with a population of 18,985,849 and a GDP per capita of about $13,462.49. This data indicates an increase in life expectancy and GDP per capita over the years, reflecting improvements in health and economic conditions in Canada.', additional_kwargs={}, response_metadata={})],\n",
       " 'answer': 'The data for Canada includes information from different years, showcasing various indicators such as life expectancy, population, and GDP per capita. For instance, in 2007, Canada had a life expectancy of 80.653 years, a population of 33,390,141, and a GDP per capita of approximately $36,319.24. In contrast, in 1962, the life expectancy was lower at 71.3 years, with a population of 18,985,849 and a GDP per capita of about $13,462.49. This data indicates an increase in life expectancy and GDP per capita over the years, reflecting improvements in health and economic conditions in Canada.'}"
      ]
     },
     "execution_count": 31,
     "metadata": {},
     "output_type": "execute_result"
    }
   ],
   "execution_count": 31
  }
 ],
 "metadata": {
  "kernelspec": {
   "display_name": "Python 3",
   "language": "python",
   "name": "python3"
  },
  "language_info": {
   "codemirror_mode": {
    "name": "ipython",
    "version": 2
   },
   "file_extension": ".py",
   "mimetype": "text/x-python",
   "name": "python",
   "nbconvert_exporter": "python",
   "pygments_lexer": "ipython2",
   "version": "2.7.6"
  }
 },
 "nbformat": 4,
 "nbformat_minor": 5
}
