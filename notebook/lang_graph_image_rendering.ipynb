{
 "cells": [
  {
   "cell_type": "code",
   "id": "initial_id",
   "metadata": {
    "collapsed": true,
    "ExecuteTime": {
     "end_time": "2025-05-27T13:03:09.646464Z",
     "start_time": "2025-05-27T13:03:09.642866Z"
    }
   },
   "source": [
    "import os, getpass\n",
    "from openai import OpenAI\n",
    "import base64"
   ],
   "outputs": [],
   "execution_count": 36
  },
  {
   "metadata": {
    "ExecuteTime": {
     "end_time": "2025-05-27T12:25:21.027987Z",
     "start_time": "2025-05-27T12:25:21.023315Z"
    }
   },
   "cell_type": "code",
   "source": [
    "if not os.environ.get(\"OPENAI_API_KEY\"):\n",
    "    os.environ[\"OPENAI_API_KEY\"] = getpass.getpass(\"Enter API key for OpenAI: \")"
   ],
   "id": "d1a479cd3f39ddac",
   "outputs": [],
   "execution_count": 14
  },
  {
   "metadata": {
    "ExecuteTime": {
     "end_time": "2025-05-27T13:04:26.335805Z",
     "start_time": "2025-05-27T13:03:33.692716Z"
    }
   },
   "cell_type": "code",
   "source": [
    "client = OpenAI()\n",
    "\n",
    "response = client.responses.create(\n",
    "    model=\"gpt-4o-mini\",\n",
    "    input=\"Generate an image of gray tabby cat hugging an otter with an orange scarf\",\n",
    "    tools=[{\"type\": \"image_generation\"}],\n",
    ")"
   ],
   "id": "7824a46a9a8bc528",
   "outputs": [],
   "execution_count": 37
  },
  {
   "metadata": {
    "ExecuteTime": {
     "end_time": "2025-05-27T13:06:41.891910Z",
     "start_time": "2025-05-27T13:06:41.879230Z"
    }
   },
   "cell_type": "code",
   "source": [
    "image_data = [\n",
    "    output.result\n",
    "    for output in response.output\n",
    "    if output.type == \"image_generation_call\"\n",
    "]\n",
    "\n",
    "if image_data:\n",
    "    image_base64 = image_data[0]\n",
    "\n",
    "    with open(\"cat_and_otter.png\", \"wb\") as f:\n",
    "        f.write(base64.b64decode(image_base64))\n"
   ],
   "id": "e834404a034585d0",
   "outputs": [],
   "execution_count": 38
  },
  {
   "metadata": {
    "ExecuteTime": {
     "end_time": "2025-05-27T13:17:17.113901Z",
     "start_time": "2025-05-27T13:14:25.798362Z"
    }
   },
   "cell_type": "code",
   "source": [
    "response_fwup = client.responses.create(\n",
    "    model=\"gpt-4o-mini\",\n",
    "    previous_response_id=response.id,\n",
    "    input=\"Now make it look realistic\",\n",
    "    tools=[{\"type\": \"image_generation\"}],\n",
    ")\n",
    "\n",
    "image_data_fwup = [\n",
    "    output.result\n",
    "    for output in response_fwup.output\n",
    "    if output.type == \"image_generation_call\"\n",
    "]\n",
    "\n",
    "if image_data_fwup:\n",
    "    image_base64 = image_data_fwup[0]\n",
    "    with open(\"cat_and_otter_realistic.png\", \"wb\") as f:\n",
    "        f.write(base64.b64decode(image_base64))"
   ],
   "id": "35c2a7936512a91f",
   "outputs": [],
   "execution_count": 39
  },
  {
   "metadata": {
    "ExecuteTime": {
     "end_time": "2025-05-27T13:43:51.176402Z",
     "start_time": "2025-05-27T13:43:44.713778Z"
    }
   },
   "cell_type": "code",
   "source": [
    "link = \"https://encrypted-tbn0.gstatic.com/images?q=tbn:ANd9GcQZIVMfkmve0sdVTfDA5xt3fWQ79Wdb13aB3g&s\"\n",
    "response = client.chat.completions.create(\n",
    "    model=\"gpt-4o-mini\",\n",
    "    messages=[{\n",
    "        \"role\": \"user\",\n",
    "        \"content\": [\n",
    "            {\"type\": \"text\", \"text\": \"What's in this image?\"},\n",
    "            {\n",
    "                \"type\": \"image_url\",\n",
    "                \"image_url\": {\n",
    "                    \"url\": link,\n",
    "                },\n",
    "            },\n",
    "        ],\n",
    "    }],\n",
    ")"
   ],
   "id": "7f211e1d2a5814d5",
   "outputs": [],
   "execution_count": 40
  },
  {
   "metadata": {
    "ExecuteTime": {
     "end_time": "2025-05-27T13:43:59.964346Z",
     "start_time": "2025-05-27T13:43:59.962288Z"
    }
   },
   "cell_type": "code",
   "source": "print(response.choices[0].message.content)",
   "id": "afe3216e0980179",
   "outputs": [
    {
     "name": "stdout",
     "output_type": "stream",
     "text": [
      "The image shows a large, modern recreational vehicle (RV) parked on grass with a scenic background. The RV features a sleek design, with a front cab that includes a raised area for additional sleeping space or storage. The color scheme appears to be primarily white with some gray accents.\n"
     ]
    }
   ],
   "execution_count": 41
  }
 ],
 "metadata": {
  "kernelspec": {
   "display_name": "Python 3",
   "language": "python",
   "name": "python3"
  },
  "language_info": {
   "codemirror_mode": {
    "name": "ipython",
    "version": 2
   },
   "file_extension": ".py",
   "mimetype": "text/x-python",
   "name": "python",
   "nbconvert_exporter": "python",
   "pygments_lexer": "ipython2",
   "version": "2.7.6"
  }
 },
 "nbformat": 4,
 "nbformat_minor": 5
}
