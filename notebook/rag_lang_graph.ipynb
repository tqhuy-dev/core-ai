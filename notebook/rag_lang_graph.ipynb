{
 "cells": [
  {
   "cell_type": "code",
   "id": "initial_id",
   "metadata": {
    "collapsed": true,
    "ExecuteTime": {
     "end_time": "2025-05-21T09:25:40.190742Z",
     "start_time": "2025-05-21T09:25:37.682343Z"
    }
   },
   "source": [
    "import os, getpass\n",
    "from langchain_core.vectorstores import InMemoryVectorStore\n",
    "from langchain_openai import OpenAIEmbeddings\n",
    "from langchain_chroma import Chroma\n",
    "from langchain.tools.retriever import create_retriever_tool\n",
    "from pydantic import BaseModel, Field\n",
    "from langchain.chat_models import init_chat_model\n",
    "from langgraph.graph import MessagesState\n",
    "from typing import Literal\n",
    "import gradio as gr"
   ],
   "outputs": [],
   "execution_count": 1
  },
  {
   "metadata": {
    "ExecuteTime": {
     "end_time": "2025-05-21T09:25:55.008468Z",
     "start_time": "2025-05-21T09:25:40.279449Z"
    }
   },
   "cell_type": "code",
   "source": [
    "if not os.environ.get(\"OPENAI_API_KEY\"):\n",
    "    os.environ[\"OPENAI_API_KEY\"] = getpass.getpass(\"Enter API key for OpenAI: \")"
   ],
   "id": "858fb37f30ff1815",
   "outputs": [],
   "execution_count": 2
  },
  {
   "metadata": {
    "ExecuteTime": {
     "end_time": "2025-05-21T09:25:55.182357Z",
     "start_time": "2025-05-21T09:25:55.048432Z"
    }
   },
   "cell_type": "code",
   "source": "embedding = OpenAIEmbeddings()",
   "id": "b73db78be7b5edd9",
   "outputs": [],
   "execution_count": 3
  },
  {
   "metadata": {
    "ExecuteTime": {
     "end_time": "2025-05-21T09:25:55.602595Z",
     "start_time": "2025-05-21T09:25:55.188493Z"
    }
   },
   "cell_type": "code",
   "source": "vectorstore = Chroma(persist_directory=f\"../db/rag_db\", embedding_function=embedding)",
   "id": "696968b1d1e3468d",
   "outputs": [],
   "execution_count": 4
  },
  {
   "metadata": {
    "ExecuteTime": {
     "end_time": "2025-05-21T09:25:55.612583Z",
     "start_time": "2025-05-21T09:25:55.609554Z"
    }
   },
   "cell_type": "code",
   "source": "retriever = vectorstore.as_retriever()",
   "id": "43ecf159c8fa7f60",
   "outputs": [],
   "execution_count": 5
  },
  {
   "metadata": {
    "ExecuteTime": {
     "end_time": "2025-05-21T09:25:55.627900Z",
     "start_time": "2025-05-21T09:25:55.625708Z"
    }
   },
   "cell_type": "code",
   "source": [
    "retriever_tool = create_retriever_tool(\n",
    "    retriever,\n",
    "    \"retrieve_blog_posts\",\n",
    "    \"Search and return information about Lilian Weng blog posts.\",\n",
    ")"
   ],
   "id": "cf47ac48a025c506",
   "outputs": [],
   "execution_count": 6
  },
  {
   "metadata": {
    "ExecuteTime": {
     "end_time": "2025-05-21T09:25:56.627296Z",
     "start_time": "2025-05-21T09:25:55.641727Z"
    }
   },
   "cell_type": "code",
   "source": "retriever_tool.invoke({\"query\": \"Who is Alex Chen\"})",
   "id": "856d88ee7affae03",
   "outputs": [
    {
     "data": {
      "text/plain": [
       "'## Other HR Notes\\n- Participates regularly in Insurellm\\'s Diversity & Inclusion initiatives, championing tech accessibility for underrepresented communities.\\n- Completed several certifications in cloud architecture and DevOps, contributing to professional growth.\\n- Plans for a professional development course in AI and machine learning to further enhance backend capabilities in Insurellm\\'s offerings.\\n- Acknowledged for volunteer efforts in local tech meetups, bringing seasoned engineers to mentor aspiring coders.  \\n\\nAlex Chen continues to be a vital asset at Insurellm, contributing significantly to innovative backend solutions that help shape the future of insurance technology.\\n\\n# HR Record\\n\\n# Alex Chen\\n\\n## Summary\\n- **Date of Birth:** March 15, 1990  \\n- **Job Title:** Backend Software Engineer  \\n- **Location:** San Francisco, California  \\n\\n## Insurellm Career Progression\\n- **April 2020:** Joined Insurellm as a Junior Backend Developer. Focused on building APIs to enhance customer data security.\\n- **October 2021:** Promoted to Backend Software Engineer. Took on leadership for a key project developing a microservices architecture to support the company\\'s growing platform.\\n- **March 2023:** Awarded the title of Senior Backend Software Engineer due to exemplary performance in scaling backend services, reducing downtime by 30% over six months.\\n\\n## Annual Performance History\\n- **2020:**  \\n  - Completed onboarding successfully.  \\n  - Met expectations in delivering project milestones.  \\n  - Received positive feedback from the team leads.\\n\\n- **2021:**  \\n  - Achieved a 95% success rate in project delivery timelines.  \\n  - Awarded \"Rising Star\" at the annual company gala for outstanding contributions.\\n\\n## Other HR Notes\\n- Alex Thomson is an active member of the Diversity and Inclusion committee at Insurellm and has participated in various community outreach programs.  \\n- Alex has received external training on advanced CRM usage, which has subsequently improved team efficiency and productivity.\\n- Continuous professional development through attending sales conventions and workshops, with plans to pursue certification in Sales Enablement in 2024.\\n- Recognized by peers for promoting a supportive and high-energy team environment, often organizing team-building activities to enhance camaraderie within the SDR department. \\n\\n--- \\n**Comment:** Alex Thomson is considered a cornerstone of Insurellm’s sales team and has a bright future within the organization.\\n\\n- **Interests**:  \\n  - In Alex\\'s spare time, they enjoy participating in community volunteer programs, particularly those focused on financial literacy.  \\n  - Alex is also an avid runner and has participated in several charity marathons.  \\n\\n- **Feedback from HR**:  \\n  - Alex Harper is noted for their work ethic, positive attitude, and willingness to go above and beyond for both clients and colleagues. Recognized for fostering a team spirit within the SDR team.'"
      ]
     },
     "execution_count": 7,
     "metadata": {},
     "output_type": "execute_result"
    }
   ],
   "execution_count": 7
  },
  {
   "metadata": {
    "ExecuteTime": {
     "end_time": "2025-05-21T09:25:56.638409Z",
     "start_time": "2025-05-21T09:25:56.636471Z"
    }
   },
   "cell_type": "code",
   "source": [
    "grade_prompt = (\n",
    "    \"Use the information below to answer the user's question. \"\n",
    "    \"If you can't find a suitable answer, just say you don't know. \"\n",
    "    \"Don't give wrong or incorrect answers. \"\n",
    "    \"{context} \"\n",
    "    \"Câu hỏi: {question} \"\n",
    ")"
   ],
   "id": "91041971cc14e013",
   "outputs": [],
   "execution_count": 8
  },
  {
   "metadata": {
    "ExecuteTime": {
     "end_time": "2025-05-21T09:25:56.651946Z",
     "start_time": "2025-05-21T09:25:56.649667Z"
    }
   },
   "cell_type": "code",
   "source": [
    "class GradeDocuments(BaseModel):\n",
    "    \"\"\"Grade documents using a binary score for relevance check.\"\"\"\n",
    "\n",
    "    binary_score: str = Field(\n",
    "        description=\"Relevance score: 'yes' if relevant, or 'no' if not relevant\"\n",
    "    )"
   ],
   "id": "c7ca77c94bd81d37",
   "outputs": [],
   "execution_count": 9
  },
  {
   "metadata": {
    "ExecuteTime": {
     "end_time": "2025-05-21T09:25:56.673158Z",
     "start_time": "2025-05-21T09:25:56.662103Z"
    }
   },
   "cell_type": "code",
   "source": "grader_model = init_chat_model(\"openai:gpt-4o-mini\", temperature=0)",
   "id": "aa258cda953413cc",
   "outputs": [],
   "execution_count": 10
  },
  {
   "metadata": {
    "ExecuteTime": {
     "end_time": "2025-05-21T09:25:56.681989Z",
     "start_time": "2025-05-21T09:25:56.679483Z"
    }
   },
   "cell_type": "code",
   "source": [
    "def generate_query_or_respond(state: MessagesState):\n",
    "    \"\"\"Call the model to generate a response based on the current state. Given\n",
    "    the question, it will decide to retrieve using the retriever tool, or simply respond to the user.\n",
    "    \"\"\"\n",
    "    response = (\n",
    "        grader_model\n",
    "        .bind_tools([retriever_tool]).invoke(state[\"messages\"])\n",
    "    )\n",
    "    return {\"messages\": [response]}"
   ],
   "id": "869f90f6ae985e8b",
   "outputs": [],
   "execution_count": 11
  },
  {
   "metadata": {
    "ExecuteTime": {
     "end_time": "2025-05-21T09:25:56.695879Z",
     "start_time": "2025-05-21T09:25:56.692986Z"
    }
   },
   "cell_type": "code",
   "source": [
    "def grade_documents(\n",
    "    state: MessagesState,\n",
    ") -> Literal[\"generate_answer\", \"rewrite_question\"]:\n",
    "    \"\"\"Determine whether the retrieved documents are relevant to the question.\"\"\"\n",
    "    question = state[\"messages\"][0].content\n",
    "    context = state[\"messages\"][-1].content\n",
    "\n",
    "    prompt = grade_prompt.format(question=question, context=context)\n",
    "    response = (\n",
    "        grader_model\n",
    "        .with_structured_output(GradeDocuments).invoke(\n",
    "            [{\"role\": \"user\", \"content\": prompt}]\n",
    "        )\n",
    "    )\n",
    "    score = response.binary_score\n",
    "\n",
    "    if score == \"yes\":\n",
    "        return \"generate_answer\"\n",
    "    else:\n",
    "        return \"rewrite_question\""
   ],
   "id": "fd02316816e78f1d",
   "outputs": [],
   "execution_count": 12
  },
  {
   "metadata": {
    "ExecuteTime": {
     "end_time": "2025-05-21T09:25:56.708761Z",
     "start_time": "2025-05-21T09:25:56.706525Z"
    }
   },
   "cell_type": "code",
   "source": "from langchain_core.messages import convert_to_messages",
   "id": "9b6a9a42c82ed556",
   "outputs": [],
   "execution_count": 13
  },
  {
   "metadata": {
    "ExecuteTime": {
     "end_time": "2025-05-21T09:25:57.610477Z",
     "start_time": "2025-05-21T09:25:56.720444Z"
    }
   },
   "cell_type": "code",
   "source": [
    "input = {\n",
    "    \"messages\": convert_to_messages(\n",
    "        [\n",
    "            {\n",
    "                \"role\": \"user\",\n",
    "                \"content\": \"What does Lilian Weng say about types of reward hacking?\",\n",
    "            },\n",
    "            {\n",
    "                \"role\": \"assistant\",\n",
    "                \"content\": \"\",\n",
    "                \"tool_calls\": [\n",
    "                    {\n",
    "                        \"id\": \"1\",\n",
    "                        \"name\": \"retrieve_blog_posts\",\n",
    "                        \"args\": {\"query\": \"types of reward hacking\"},\n",
    "                    }\n",
    "                ],\n",
    "            },\n",
    "            {\"role\": \"tool\", \"content\": \"meow\", \"tool_call_id\": \"1\"},\n",
    "        ]\n",
    "    )\n",
    "}\n",
    "grade_documents(input)"
   ],
   "id": "f32a9d7f4f81455f",
   "outputs": [
    {
     "data": {
      "text/plain": [
       "'rewrite_question'"
      ]
     },
     "execution_count": 14,
     "metadata": {},
     "output_type": "execute_result"
    }
   ],
   "execution_count": 14
  },
  {
   "metadata": {
    "ExecuteTime": {
     "end_time": "2025-05-21T09:25:57.624904Z",
     "start_time": "2025-05-21T09:25:57.622401Z"
    }
   },
   "cell_type": "code",
   "source": [
    "rewrite_prompt = (\n",
    "    \"Look at the input and try to reason about the underlying semantic intent / meaning.\\n\"\n",
    "    \"Here is the initial question:\"\n",
    "    \"\\n ------- \\n\"\n",
    "    \"{question}\"\n",
    "    \"\\n ------- \\n\"\n",
    "    \"Formulate an improved question:\"\n",
    ")"
   ],
   "id": "70c4f35f290d12bc",
   "outputs": [],
   "execution_count": 15
  },
  {
   "metadata": {
    "ExecuteTime": {
     "end_time": "2025-05-21T09:25:57.643763Z",
     "start_time": "2025-05-21T09:25:57.640449Z"
    }
   },
   "cell_type": "code",
   "source": [
    "def rewrite_question(state: MessagesState):\n",
    "    \"\"\"Rewrite the original user question.\"\"\"\n",
    "    messages = state[\"messages\"]\n",
    "    question = messages[0].content\n",
    "    prompt = rewrite_prompt.format(question=question)\n",
    "    response = grader_model.invoke([{\"role\": \"user\", \"content\": prompt}])\n",
    "    return {\"messages\": [{\"role\": \"user\", \"content\": response.content}]}"
   ],
   "id": "693a5108038766d2",
   "outputs": [],
   "execution_count": 16
  },
  {
   "metadata": {
    "ExecuteTime": {
     "end_time": "2025-05-21T09:25:57.658251Z",
     "start_time": "2025-05-21T09:25:57.655877Z"
    }
   },
   "cell_type": "code",
   "source": [
    "GENERATE_PROMPT = (\n",
    "    \"You are an assistant for question-answering tasks. \"\n",
    "    \"Use the following pieces of retrieved context to answer the question. \"\n",
    "    \"If you don't know the answer, just say that you don't know. \"\n",
    "    \"Use three sentences maximum and keep the answer concise.\\n\"\n",
    "    \"Question: {question} \\n\"\n",
    "    \"Context: {context}\"\n",
    ")\n",
    "\n",
    "\n",
    "def generate_answer(state: MessagesState):\n",
    "    \"\"\"Generate an answer.\"\"\"\n",
    "    question = state[\"messages\"][0].content\n",
    "    context = state[\"messages\"][-1].content\n",
    "    prompt = GENERATE_PROMPT.format(question=question, context=context)\n",
    "    response = grader_model.invoke([{\"role\": \"user\", \"content\": prompt}])\n",
    "    return {\"messages\": [response]}"
   ],
   "id": "c83c191ff5a65d70",
   "outputs": [],
   "execution_count": 17
  },
  {
   "metadata": {
    "ExecuteTime": {
     "end_time": "2025-05-21T09:25:57.677698Z",
     "start_time": "2025-05-21T09:25:57.669756Z"
    }
   },
   "cell_type": "code",
   "source": [
    "from langgraph.graph import StateGraph, START, END\n",
    "from langgraph.prebuilt import ToolNode\n",
    "from langgraph.prebuilt import tools_condition\n"
   ],
   "id": "7ebfd5463e09c83d",
   "outputs": [],
   "execution_count": 18
  },
  {
   "metadata": {
    "ExecuteTime": {
     "end_time": "2025-05-21T09:25:57.693044Z",
     "start_time": "2025-05-21T09:25:57.690642Z"
    }
   },
   "cell_type": "code",
   "source": "workflow = StateGraph(MessagesState)",
   "id": "ba55c0e30d282ec9",
   "outputs": [],
   "execution_count": 19
  },
  {
   "metadata": {
    "ExecuteTime": {
     "end_time": "2025-05-21T09:25:57.709804Z",
     "start_time": "2025-05-21T09:25:57.703974Z"
    }
   },
   "cell_type": "code",
   "source": [
    "workflow.add_node(generate_query_or_respond)\n",
    "workflow.add_node(\"retrieve\", ToolNode([retriever_tool]))\n",
    "workflow.add_node(rewrite_question)\n",
    "workflow.add_node(generate_answer)\n",
    "\n",
    "workflow.add_edge(START, \"generate_query_or_respond\")\n",
    "\n",
    "workflow.add_conditional_edges(\n",
    "    \"generate_query_or_respond\",\n",
    "    # Assess LLM decision (call `retriever_tool` tool or respond to the user)\n",
    "    tools_condition,\n",
    "    {\n",
    "        # Translate the condition outputs to nodes in our graph\n",
    "        \"tools\": \"retrieve\",\n",
    "        END: END,\n",
    "    },\n",
    ")\n",
    "\n",
    "workflow.add_conditional_edges(\n",
    "    \"retrieve\",\n",
    "    # Assess agent decision\n",
    "    grade_documents,\n",
    ")\n",
    "workflow.add_edge(\"generate_answer\", END)\n",
    "workflow.add_edge(\"rewrite_question\", \"generate_query_or_respond\")\n",
    "graph = workflow.compile(name=\"rag_lang_graph\")"
   ],
   "id": "6811f3ba336cef0a",
   "outputs": [],
   "execution_count": 20
  },
  {
   "metadata": {
    "ExecuteTime": {
     "end_time": "2025-05-21T09:46:01.120223Z",
     "start_time": "2025-05-21T09:46:00.927526Z"
    }
   },
   "cell_type": "code",
   "source": [
    "from IPython.display import Image, display\n",
    "\n",
    "display(Image(graph.get_graph().draw_mermaid_png()))"
   ],
   "id": "93d7de6a4d600b78",
   "outputs": [
    {
     "data": {
      "image/png": "[encoded data removed]",
      "text/plain": [
       "<IPython.core.display.Image object>"
      ]
     },
     "metadata": {},
     "output_type": "display_data"
    }
   ],
   "execution_count": 39
  },
  {
   "metadata": {
    "ExecuteTime": {
     "end_time": "2025-05-21T09:25:57.891486Z",
     "start_time": "2025-05-21T09:25:57.889297Z"
    }
   },
   "cell_type": "code",
   "source": [
    "# for chunk in graph.stream(\n",
    "#     {\n",
    "#         \"messages\": [\n",
    "#             {\n",
    "#                 \"role\": \"user\",\n",
    "#                 \"content\": \"Who is Alex Chen?\",\n",
    "#             }\n",
    "#         ]\n",
    "#     }\n",
    "# ):\n",
    "#     for node, update in chunk.items():\n",
    "#         # update[\"messages\"][-1].pretty_print()\n",
    "#         print(update[\"messages\"][-1].content)"
   ],
   "id": "84de270c97f037b8",
   "outputs": [],
   "execution_count": 22
  },
  {
   "metadata": {
    "ExecuteTime": {
     "end_time": "2025-05-21T09:25:57.913325Z",
     "start_time": "2025-05-21T09:25:57.911207Z"
    }
   },
   "cell_type": "code",
   "source": [
    "# def chat(question, history):\n",
    "#     msg = {\"role\": \"user\", \"content\": \"\"}\n",
    "#     for chunk in graph.stream(\n",
    "#     {\n",
    "#         \"messages\": [\n",
    "#             {\n",
    "#                 \"role\": \"user\",\n",
    "#                 \"content\": question,\n",
    "#             }\n",
    "#         ]\n",
    "#     }):\n",
    "#         for node, update in chunk.items():\n",
    "#             update[\"messages\"][-1].pretty_print()\n",
    "#             msg[\"content\"] = update[\"messages\"][-1].content\n",
    "#     return msg\n",
    "#\n",
    "# view = gr.ChatInterface(chat, type=\"messages\").launch()"
   ],
   "id": "d63cabe509e0905b",
   "outputs": [],
   "execution_count": 23
  },
  {
   "metadata": {
    "ExecuteTime": {
     "end_time": "2025-05-21T09:46:12.862741Z",
     "start_time": "2025-05-21T09:46:08.757507Z"
    }
   },
   "cell_type": "code",
   "source": [
    "response = graph.invoke({\n",
    "        \"messages\": [\n",
    "            {\n",
    "                \"role\": \"user\",\n",
    "                \"content\": \"Who is Alex Chen?\",\n",
    "            }\n",
    "        ]\n",
    "    })\n",
    "response[\"messages\"][-1].content"
   ],
   "id": "c341ea5fa88e6d1c",
   "outputs": [
    {
     "data": {
      "text/plain": [
       "'Alex Chen is a Senior Backend Software Engineer at Insurellm, recognized for his contributions to innovative backend solutions in insurance technology. He has progressed from a Junior Backend Developer to his current role since joining the company in April 2020. Alex is also involved in diversity and inclusion initiatives and has plans for further professional development in AI and machine learning.'"
      ]
     },
     "execution_count": 40,
     "metadata": {},
     "output_type": "execute_result"
    }
   ],
   "execution_count": 40
  },
  {
   "metadata": {
    "ExecuteTime": {
     "end_time": "2025-05-21T10:37:55.997319Z",
     "start_time": "2025-05-21T10:37:55.989848Z"
    }
   },
   "cell_type": "code",
   "source": [
    "from typing import Annotated\n",
    "from langgraph.prebuilt import InjectedState\n",
    "from langchain_core.tools import tool, InjectedToolCallId\n",
    "from langgraph.types import Command\n",
    "def create_handoff_tool(*, agent_name: str, description: str | None = None):\n",
    "    name = f\"transfer_to_{agent_name}\"\n",
    "    description = description or f\"Ask {agent_name} for help.\"\n",
    "\n",
    "    @tool(name, description=description)\n",
    "    def handoff_tool(\n",
    "        state: Annotated[MessagesState, InjectedState],\n",
    "        tool_call_id: Annotated[str, InjectedToolCallId],\n",
    "    ) -> Command:\n",
    "        tool_message = {\n",
    "            \"role\": \"tool\",\n",
    "            \"content\": f\"Successfully transferred to {agent_name}\",\n",
    "            \"name\": name,\n",
    "            \"tool_call_id\": tool_call_id,\n",
    "        }\n",
    "        return Command(\n",
    "            goto=agent_name,\n",
    "            update={**state, \"messages\": state[\"messages\"] + [tool_message]},\n",
    "            graph=Command.PARENT,\n",
    "        )\n",
    "\n",
    "    return handoff_tool"
   ],
   "id": "b96b47d49b343f1e",
   "outputs": [],
   "execution_count": 43
  },
  {
   "metadata": {
    "ExecuteTime": {
     "end_time": "2025-05-21T10:43:55.901153Z",
     "start_time": "2025-05-21T10:43:55.896118Z"
    }
   },
   "cell_type": "code",
   "source": [
    "assign_to_rag_agent = create_handoff_tool(\n",
    "    agent_name=\"rag_lang_graph\",\n",
    "    description=\"Assign task to a rag agent.\",\n",
    ")"
   ],
   "id": "f1becf71d64af60c",
   "outputs": [],
   "execution_count": 49
  },
  {
   "metadata": {
    "ExecuteTime": {
     "end_time": "2025-05-21T10:44:44.726878Z",
     "start_time": "2025-05-21T10:44:44.712410Z"
    }
   },
   "cell_type": "code",
   "source": [
    "from langgraph.prebuilt import create_react_agent\n",
    "supervisor_agent = create_react_agent(\n",
    "    model=\"openai:gpt-4o-mini\",\n",
    "    tools=[assign_to_rag_agent],\n",
    "    prompt=(\n",
    "        \"You are a supervisor managing two agents:\\n\"\n",
    "        \"- a rag agent. Assign rag tasks to this agent\\n\"\n",
    "        \"Assign work to one agent at a time, do not call agents in parallel.\\n\"\n",
    "        \"Do not do any work yourself.\"\n",
    "    ),\n",
    "    name=\"supervisor\",\n",
    ")\n"
   ],
   "id": "6046e9aefeb785e5",
   "outputs": [],
   "execution_count": 51
  },
  {
   "metadata": {
    "ExecuteTime": {
     "end_time": "2025-05-21T10:45:34.291383Z",
     "start_time": "2025-05-21T10:45:34.287843Z"
    }
   },
   "cell_type": "code",
   "source": [
    "supervisor = (\n",
    "    StateGraph(MessagesState)\n",
    "    # NOTE: `destinations` is only needed for visualization and doesn't affect runtime behavior\n",
    "    .add_node(supervisor_agent, destinations=(\"rag_lang_graph\", END))\n",
    "    .add_node(graph)\n",
    "    .add_edge(START, \"supervisor\")\n",
    "    # always return back to the supervisor\n",
    "    .add_edge(\"rag_lang_graph\", \"supervisor\")\n",
    "    .compile()\n",
    ")"
   ],
   "id": "2152738afa7b3eff",
   "outputs": [],
   "execution_count": 53
  },
  {
   "metadata": {
    "ExecuteTime": {
     "end_time": "2025-05-21T10:45:52.147789Z",
     "start_time": "2025-05-21T10:45:51.069986Z"
    }
   },
   "cell_type": "code",
   "source": [
    "from IPython.display import display, Image\n",
    "\n",
    "display(Image(supervisor.get_graph().draw_mermaid_png()))"
   ],
   "id": "8e711cd5d280f102",
   "outputs": [
    {
     "data": {
      "image/png": "[encoded data removed]",
      "text/plain": [
       "<IPython.core.display.Image object>"
      ]
     },
     "metadata": {},
     "output_type": "display_data"
    }
   ],
   "execution_count": 54
  },
  {
   "metadata": {
    "ExecuteTime": {
     "end_time": "2025-05-21T10:46:58.712948Z",
     "start_time": "2025-05-21T10:46:58.707637Z"
    }
   },
   "cell_type": "code",
   "source": [
    "def pretty_print_message(message, indent=False):\n",
    "    pretty_message = message.pretty_repr(html=True)\n",
    "    if not indent:\n",
    "        print(pretty_message)\n",
    "        return\n",
    "\n",
    "    indented = \"\\n\".join(\"\\t\" + c for c in pretty_message.split(\"\\n\"))\n",
    "    print(indented)\n",
    "\n",
    "def pretty_print_messages(update, last_message=False):\n",
    "    is_subgraph = False\n",
    "    if isinstance(update, tuple):\n",
    "        ns, update = update\n",
    "        # skip parent graph updates in the printouts\n",
    "        if len(ns) == 0:\n",
    "            return\n",
    "\n",
    "        graph_id = ns[-1].split(\":\")[0]\n",
    "        print(f\"Update from subgraph {graph_id}:\")\n",
    "        print(\"\\n\")\n",
    "        is_subgraph = True\n",
    "\n",
    "    for node_name, node_update in update.items():\n",
    "        update_label = f\"Update from node {node_name}:\"\n",
    "        if is_subgraph:\n",
    "            update_label = \"\\t\" + update_label\n",
    "\n",
    "        print(update_label)\n",
    "        print(\"\\n\")\n",
    "\n",
    "        messages = convert_to_messages(node_update[\"messages\"])\n",
    "        if last_message:\n",
    "            messages = messages[-1:]\n",
    "\n",
    "        for m in messages:\n",
    "            pretty_print_message(m, indent=is_subgraph)\n",
    "        print(\"\\n\")"
   ],
   "id": "51f44a6bb88e7085",
   "outputs": [],
   "execution_count": 56
  },
  {
   "metadata": {
    "ExecuteTime": {
     "end_time": "2025-05-21T10:47:16.732662Z",
     "start_time": "2025-05-21T10:47:07.919222Z"
    }
   },
   "cell_type": "code",
   "source": [
    "for chunk in supervisor.stream(\n",
    "    {\n",
    "        \"messages\": [\n",
    "            {\n",
    "                \"role\": \"user\",\n",
    "                \"content\": \"Who is Alex Chen?\",\n",
    "            }\n",
    "        ]\n",
    "    },\n",
    "):\n",
    "    pretty_print_messages(chunk, last_message=True)\n",
    "\n",
    "final_message_history = chunk[\"supervisor\"][\"messages\"]"
   ],
   "id": "5ff33218722f96bc",
   "outputs": [
    {
     "name": "stdout",
     "output_type": "stream",
     "text": [
      "Update from node supervisor:\n",
      "\n",
      "\n",
      "=================================\u001B[1m Tool Message \u001B[0m=================================\n",
      "Name: transfer_to_rag_lang_graph\n",
      "\n",
      "Successfully transferred to rag_lang_graph\n",
      "\n",
      "\n",
      "Update from node rag_lang_graph:\n",
      "\n",
      "\n",
      "==================================\u001B[1m Ai Message \u001B[0m==================================\n",
      "\n",
      "Alex Chen is a Senior Backend Software Engineer at Insurellm, where he has significantly contributed to innovative backend solutions and the development of a microservices architecture. He joined the company in April 2020 as a Junior Backend Developer and was promoted due to his exemplary performance. Additionally, he is involved in diversity and inclusion initiatives and plans to enhance his skills in AI and machine learning.\n",
      "\n",
      "\n",
      "Update from node supervisor:\n",
      "\n",
      "\n",
      "==================================\u001B[1m Ai Message \u001B[0m==================================\n",
      "Name: supervisor\n",
      "\n",
      "Alex Chen is a Senior Backend Software Engineer at Insurellm, based in San Francisco, California. He was born on March 15, 1990, and joined Insurellm as a Junior Backend Developer in April 2020. His focus has been on building APIs to enhance customer data security.\n",
      "\n",
      "Over the years, he was promoted to Backend Software Engineer in October 2021, where he led projects developing a microservices architecture. He was recognized for his outstanding performance and awarded the title of Senior Backend Software Engineer in March 2023 after successfully scaling backend services and improving system uptime.\n",
      "\n",
      "Outside of work, Alex actively participates in diversity and inclusion initiatives and has interests in community volunteering and running.\n",
      "\n",
      "\n"
     ]
    }
   ],
   "execution_count": 57
  }
 ],
 "metadata": {
  "kernelspec": {
   "display_name": "Python 3",
   "language": "python",
   "name": "python3"
  },
  "language_info": {
   "codemirror_mode": {
    "name": "ipython",
    "version": 2
   },
   "file_extension": ".py",
   "mimetype": "text/x-python",
   "name": "python",
   "nbconvert_exporter": "python",
   "pygments_lexer": "ipython2",
   "version": "2.7.6"
  }
 },
 "nbformat": 4,
 "nbformat_minor": 5
}
