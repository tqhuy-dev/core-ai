{
 "cells": [
  {
   "cell_type": "code",
   "id": "initial_id",
   "metadata": {
    "collapsed": true,
    "ExecuteTime": {
     "end_time": "2025-05-21T03:18:56.585291Z",
     "start_time": "2025-05-21T03:18:54.861552Z"
    }
   },
   "source": [
    "from ultralytics import YOLO\n",
    "from PIL import Image\n",
    "import gradio as gr"
   ],
   "outputs": [],
   "execution_count": 2
  },
  {
   "metadata": {
    "ExecuteTime": {
     "end_time": "2025-05-21T03:18:57.624453Z",
     "start_time": "2025-05-21T03:18:57.577981Z"
    }
   },
   "cell_type": "code",
   "source": [
    "model_yolo = YOLO('../models/pod.pt')\n",
    "\n",
    "\n",
    "def process_image(image):\n",
    "    result = model_yolo.predict(image)\n",
    "    result = result[0]\n",
    "    img = Image.fromarray(result.plot()[:, :, ::-1])\n",
    "    return img\n"
   ],
   "id": "80135a8bd0fb59a2",
   "outputs": [],
   "execution_count": 3
  },
  {
   "metadata": {
    "ExecuteTime": {
     "end_time": "2025-05-21T03:18:59.695070Z",
     "start_time": "2025-05-21T03:18:59.529263Z"
    }
   },
   "cell_type": "code",
   "source": [
    "gradio_yolo_app = gr.Interface(\n",
    "    fn=process_image,\n",
    "    inputs=gr.Image(type=\"numpy\"),\n",
    "    outputs=gr.Image(type=\"numpy\"),\n",
    "    title=\"YOLO Face Detection App\",\n",
    "    description=\"Upload an image and get the processed version.\"\n",
    ").launch()"
   ],
   "id": "3cf56eb3b9e0d807",
   "outputs": [
    {
     "name": "stdout",
     "output_type": "stream",
     "text": [
      "* Running on local URL:  http://127.0.0.1:7860\n",
      "* To create a public link, set `share=True` in `launch()`.\n"
     ]
    },
    {
     "data": {
      "text/plain": [
       "<IPython.core.display.HTML object>"
      ],
      "text/html": [
       "<div><iframe src=\"http://127.0.0.1:7860/\" width=\"100%\" height=\"500\" allow=\"autoplay; camera; microphone; clipboard-read; clipboard-write;\" frameborder=\"0\" allowfullscreen></iframe></div>"
      ]
     },
     "metadata": {},
     "output_type": "display_data"
    }
   ],
   "execution_count": 4
  }
 ],
 "metadata": {
  "kernelspec": {
   "display_name": "Python 3",
   "language": "python",
   "name": "python3"
  },
  "language_info": {
   "codemirror_mode": {
    "name": "ipython",
    "version": 2
   },
   "file_extension": ".py",
   "mimetype": "text/x-python",
   "name": "python",
   "nbconvert_exporter": "python",
   "pygments_lexer": "ipython2",
   "version": "2.7.6"
  }
 },
 "nbformat": 4,
 "nbformat_minor": 5
}
