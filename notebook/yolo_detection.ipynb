{
 "cells": [
  {
   "cell_type": "code",
   "id": "initial_id",
   "metadata": {
    "collapsed": true,
    "ExecuteTime": {
     "end_time": "2025-05-21T03:13:42.220434Z",
     "start_time": "2025-05-21T03:13:42.216512Z"
    }
   },
   "source": [
    "from ultralytics import YOLO\n",
    "from PIL import Image"
   ],
   "outputs": [],
   "execution_count": 2
  },
  {
   "metadata": {
    "ExecuteTime": {
     "end_time": "2025-05-21T03:14:41.037282Z",
     "start_time": "2025-05-21T03:14:40.943961Z"
    }
   },
   "cell_type": "code",
   "source": [
    "model_yolo = YOLO('../models/model.pt')\n",
    "\n",
    "\n",
    "def process_image(image):\n",
    "    result = model_yolo.predict(image)\n",
    "    result = result[0]\n",
    "    img = Image.fromarray(result.plot()[:, :, ::-1])\n",
    "    return img\n"
   ],
   "id": "80135a8bd0fb59a2",
   "outputs": [],
   "execution_count": 3
  },
  {
   "metadata": {},
   "cell_type": "code",
   "outputs": [],
   "execution_count": null,
   "source": [
    "gradio_yolo_app = gr.Interface(\n",
    "    fn=process_image,\n",
    "    inputs=gr.Image(type=\"numpy\"),\n",
    "    outputs=gr.Image(type=\"numpy\"),\n",
    "    title=\"YOLO Face Detection App\",\n",
    "    description=\"Upload an image and get the processed version.\"\n",
    ").launch()"
   ],
   "id": "3cf56eb3b9e0d807"
  }
 ],
 "metadata": {
  "kernelspec": {
   "display_name": "Python 3",
   "language": "python",
   "name": "python3"
  },
  "language_info": {
   "codemirror_mode": {
    "name": "ipython",
    "version": 2
   },
   "file_extension": ".py",
   "mimetype": "text/x-python",
   "name": "python",
   "nbconvert_exporter": "python",
   "pygments_lexer": "ipython2",
   "version": "2.7.6"
  }
 },
 "nbformat": 4,
 "nbformat_minor": 5
}
