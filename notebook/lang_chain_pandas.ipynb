{
 "cells": [
  {
   "metadata": {
    "ExecuteTime": {
     "end_time": "2025-05-23T06:05:28.470755Z",
     "start_time": "2025-05-23T06:05:28.468123Z"
    }
   },
   "cell_type": "code",
   "source": [
    "import  os, getpass\n",
    "import pandas as pd\n",
    "from langchain_experimental.agents.agent_toolkits import create_pandas_dataframe_agent\n",
    "from langchain_openai import OpenAI, ChatOpenAI"
   ],
   "id": "37af13f6c41aa5d4",
   "outputs": [],
   "execution_count": 13
  },
  {
   "metadata": {
    "ExecuteTime": {
     "end_time": "2025-05-23T06:01:31.398492Z",
     "start_time": "2025-05-23T06:01:30.404919Z"
    }
   },
   "cell_type": "code",
   "source": [
    "if not os.environ.get(\"OPENAI_API_KEY\"):\n",
    "    os.environ[\"OPENAI_API_KEY\"] = getpass.getpass(\"Enter API key for OpenAI: \")"
   ],
   "id": "initial_id",
   "outputs": [],
   "execution_count": 3
  },
  {
   "metadata": {
    "ExecuteTime": {
     "end_time": "2025-05-23T06:14:11.454222Z",
     "start_time": "2025-05-23T06:14:11.321504Z"
    }
   },
   "cell_type": "code",
   "source": [
    "df = pd.read_excel('../resources/Out_9.xlsx')\n",
    "df"
   ],
   "id": "79abecb1f7dcac35",
   "outputs": [
    {
     "data": {
      "text/plain": [
       "      Unnamed: 0      country continent  year  lifeExp       pop   gdpPercap  \\\n",
       "0              0  Afghanistan      Asia  1952   28.801   8425333  779.445314   \n",
       "1              1  Afghanistan      Asia  1957   30.332   9240934  820.853030   \n",
       "2              2  Afghanistan      Asia  1962   31.997  10267083  853.100710   \n",
       "3              3  Afghanistan      Asia  1967   34.020  11537966  836.197138   \n",
       "4              4  Afghanistan      Asia  1972   36.088  13079460  739.981106   \n",
       "...          ...          ...       ...   ...      ...       ...         ...   \n",
       "1699        1699     Zimbabwe    Africa  1987   62.351   9216418  706.157306   \n",
       "1700        1700     Zimbabwe    Africa  1992   60.377  10704340  693.420786   \n",
       "1701        1701     Zimbabwe    Africa  1997   46.809  11404948  792.449960   \n",
       "1702        1702     Zimbabwe    Africa  2002   39.989  11926563  672.038623   \n",
       "1703        1703     Zimbabwe    Africa  2007   43.487  12311143  469.709298   \n",
       "\n",
       "     iso_alpha  iso_num  \n",
       "0          AFG        4  \n",
       "1          AFG        4  \n",
       "2          AFG        4  \n",
       "3          AFG        4  \n",
       "4          AFG        4  \n",
       "...        ...      ...  \n",
       "1699       ZWE      716  \n",
       "1700       ZWE      716  \n",
       "1701       ZWE      716  \n",
       "1702       ZWE      716  \n",
       "1703       ZWE      716  \n",
       "\n",
       "[1704 rows x 9 columns]"
      ],
      "text/html": [
       "<div>\n",
       "<style scoped>\n",
       "    .dataframe tbody tr th:only-of-type {\n",
       "        vertical-align: middle;\n",
       "    }\n",
       "\n",
       "    .dataframe tbody tr th {\n",
       "        vertical-align: top;\n",
       "    }\n",
       "\n",
       "    .dataframe thead th {\n",
       "        text-align: right;\n",
       "    }\n",
       "</style>\n",
       "<table border=\"1\" class=\"dataframe\">\n",
       "  <thead>\n",
       "    <tr style=\"text-align: right;\">\n",
       "      <th></th>\n",
       "      <th>Unnamed: 0</th>\n",
       "      <th>country</th>\n",
       "      <th>continent</th>\n",
       "      <th>year</th>\n",
       "      <th>lifeExp</th>\n",
       "      <th>pop</th>\n",
       "      <th>gdpPercap</th>\n",
       "      <th>iso_alpha</th>\n",
       "      <th>iso_num</th>\n",
       "    </tr>\n",
       "  </thead>\n",
       "  <tbody>\n",
       "    <tr>\n",
       "      <th>0</th>\n",
       "      <td>0</td>\n",
       "      <td>Afghanistan</td>\n",
       "      <td>Asia</td>\n",
       "      <td>1952</td>\n",
       "      <td>28.801</td>\n",
       "      <td>8425333</td>\n",
       "      <td>779.445314</td>\n",
       "      <td>AFG</td>\n",
       "      <td>4</td>\n",
       "    </tr>\n",
       "    <tr>\n",
       "      <th>1</th>\n",
       "      <td>1</td>\n",
       "      <td>Afghanistan</td>\n",
       "      <td>Asia</td>\n",
       "      <td>1957</td>\n",
       "      <td>30.332</td>\n",
       "      <td>9240934</td>\n",
       "      <td>820.853030</td>\n",
       "      <td>AFG</td>\n",
       "      <td>4</td>\n",
       "    </tr>\n",
       "    <tr>\n",
       "      <th>2</th>\n",
       "      <td>2</td>\n",
       "      <td>Afghanistan</td>\n",
       "      <td>Asia</td>\n",
       "      <td>1962</td>\n",
       "      <td>31.997</td>\n",
       "      <td>10267083</td>\n",
       "      <td>853.100710</td>\n",
       "      <td>AFG</td>\n",
       "      <td>4</td>\n",
       "    </tr>\n",
       "    <tr>\n",
       "      <th>3</th>\n",
       "      <td>3</td>\n",
       "      <td>Afghanistan</td>\n",
       "      <td>Asia</td>\n",
       "      <td>1967</td>\n",
       "      <td>34.020</td>\n",
       "      <td>11537966</td>\n",
       "      <td>836.197138</td>\n",
       "      <td>AFG</td>\n",
       "      <td>4</td>\n",
       "    </tr>\n",
       "    <tr>\n",
       "      <th>4</th>\n",
       "      <td>4</td>\n",
       "      <td>Afghanistan</td>\n",
       "      <td>Asia</td>\n",
       "      <td>1972</td>\n",
       "      <td>36.088</td>\n",
       "      <td>13079460</td>\n",
       "      <td>739.981106</td>\n",
       "      <td>AFG</td>\n",
       "      <td>4</td>\n",
       "    </tr>\n",
       "    <tr>\n",
       "      <th>...</th>\n",
       "      <td>...</td>\n",
       "      <td>...</td>\n",
       "      <td>...</td>\n",
       "      <td>...</td>\n",
       "      <td>...</td>\n",
       "      <td>...</td>\n",
       "      <td>...</td>\n",
       "      <td>...</td>\n",
       "      <td>...</td>\n",
       "    </tr>\n",
       "    <tr>\n",
       "      <th>1699</th>\n",
       "      <td>1699</td>\n",
       "      <td>Zimbabwe</td>\n",
       "      <td>Africa</td>\n",
       "      <td>1987</td>\n",
       "      <td>62.351</td>\n",
       "      <td>9216418</td>\n",
       "      <td>706.157306</td>\n",
       "      <td>ZWE</td>\n",
       "      <td>716</td>\n",
       "    </tr>\n",
       "    <tr>\n",
       "      <th>1700</th>\n",
       "      <td>1700</td>\n",
       "      <td>Zimbabwe</td>\n",
       "      <td>Africa</td>\n",
       "      <td>1992</td>\n",
       "      <td>60.377</td>\n",
       "      <td>10704340</td>\n",
       "      <td>693.420786</td>\n",
       "      <td>ZWE</td>\n",
       "      <td>716</td>\n",
       "    </tr>\n",
       "    <tr>\n",
       "      <th>1701</th>\n",
       "      <td>1701</td>\n",
       "      <td>Zimbabwe</td>\n",
       "      <td>Africa</td>\n",
       "      <td>1997</td>\n",
       "      <td>46.809</td>\n",
       "      <td>11404948</td>\n",
       "      <td>792.449960</td>\n",
       "      <td>ZWE</td>\n",
       "      <td>716</td>\n",
       "    </tr>\n",
       "    <tr>\n",
       "      <th>1702</th>\n",
       "      <td>1702</td>\n",
       "      <td>Zimbabwe</td>\n",
       "      <td>Africa</td>\n",
       "      <td>2002</td>\n",
       "      <td>39.989</td>\n",
       "      <td>11926563</td>\n",
       "      <td>672.038623</td>\n",
       "      <td>ZWE</td>\n",
       "      <td>716</td>\n",
       "    </tr>\n",
       "    <tr>\n",
       "      <th>1703</th>\n",
       "      <td>1703</td>\n",
       "      <td>Zimbabwe</td>\n",
       "      <td>Africa</td>\n",
       "      <td>2007</td>\n",
       "      <td>43.487</td>\n",
       "      <td>12311143</td>\n",
       "      <td>469.709298</td>\n",
       "      <td>ZWE</td>\n",
       "      <td>716</td>\n",
       "    </tr>\n",
       "  </tbody>\n",
       "</table>\n",
       "<p>1704 rows × 9 columns</p>\n",
       "</div>"
      ]
     },
     "execution_count": 21,
     "metadata": {},
     "output_type": "execute_result"
    }
   ],
   "execution_count": 21
  },
  {
   "metadata": {
    "ExecuteTime": {
     "end_time": "2025-05-23T06:15:38.733321Z",
     "start_time": "2025-05-23T06:15:38.728192Z"
    }
   },
   "cell_type": "code",
   "source": [
    "v = df[df['country'] == 'Canada']['lifeExp'].mean()\n",
    "v"
   ],
   "id": "f853874861d8e9b8",
   "outputs": [
    {
     "data": {
      "text/plain": [
       "np.float64(74.90275)"
      ]
     },
     "execution_count": 27,
     "metadata": {},
     "output_type": "execute_result"
    }
   ],
   "execution_count": 27
  },
  {
   "metadata": {
    "ExecuteTime": {
     "end_time": "2025-05-23T06:15:46.103068Z",
     "start_time": "2025-05-23T06:15:46.084262Z"
    }
   },
   "cell_type": "code",
   "source": "agent = create_pandas_dataframe_agent(ChatOpenAI(temperature=0.7, model='gpt-4o-mini'), df, verbose=True, allow_dangerous_code=True)",
   "id": "adedc2ef9ecc654d",
   "outputs": [],
   "execution_count": 28
  },
  {
   "metadata": {
    "ExecuteTime": {
     "end_time": "2025-05-23T06:22:11.612175Z",
     "start_time": "2025-05-23T06:22:05.868253Z"
    }
   },
   "cell_type": "code",
   "source": "agent.invoke(\"Based on the data, give me the average life expectancy and min/max gdp  of Canada.\")",
   "id": "a1653775d0945e2c",
   "outputs": [
    {
     "name": "stdout",
     "output_type": "stream",
     "text": [
      "\n",
      "\n",
      "\u001B[1m> Entering new AgentExecutor chain...\u001B[0m\n",
      "\u001B[32;1m\u001B[1;3mThought: To find the average life expectancy and the minimum and maximum GDP per capita for Canada, I need to filter the dataframe for entries related to Canada and then calculate the required statistics. I'll first filter the dataframe for Canada and then compute the average life expectancy and the minimum and maximum GDP per capita.\n",
      "\n",
      "Action: python_repl_ast\n",
      "Action Input: df_canada = df[df['country'] == 'Canada']; avg_life_exp = df_canada['lifeExp'].mean(); min_gdp = df_canada['gdpPercap'].min(); max_gdp = df_canada['gdpPercap'].max(); (avg_life_exp, min_gdp, max_gdp)\u001B[0m\u001B[36;1m\u001B[1;3m(np.float64(74.90275), np.float64(11367.16112), np.float64(36319.23501))\u001B[0m\u001B[32;1m\u001B[1;3mI now know the final answer\n",
      "Final Answer: The average life expectancy of Canada is approximately 74.90 years, the minimum GDP per capita is approximately 11,367.16, and the maximum GDP per capita is approximately 36,319.24.\u001B[0m\n",
      "\n",
      "\u001B[1m> Finished chain.\u001B[0m\n"
     ]
    },
    {
     "data": {
      "text/plain": [
       "{'input': 'Based on the data, give me the average life expectancy and min/max gdp  of Canada.',\n",
       " 'output': 'The average life expectancy of Canada is approximately 74.90 years, the minimum GDP per capita is approximately 11,367.16, and the maximum GDP per capita is approximately 36,319.24.'}"
      ]
     },
     "execution_count": 30,
     "metadata": {},
     "output_type": "execute_result"
    }
   ],
   "execution_count": 30
  }
 ],
 "metadata": {
  "kernelspec": {
   "display_name": "Python 3",
   "language": "python",
   "name": "python3"
  },
  "language_info": {
   "codemirror_mode": {
    "name": "ipython",
    "version": 2
   },
   "file_extension": ".py",
   "mimetype": "text/x-python",
   "name": "python",
   "nbconvert_exporter": "python",
   "pygments_lexer": "ipython2",
   "version": "2.7.6"
  }
 },
 "nbformat": 4,
 "nbformat_minor": 5
}
