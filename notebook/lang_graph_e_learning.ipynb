{
 "cells": [
  {
   "cell_type": "code",
   "id": "initial_id",
   "metadata": {
    "collapsed": true,
    "ExecuteTime": {
     "end_time": "2025-05-27T06:17:40.323115Z",
     "start_time": "2025-05-27T06:17:40.318594Z"
    }
   },
   "source": [
    "from typing import TypedDict\n",
    "\n",
    "import requests\n",
    "from bs4 import BeautifulSoup\n",
    "from langchain.chat_models import init_chat_model\n",
    "from langchain_chroma import Chroma\n",
    "from langchain_core.documents import Document\n",
    "from langchain_core.messages import ToolMessage\n",
    "from langchain_openai import OpenAIEmbeddings\n",
    "from langchain_text_splitters import CharacterTextSplitter\n",
    "import os , getpass\n",
    "\n",
    "from pydantic import BaseModel, Field\n",
    "from langchain_core.tools import tool, create_retriever_tool\n",
    "from langgraph.graph import StateGraph, START, END,add_messages\n",
    "from typing import Annotated"
   ],
   "outputs": [],
   "execution_count": 156
  },
  {
   "metadata": {
    "ExecuteTime": {
     "end_time": "2025-05-27T02:25:17.094085Z",
     "start_time": "2025-05-27T02:25:15.121781Z"
    }
   },
   "cell_type": "code",
   "source": [
    "url = \"https://www.nationalgeographic.com/health/article/beach-ocean-mental-health-benefits\"\n",
    "response = requests.get(url)\n",
    "\n",
    "soup = BeautifulSoup(response.text, \"html.parser\")\n",
    "\n",
    "# Lấy toàn bộ text (nội dung hiển thị trên trình duyệt, bỏ tag HTML)\n",
    "paragraphs = soup.find_all(\"p\")\n",
    "for p in paragraphs:\n",
    "    print(p.get_text())"
   ],
   "id": "937af8369271b2b1",
   "outputs": [
    {
     "name": "stdout",
     "output_type": "stream",
     "text": [
      "Visiting the coast can help you relieve stress and get more active—and it may even change the way you cope with pain.\n",
      "The coast has long been a place of healing. In 18th-century Europe, doctors prescribed beach time for ailments ranging from tuberculosis to leprosy. Patients spent their days bathing in (and often drinking) mineral-rich sea water, and at night, they fell asleep to the sounds of briny winds and crashing waves.\n",
      "While elements of this early sea therapy have since been disproven, modern science continues to find that nature is good for us. Researchers got an early inkling of this in a landmark 1984 study that showed post-op patients whose hospital rooms had views of natural spaces tended to have shorter and more pleasant stays than those whose rooms faced a brick wall.\n",
      "(14 iconic beaches you should visit in your lifetime.)\n",
      "In the decades since, the field of environmental psychology has investigated why humans are hardwired to feel better outdoors. Most of their work has focused on green space—parks, forests, and the like. But a more recent wave of researchers is turning their attention to far bluer realms. \n",
      "Mat White, an environmental psychologist who is also avid surfer and outdoor swimmer, is an early pioneer of this work. In 2010, White and his colleagues discovered that people tended to rate photos of natural and urban environments as being more attractive and restorative when they had some sort of water element. \n",
      "This study, since cited over a thousand times, helped kick off the blue space research movement of today. So what actually happens in your body and brain when you spend time at the beach? Let’s dive in.\n",
      "Your first steps onto the sand will likely be followed by what environmental psychologists refer to as “attention restoration”—when your mind starts to relax and take note of your surroundings in a softer, less cognitively demanding way.\n",
      "Early in their blue space inquiry, White and his colleagues analyzed data from 4,255 respondents in England to see which natural environments tended to be the best at evoking such feelings of restoration. The coast rated slightly higher than woodlands and mountainous landscapes. \n",
      "(Nature really is good medicine. Science can explain why.)\n",
      "What makes beaches particularly good for resting the overworked mind? Catherine Kelly, the author of Blue Spaces: How and Why Water Can Make You Feel Better, suspects it has to do with their scale: their immersive soundtracks and expansive views that seem never to end. \n",
      "When we visit the coast, she says, “We're invited in a kind of effortless way to bring our attention to the horizon. There's this sense of awe, where we get perspective on our problems and feel part of something bigger than ourselves.”\n",
      "Awe tends to occur when we connect with something vast that reminds us of our (relatively small) place in the world. The emotion is known to reduce stress, engage a sense of purpose, and push us to act more selflessly.\n",
      "According to the Attention Restoration Theory, which was first proposed in 1989 and is still widely accepted today, the most mentally restorative landscapes tend to be “softly fascinating.” Their scenery is dynamic enough to hold our attention, but predictable enough to allow our minds to relax. Ocean waves fit this description to a tee, says marine social ecologist Easkey Britton.\n",
      "(Time to touch grass? Here's Nat Geo's ultimate guide to getting started.)\n",
      "The impact of ocean waves on stress has never been rigorously studied. However, there is evidence that looking at “fractals” (patterns that repeat at different scales, like waves lapping on a beach) is associated with changes in our own brain waves, promoting alpha frequencies that indicate relaxation.\n",
      "Britton’s own experience as a surfer and existing research on green space make her suspect that waves also “demand presence and focus… That sense of presence frees you from worries or ruminations,” she says.\n",
      "Just as your mind starts to slow down at the beach, your body may pick up the pace by taking a long walk, a swim, or a ball toss with friends.\n",
      "Research suggests that coastal landscapes encourage exercise and the myriad health perks that come with it. Even though people seem to do more intense physical activity in green spaces, one 2020 study published in the journal Environmental Research found they tend to exercise for longer when sweating in the so-called “blue gym”—potentially because they perceive time as being more expansive when they’re by the water.\n",
      "This prolonged physical activity combined with the stress relief benefits of the coast, may go on to improve sleep. A 2024 analysis of data from 18,838 adults across 18 countries shows that, on average, more frequent visits to both blue and green spaces correlate with a lower likelihood of insufficient sleep (which is considered less than six hours a day).\n",
      "People have long sought out sea therapy to cope with pain and stress, but it’s never been entirely clear whether these benefits are actually from being at the coast or from simply taking a break from day-to-day responsibilities. That’s because it’s difficult to scientifically prove that the landscape itself is diminishing pain.\n",
      "Double-blind controlled trials, in which subjects are randomly assigned to a treatment or control are the gold standard in scientific research. But they’re also next to impossible in outdoor environments. “You can't blind someone to the condition: They’ll know if they’re looking at the sea or not,” White points out.\n",
      "However, some researchers are now using virtual reality to study nature’s effect on pain more rigorously. A beautiful example of this is a 2017 randomized controlled trial that took place in, of all places, a dentist’s office.\n",
      "(How you can change your own body's threshold for pain.)\n",
      "Researchers were interested in whether the stress-reducing qualities of the coast could help anxious dental patients in real time. Teleporting them to the beach would be impossible—but why not try the next best thing?\n",
      "“Our idea was that if we had a strong virtual reality, we could interfere with people’s mental imagery and help them cope with [the dentist] better,” explains Sabine Pahl, a prominent social psychologist and blue space researcher who co-authored the study.\n",
      "During dental treatment, patients wore a VR headset that simulated taking a stroll outside, either along the coast or through a clean, pleasant city. Sure enough, the coastal VR group had significantly lower levels of pain during treatment compared to both the urban walkers and the control group.\n",
      "Advances in technology are now allowing researchers to study how nature impacts pain with even more precision. In a study published in Nature Communications in March 2025, another team of scientists showed 49 healthy people detailed virtual renderings of a natural scene (a lake vista), an urban scene, and an indoor scene—all while giving them electric shocks.\n",
      "Functional magnetic resonance imaging (fMRI) showed that looking at the natural scene was associated with less self-reported pain and altered activity in brain regions responsible for pain perception.\n",
      "This provides a potential neurological basis for what researchers observed in the dentist study, and shows that, beyond promoting positive emotions, natural scenes might actually improve our ability to deal with pain.\n",
      "From family beach days to waterfront picnics with friends, many of us choose to visit the coast with other people. This begs the question: Do blue spaces help build social bonds?\n",
      "To find out, Pahl, White, and other researchers asked parents with young children to describe their recent coastal visits. Their stories, published in a 2013 research paper, show that spending time together at the beach helped them feel more socially bonded as a family.\n",
      "(Why sharing meals is so good for your mental health.)\n",
      "“This is still one of my favorite papers,” says Pahl. “It powerfully describes what happens to families [at the beach]. It’s different when you take them out of the house and give them space and opportunity to run around together.” Other studies have found that blue spaces can help build social cohesion in unrelated individuals as well.\n",
      "Researchers aren’t exactly sure what drives friends and family members to bond at the beach, but it could have to do with their memories of the landscape.\n",
      "For those who grew up building castles in the sand or trailing minnows in the shallows, returning to the beach as an adult may trigger a sense of nostalgia and a return to childhood play and receptivity.\n",
      "While spending the day at the beach won’t single-handedly cure you of all ails, White notes that it can have small, sustained effects that add up over time.\n",
      "For example, some researchers are now studying how visiting the beach during childhood may lead us to develop a deeper sense of nature connectedness down the line, which has been associated with more pro-environmental behaviors (recycling, conserving energy, etc.).\n",
      "White and Pahl are now part of a four-year project investigating how green and blue spaces may help us better prepare for, cope with, and recover from stressors, creating protective layers of resilience that grow with each visit.\n",
      "This ongoing research serves a valuable purpose for public health and community planning. As this data grows more robust, it can be used to advocate for protecting coastal landscapes around the world.\n",
      "“That reciprocity is really important,” Kelly says. “If we have a place that makes us feel well, then surely it's our job to make sure it feels well too.”\n",
      "Copyright © 1996-2015 National Geographic SocietyCopyright © 2015-2025 National Geographic Partners, LLC. All rights reserved\n"
     ]
    }
   ],
   "execution_count": 24
  },
  {
   "metadata": {
    "ExecuteTime": {
     "end_time": "2025-05-27T02:25:18.979212Z",
     "start_time": "2025-05-27T02:25:18.975958Z"
    }
   },
   "cell_type": "code",
   "source": "text_splitter = CharacterTextSplitter(chunk_size=500, chunk_overlap=50)",
   "id": "43229073d22f68af",
   "outputs": [],
   "execution_count": 25
  },
  {
   "metadata": {
    "ExecuteTime": {
     "end_time": "2025-05-27T02:25:20.274572Z",
     "start_time": "2025-05-27T02:25:20.269292Z"
    }
   },
   "cell_type": "code",
   "source": [
    "# Get text data from paragraphs\n",
    "chunks = [p.get_text() for p in paragraphs]\n",
    "chunks"
   ],
   "id": "cf296b20f6e767d8",
   "outputs": [
    {
     "data": {
      "text/plain": [
       "['Visiting the coast can help you relieve stress and get more active—and it may even change the way you cope with pain.',\n",
       " 'The coast has long been a place of healing. In 18th-century Europe, doctors prescribed beach time for ailments ranging from tuberculosis to leprosy. Patients spent their days bathing in (and often drinking) mineral-rich sea water, and at night, they fell asleep to the sounds of briny winds and crashing waves.',\n",
       " 'While elements of this early sea therapy have since been disproven, modern science continues to find that nature is good for us. Researchers got an early inkling of this in a landmark 1984 study that showed post-op patients whose hospital rooms had views of natural spaces tended to have shorter and more pleasant stays than those whose rooms faced a brick wall.',\n",
       " '(14 iconic beaches you should visit in your lifetime.)',\n",
       " 'In the decades since, the field of environmental psychology has investigated why humans are hardwired to feel better outdoors. Most of their work has focused on green space—parks, forests, and the like. But a more recent wave of researchers is turning their attention to far bluer realms.\\xa0',\n",
       " 'Mat White, an environmental psychologist who is also avid surfer and outdoor swimmer, is an early pioneer of this work. In 2010, White and his colleagues discovered that people tended to rate photos of natural and urban environments as being more attractive and restorative when they had some sort of water element.\\xa0',\n",
       " 'This study, since cited over a thousand times, helped kick off the blue space research movement of today. So what actually happens in your body and brain when you spend time at the beach? Let’s dive in.',\n",
       " 'Your first steps onto the sand will likely be followed by what environmental psychologists refer to as “attention restoration”—when your mind starts to relax and take note of your surroundings in a softer, less cognitively demanding way.',\n",
       " 'Early in their blue space inquiry, White and his colleagues analyzed data from 4,255 respondents in England to see which natural environments tended to be the best at evoking such feelings of restoration. The coast rated slightly higher than woodlands and mountainous landscapes.\\xa0',\n",
       " '(Nature really is good medicine. Science can explain why.)',\n",
       " 'What makes beaches particularly good for resting the overworked mind? Catherine Kelly, the author of Blue Spaces: How and Why Water Can Make You Feel Better, suspects it has to do with their scale: their immersive soundtracks and expansive views that seem never to end.\\xa0',\n",
       " \"When we visit the coast, she says, “We're invited in a kind of effortless way to bring our attention to the horizon. There's this sense of awe, where we get perspective on our problems and feel part of something bigger than ourselves.”\",\n",
       " 'Awe tends to occur when we connect with something vast that reminds us of our (relatively small) place in the world. The emotion is known to reduce stress, engage a sense of purpose, and push us to act more selflessly.',\n",
       " 'According to the Attention Restoration Theory, which was first proposed in 1989 and is still widely accepted today, the most mentally restorative landscapes tend to be “softly fascinating.” Their scenery is dynamic enough to hold our attention, but predictable enough to allow our minds to relax. Ocean waves fit this description to a tee, says marine social ecologist Easkey Britton.',\n",
       " \"(Time to touch grass? Here's Nat Geo's ultimate guide to getting started.)\",\n",
       " 'The impact of ocean waves on stress has never been rigorously studied. However, there is evidence that looking at “fractals” (patterns that repeat at different scales, like waves lapping on a beach) is associated with changes in our own brain waves, promoting alpha frequencies that indicate relaxation.',\n",
       " 'Britton’s own experience as a surfer and existing research on green space make her suspect that waves also “demand presence and focus… That sense of presence frees you from worries or ruminations,” she says.',\n",
       " 'Just as your mind starts to slow down at the beach, your body may pick up the pace by taking a long walk, a swim, or a ball toss with friends.',\n",
       " 'Research suggests that coastal landscapes encourage exercise and the myriad health perks that come with it. Even though people seem to do more intense physical activity in green spaces, one 2020 study published in the journal Environmental Research found they tend to exercise for longer when sweating in the so-called “blue gym”—potentially because they perceive time as being more expansive when they’re by the water.',\n",
       " 'This prolonged physical activity combined with the stress relief benefits of the coast, may go on to improve sleep. A 2024 analysis of data from 18,838 adults across 18 countries shows that, on average, more frequent visits to both blue and green spaces correlate with a lower likelihood of insufficient sleep (which is considered less than six hours a day).',\n",
       " 'People have long sought out sea therapy to cope with pain and stress, but it’s never been entirely clear whether these benefits are actually from being at the coast or from simply taking a break from day-to-day responsibilities. That’s because it’s difficult to scientifically prove that the landscape itself is diminishing pain.',\n",
       " \"Double-blind controlled trials, in which subjects are randomly assigned to a treatment or control are the gold standard in scientific research. But they’re also next to impossible in outdoor environments. “You can't blind someone to the condition: They’ll know if they’re looking at the sea or not,” White points out.\",\n",
       " 'However, some researchers are now using virtual reality to study nature’s effect on pain more rigorously. A beautiful example of this is a 2017 randomized controlled trial that took place in, of all places, a dentist’s office.',\n",
       " \"(How you can change your own body's threshold for pain.)\",\n",
       " 'Researchers were interested in whether the stress-reducing qualities of the coast could help anxious dental patients in real time. Teleporting them to the beach would be impossible—but why not try the next best thing?',\n",
       " '“Our idea was that if we had a strong virtual reality, we could interfere with people’s mental imagery and help them cope with [the dentist] better,” explains Sabine Pahl, a prominent social psychologist and blue space researcher who co-authored the study.',\n",
       " 'During dental treatment, patients wore a VR headset that simulated taking a stroll outside, either along the coast or through a clean, pleasant city. Sure enough, the coastal VR group had significantly lower levels of pain during treatment compared to both the urban walkers and the control group.',\n",
       " 'Advances in technology are now allowing researchers to study how nature impacts pain with even more precision. In a study published in Nature Communications in March 2025, another team of scientists showed 49 healthy people detailed virtual renderings of a natural scene (a lake vista), an urban scene, and an indoor scene—all while giving them electric shocks.',\n",
       " 'Functional magnetic resonance imaging (fMRI) showed that looking at the natural scene was associated with less self-reported pain and altered activity in brain regions responsible for pain perception.',\n",
       " 'This provides a potential neurological basis for what researchers observed in the dentist study, and shows that, beyond promoting positive emotions, natural scenes might actually improve our ability to deal with pain.',\n",
       " 'From family beach days to waterfront picnics with friends, many of us choose to visit the coast with other people. This begs the question: Do blue spaces help build social bonds?',\n",
       " 'To find out, Pahl, White, and other researchers asked parents with young children to describe their recent coastal visits. Their stories, published in a 2013 research paper, show that spending time together at the beach helped them feel more socially bonded as a family.',\n",
       " '(Why sharing meals is so good for your mental health.)',\n",
       " '“This is still one of my favorite papers,” says Pahl. “It powerfully describes what happens to families [at the beach]. It’s different when you take them out of the house and give them space and opportunity to run around together.” Other studies have found that blue spaces can help build social cohesion in unrelated individuals as well.',\n",
       " 'Researchers aren’t exactly sure what drives friends and family members to bond at the beach, but it could have to do with their memories of the landscape.',\n",
       " 'For those who grew up building castles in the sand or trailing minnows in the shallows, returning to the beach as an adult may trigger a sense of nostalgia and a return to childhood play and receptivity.',\n",
       " 'While spending the day at the beach won’t single-handedly cure you of all ails, White notes that it can have small, sustained effects that add up over time.',\n",
       " 'For example, some researchers are now studying how visiting the beach during childhood may lead us to develop a deeper sense of nature connectedness down the line, which has been associated with more pro-environmental behaviors (recycling, conserving energy, etc.).',\n",
       " 'White and Pahl are now part of a four-year project investigating how green and blue spaces may help us better prepare for, cope with, and recover from stressors, creating protective layers of resilience that grow with each visit.',\n",
       " 'This ongoing research serves a valuable purpose for public health and community planning. As this data grows more robust, it can be used to advocate for protecting coastal landscapes around the world.',\n",
       " \"“That reciprocity is really important,” Kelly says. “If we have a place that makes us feel well, then surely it's our job to make sure it feels well too.”\",\n",
       " 'Copyright © 1996-2015 National Geographic SocietyCopyright © 2015-2025 National Geographic Partners, LLC. All rights reserved']"
      ]
     },
     "execution_count": 26,
     "metadata": {},
     "output_type": "execute_result"
    }
   ],
   "execution_count": 26
  },
  {
   "metadata": {
    "ExecuteTime": {
     "end_time": "2025-05-27T02:25:23.758365Z",
     "start_time": "2025-05-27T02:25:23.752763Z"
    }
   },
   "cell_type": "code",
   "source": [
    "docs = [Document(page_content=chunk) for chunk in chunks]\n",
    "docs"
   ],
   "id": "50618595047417b5",
   "outputs": [
    {
     "data": {
      "text/plain": [
       "[Document(metadata={}, page_content='Visiting the coast can help you relieve stress and get more active—and it may even change the way you cope with pain.'),\n",
       " Document(metadata={}, page_content='The coast has long been a place of healing. In 18th-century Europe, doctors prescribed beach time for ailments ranging from tuberculosis to leprosy. Patients spent their days bathing in (and often drinking) mineral-rich sea water, and at night, they fell asleep to the sounds of briny winds and crashing waves.'),\n",
       " Document(metadata={}, page_content='While elements of this early sea therapy have since been disproven, modern science continues to find that nature is good for us. Researchers got an early inkling of this in a landmark 1984 study that showed post-op patients whose hospital rooms had views of natural spaces tended to have shorter and more pleasant stays than those whose rooms faced a brick wall.'),\n",
       " Document(metadata={}, page_content='(14 iconic beaches you should visit in your lifetime.)'),\n",
       " Document(metadata={}, page_content='In the decades since, the field of environmental psychology has investigated why humans are hardwired to feel better outdoors. Most of their work has focused on green space—parks, forests, and the like. But a more recent wave of researchers is turning their attention to far bluer realms.\\xa0'),\n",
       " Document(metadata={}, page_content='Mat White, an environmental psychologist who is also avid surfer and outdoor swimmer, is an early pioneer of this work. In 2010, White and his colleagues discovered that people tended to rate photos of natural and urban environments as being more attractive and restorative when they had some sort of water element.\\xa0'),\n",
       " Document(metadata={}, page_content='This study, since cited over a thousand times, helped kick off the blue space research movement of today. So what actually happens in your body and brain when you spend time at the beach? Let’s dive in.'),\n",
       " Document(metadata={}, page_content='Your first steps onto the sand will likely be followed by what environmental psychologists refer to as “attention restoration”—when your mind starts to relax and take note of your surroundings in a softer, less cognitively demanding way.'),\n",
       " Document(metadata={}, page_content='Early in their blue space inquiry, White and his colleagues analyzed data from 4,255 respondents in England to see which natural environments tended to be the best at evoking such feelings of restoration. The coast rated slightly higher than woodlands and mountainous landscapes.\\xa0'),\n",
       " Document(metadata={}, page_content='(Nature really is good medicine. Science can explain why.)'),\n",
       " Document(metadata={}, page_content='What makes beaches particularly good for resting the overworked mind? Catherine Kelly, the author of Blue Spaces: How and Why Water Can Make You Feel Better, suspects it has to do with their scale: their immersive soundtracks and expansive views that seem never to end.\\xa0'),\n",
       " Document(metadata={}, page_content=\"When we visit the coast, she says, “We're invited in a kind of effortless way to bring our attention to the horizon. There's this sense of awe, where we get perspective on our problems and feel part of something bigger than ourselves.”\"),\n",
       " Document(metadata={}, page_content='Awe tends to occur when we connect with something vast that reminds us of our (relatively small) place in the world. The emotion is known to reduce stress, engage a sense of purpose, and push us to act more selflessly.'),\n",
       " Document(metadata={}, page_content='According to the Attention Restoration Theory, which was first proposed in 1989 and is still widely accepted today, the most mentally restorative landscapes tend to be “softly fascinating.” Their scenery is dynamic enough to hold our attention, but predictable enough to allow our minds to relax. Ocean waves fit this description to a tee, says marine social ecologist Easkey Britton.'),\n",
       " Document(metadata={}, page_content=\"(Time to touch grass? Here's Nat Geo's ultimate guide to getting started.)\"),\n",
       " Document(metadata={}, page_content='The impact of ocean waves on stress has never been rigorously studied. However, there is evidence that looking at “fractals” (patterns that repeat at different scales, like waves lapping on a beach) is associated with changes in our own brain waves, promoting alpha frequencies that indicate relaxation.'),\n",
       " Document(metadata={}, page_content='Britton’s own experience as a surfer and existing research on green space make her suspect that waves also “demand presence and focus… That sense of presence frees you from worries or ruminations,” she says.'),\n",
       " Document(metadata={}, page_content='Just as your mind starts to slow down at the beach, your body may pick up the pace by taking a long walk, a swim, or a ball toss with friends.'),\n",
       " Document(metadata={}, page_content='Research suggests that coastal landscapes encourage exercise and the myriad health perks that come with it. Even though people seem to do more intense physical activity in green spaces, one 2020 study published in the journal Environmental Research found they tend to exercise for longer when sweating in the so-called “blue gym”—potentially because they perceive time as being more expansive when they’re by the water.'),\n",
       " Document(metadata={}, page_content='This prolonged physical activity combined with the stress relief benefits of the coast, may go on to improve sleep. A 2024 analysis of data from 18,838 adults across 18 countries shows that, on average, more frequent visits to both blue and green spaces correlate with a lower likelihood of insufficient sleep (which is considered less than six hours a day).'),\n",
       " Document(metadata={}, page_content='People have long sought out sea therapy to cope with pain and stress, but it’s never been entirely clear whether these benefits are actually from being at the coast or from simply taking a break from day-to-day responsibilities. That’s because it’s difficult to scientifically prove that the landscape itself is diminishing pain.'),\n",
       " Document(metadata={}, page_content=\"Double-blind controlled trials, in which subjects are randomly assigned to a treatment or control are the gold standard in scientific research. But they’re also next to impossible in outdoor environments. “You can't blind someone to the condition: They’ll know if they’re looking at the sea or not,” White points out.\"),\n",
       " Document(metadata={}, page_content='However, some researchers are now using virtual reality to study nature’s effect on pain more rigorously. A beautiful example of this is a 2017 randomized controlled trial that took place in, of all places, a dentist’s office.'),\n",
       " Document(metadata={}, page_content=\"(How you can change your own body's threshold for pain.)\"),\n",
       " Document(metadata={}, page_content='Researchers were interested in whether the stress-reducing qualities of the coast could help anxious dental patients in real time. Teleporting them to the beach would be impossible—but why not try the next best thing?'),\n",
       " Document(metadata={}, page_content='“Our idea was that if we had a strong virtual reality, we could interfere with people’s mental imagery and help them cope with [the dentist] better,” explains Sabine Pahl, a prominent social psychologist and blue space researcher who co-authored the study.'),\n",
       " Document(metadata={}, page_content='During dental treatment, patients wore a VR headset that simulated taking a stroll outside, either along the coast or through a clean, pleasant city. Sure enough, the coastal VR group had significantly lower levels of pain during treatment compared to both the urban walkers and the control group.'),\n",
       " Document(metadata={}, page_content='Advances in technology are now allowing researchers to study how nature impacts pain with even more precision. In a study published in Nature Communications in March 2025, another team of scientists showed 49 healthy people detailed virtual renderings of a natural scene (a lake vista), an urban scene, and an indoor scene—all while giving them electric shocks.'),\n",
       " Document(metadata={}, page_content='Functional magnetic resonance imaging (fMRI) showed that looking at the natural scene was associated with less self-reported pain and altered activity in brain regions responsible for pain perception.'),\n",
       " Document(metadata={}, page_content='This provides a potential neurological basis for what researchers observed in the dentist study, and shows that, beyond promoting positive emotions, natural scenes might actually improve our ability to deal with pain.'),\n",
       " Document(metadata={}, page_content='From family beach days to waterfront picnics with friends, many of us choose to visit the coast with other people. This begs the question: Do blue spaces help build social bonds?'),\n",
       " Document(metadata={}, page_content='To find out, Pahl, White, and other researchers asked parents with young children to describe their recent coastal visits. Their stories, published in a 2013 research paper, show that spending time together at the beach helped them feel more socially bonded as a family.'),\n",
       " Document(metadata={}, page_content='(Why sharing meals is so good for your mental health.)'),\n",
       " Document(metadata={}, page_content='“This is still one of my favorite papers,” says Pahl. “It powerfully describes what happens to families [at the beach]. It’s different when you take them out of the house and give them space and opportunity to run around together.” Other studies have found that blue spaces can help build social cohesion in unrelated individuals as well.'),\n",
       " Document(metadata={}, page_content='Researchers aren’t exactly sure what drives friends and family members to bond at the beach, but it could have to do with their memories of the landscape.'),\n",
       " Document(metadata={}, page_content='For those who grew up building castles in the sand or trailing minnows in the shallows, returning to the beach as an adult may trigger a sense of nostalgia and a return to childhood play and receptivity.'),\n",
       " Document(metadata={}, page_content='While spending the day at the beach won’t single-handedly cure you of all ails, White notes that it can have small, sustained effects that add up over time.'),\n",
       " Document(metadata={}, page_content='For example, some researchers are now studying how visiting the beach during childhood may lead us to develop a deeper sense of nature connectedness down the line, which has been associated with more pro-environmental behaviors (recycling, conserving energy, etc.).'),\n",
       " Document(metadata={}, page_content='White and Pahl are now part of a four-year project investigating how green and blue spaces may help us better prepare for, cope with, and recover from stressors, creating protective layers of resilience that grow with each visit.'),\n",
       " Document(metadata={}, page_content='This ongoing research serves a valuable purpose for public health and community planning. As this data grows more robust, it can be used to advocate for protecting coastal landscapes around the world.'),\n",
       " Document(metadata={}, page_content=\"“That reciprocity is really important,” Kelly says. “If we have a place that makes us feel well, then surely it's our job to make sure it feels well too.”\"),\n",
       " Document(metadata={}, page_content='Copyright © 1996-2015 National Geographic SocietyCopyright © 2015-2025 National Geographic Partners, LLC. All rights reserved')]"
      ]
     },
     "execution_count": 27,
     "metadata": {},
     "output_type": "execute_result"
    }
   ],
   "execution_count": 27
  },
  {
   "metadata": {
    "ExecuteTime": {
     "end_time": "2025-05-27T02:25:29.002645Z",
     "start_time": "2025-05-27T02:25:28.997129Z"
    }
   },
   "cell_type": "code",
   "source": [
    "split_docs = text_splitter.split_documents(docs)\n",
    "split_docs"
   ],
   "id": "2623db3e31fd4c3f",
   "outputs": [
    {
     "data": {
      "text/plain": [
       "[Document(metadata={}, page_content='Visiting the coast can help you relieve stress and get more active—and it may even change the way you cope with pain.'),\n",
       " Document(metadata={}, page_content='The coast has long been a place of healing. In 18th-century Europe, doctors prescribed beach time for ailments ranging from tuberculosis to leprosy. Patients spent their days bathing in (and often drinking) mineral-rich sea water, and at night, they fell asleep to the sounds of briny winds and crashing waves.'),\n",
       " Document(metadata={}, page_content='While elements of this early sea therapy have since been disproven, modern science continues to find that nature is good for us. Researchers got an early inkling of this in a landmark 1984 study that showed post-op patients whose hospital rooms had views of natural spaces tended to have shorter and more pleasant stays than those whose rooms faced a brick wall.'),\n",
       " Document(metadata={}, page_content='(14 iconic beaches you should visit in your lifetime.)'),\n",
       " Document(metadata={}, page_content='In the decades since, the field of environmental psychology has investigated why humans are hardwired to feel better outdoors. Most of their work has focused on green space—parks, forests, and the like. But a more recent wave of researchers is turning their attention to far bluer realms.'),\n",
       " Document(metadata={}, page_content='Mat White, an environmental psychologist who is also avid surfer and outdoor swimmer, is an early pioneer of this work. In 2010, White and his colleagues discovered that people tended to rate photos of natural and urban environments as being more attractive and restorative when they had some sort of water element.'),\n",
       " Document(metadata={}, page_content='This study, since cited over a thousand times, helped kick off the blue space research movement of today. So what actually happens in your body and brain when you spend time at the beach? Let’s dive in.'),\n",
       " Document(metadata={}, page_content='Your first steps onto the sand will likely be followed by what environmental psychologists refer to as “attention restoration”—when your mind starts to relax and take note of your surroundings in a softer, less cognitively demanding way.'),\n",
       " Document(metadata={}, page_content='Early in their blue space inquiry, White and his colleagues analyzed data from 4,255 respondents in England to see which natural environments tended to be the best at evoking such feelings of restoration. The coast rated slightly higher than woodlands and mountainous landscapes.'),\n",
       " Document(metadata={}, page_content='(Nature really is good medicine. Science can explain why.)'),\n",
       " Document(metadata={}, page_content='What makes beaches particularly good for resting the overworked mind? Catherine Kelly, the author of Blue Spaces: How and Why Water Can Make You Feel Better, suspects it has to do with their scale: their immersive soundtracks and expansive views that seem never to end.'),\n",
       " Document(metadata={}, page_content=\"When we visit the coast, she says, “We're invited in a kind of effortless way to bring our attention to the horizon. There's this sense of awe, where we get perspective on our problems and feel part of something bigger than ourselves.”\"),\n",
       " Document(metadata={}, page_content='Awe tends to occur when we connect with something vast that reminds us of our (relatively small) place in the world. The emotion is known to reduce stress, engage a sense of purpose, and push us to act more selflessly.'),\n",
       " Document(metadata={}, page_content='According to the Attention Restoration Theory, which was first proposed in 1989 and is still widely accepted today, the most mentally restorative landscapes tend to be “softly fascinating.” Their scenery is dynamic enough to hold our attention, but predictable enough to allow our minds to relax. Ocean waves fit this description to a tee, says marine social ecologist Easkey Britton.'),\n",
       " Document(metadata={}, page_content=\"(Time to touch grass? Here's Nat Geo's ultimate guide to getting started.)\"),\n",
       " Document(metadata={}, page_content='The impact of ocean waves on stress has never been rigorously studied. However, there is evidence that looking at “fractals” (patterns that repeat at different scales, like waves lapping on a beach) is associated with changes in our own brain waves, promoting alpha frequencies that indicate relaxation.'),\n",
       " Document(metadata={}, page_content='Britton’s own experience as a surfer and existing research on green space make her suspect that waves also “demand presence and focus… That sense of presence frees you from worries or ruminations,” she says.'),\n",
       " Document(metadata={}, page_content='Just as your mind starts to slow down at the beach, your body may pick up the pace by taking a long walk, a swim, or a ball toss with friends.'),\n",
       " Document(metadata={}, page_content='Research suggests that coastal landscapes encourage exercise and the myriad health perks that come with it. Even though people seem to do more intense physical activity in green spaces, one 2020 study published in the journal Environmental Research found they tend to exercise for longer when sweating in the so-called “blue gym”—potentially because they perceive time as being more expansive when they’re by the water.'),\n",
       " Document(metadata={}, page_content='This prolonged physical activity combined with the stress relief benefits of the coast, may go on to improve sleep. A 2024 analysis of data from 18,838 adults across 18 countries shows that, on average, more frequent visits to both blue and green spaces correlate with a lower likelihood of insufficient sleep (which is considered less than six hours a day).'),\n",
       " Document(metadata={}, page_content='People have long sought out sea therapy to cope with pain and stress, but it’s never been entirely clear whether these benefits are actually from being at the coast or from simply taking a break from day-to-day responsibilities. That’s because it’s difficult to scientifically prove that the landscape itself is diminishing pain.'),\n",
       " Document(metadata={}, page_content=\"Double-blind controlled trials, in which subjects are randomly assigned to a treatment or control are the gold standard in scientific research. But they’re also next to impossible in outdoor environments. “You can't blind someone to the condition: They’ll know if they’re looking at the sea or not,” White points out.\"),\n",
       " Document(metadata={}, page_content='However, some researchers are now using virtual reality to study nature’s effect on pain more rigorously. A beautiful example of this is a 2017 randomized controlled trial that took place in, of all places, a dentist’s office.'),\n",
       " Document(metadata={}, page_content=\"(How you can change your own body's threshold for pain.)\"),\n",
       " Document(metadata={}, page_content='Researchers were interested in whether the stress-reducing qualities of the coast could help anxious dental patients in real time. Teleporting them to the beach would be impossible—but why not try the next best thing?'),\n",
       " Document(metadata={}, page_content='“Our idea was that if we had a strong virtual reality, we could interfere with people’s mental imagery and help them cope with [the dentist] better,” explains Sabine Pahl, a prominent social psychologist and blue space researcher who co-authored the study.'),\n",
       " Document(metadata={}, page_content='During dental treatment, patients wore a VR headset that simulated taking a stroll outside, either along the coast or through a clean, pleasant city. Sure enough, the coastal VR group had significantly lower levels of pain during treatment compared to both the urban walkers and the control group.'),\n",
       " Document(metadata={}, page_content='Advances in technology are now allowing researchers to study how nature impacts pain with even more precision. In a study published in Nature Communications in March 2025, another team of scientists showed 49 healthy people detailed virtual renderings of a natural scene (a lake vista), an urban scene, and an indoor scene—all while giving them electric shocks.'),\n",
       " Document(metadata={}, page_content='Functional magnetic resonance imaging (fMRI) showed that looking at the natural scene was associated with less self-reported pain and altered activity in brain regions responsible for pain perception.'),\n",
       " Document(metadata={}, page_content='This provides a potential neurological basis for what researchers observed in the dentist study, and shows that, beyond promoting positive emotions, natural scenes might actually improve our ability to deal with pain.'),\n",
       " Document(metadata={}, page_content='From family beach days to waterfront picnics with friends, many of us choose to visit the coast with other people. This begs the question: Do blue spaces help build social bonds?'),\n",
       " Document(metadata={}, page_content='To find out, Pahl, White, and other researchers asked parents with young children to describe their recent coastal visits. Their stories, published in a 2013 research paper, show that spending time together at the beach helped them feel more socially bonded as a family.'),\n",
       " Document(metadata={}, page_content='(Why sharing meals is so good for your mental health.)'),\n",
       " Document(metadata={}, page_content='“This is still one of my favorite papers,” says Pahl. “It powerfully describes what happens to families [at the beach]. It’s different when you take them out of the house and give them space and opportunity to run around together.” Other studies have found that blue spaces can help build social cohesion in unrelated individuals as well.'),\n",
       " Document(metadata={}, page_content='Researchers aren’t exactly sure what drives friends and family members to bond at the beach, but it could have to do with their memories of the landscape.'),\n",
       " Document(metadata={}, page_content='For those who grew up building castles in the sand or trailing minnows in the shallows, returning to the beach as an adult may trigger a sense of nostalgia and a return to childhood play and receptivity.'),\n",
       " Document(metadata={}, page_content='While spending the day at the beach won’t single-handedly cure you of all ails, White notes that it can have small, sustained effects that add up over time.'),\n",
       " Document(metadata={}, page_content='For example, some researchers are now studying how visiting the beach during childhood may lead us to develop a deeper sense of nature connectedness down the line, which has been associated with more pro-environmental behaviors (recycling, conserving energy, etc.).'),\n",
       " Document(metadata={}, page_content='White and Pahl are now part of a four-year project investigating how green and blue spaces may help us better prepare for, cope with, and recover from stressors, creating protective layers of resilience that grow with each visit.'),\n",
       " Document(metadata={}, page_content='This ongoing research serves a valuable purpose for public health and community planning. As this data grows more robust, it can be used to advocate for protecting coastal landscapes around the world.'),\n",
       " Document(metadata={}, page_content=\"“That reciprocity is really important,” Kelly says. “If we have a place that makes us feel well, then surely it's our job to make sure it feels well too.”\"),\n",
       " Document(metadata={}, page_content='Copyright © 1996-2015 National Geographic SocietyCopyright © 2015-2025 National Geographic Partners, LLC. All rights reserved')]"
      ]
     },
     "execution_count": 28,
     "metadata": {},
     "output_type": "execute_result"
    }
   ],
   "execution_count": 28
  },
  {
   "metadata": {
    "ExecuteTime": {
     "end_time": "2025-05-27T02:25:31.702054Z",
     "start_time": "2025-05-27T02:25:31.698914Z"
    }
   },
   "cell_type": "code",
   "source": [
    "if not os.environ.get(\"OPENAI_API_KEY\"):\n",
    "    os.environ[\"OPENAI_API_KEY\"] = getpass.getpass(\"Enter API key for OpenAI: \")"
   ],
   "id": "ba3a807b01b2329c",
   "outputs": [],
   "execution_count": 29
  },
  {
   "metadata": {
    "ExecuteTime": {
     "end_time": "2025-05-27T02:26:00.382096Z",
     "start_time": "2025-05-27T02:25:58.434630Z"
    }
   },
   "cell_type": "code",
   "source": [
    "# Initialize embeddings model\n",
    "embeddings = OpenAIEmbeddings()\n",
    "\n",
    "# Create and persist vector store\n",
    "vectorstore = Chroma.from_documents(\n",
    "    documents=split_docs,\n",
    "    embedding=embeddings,\n",
    "    persist_directory=\"learning_db\"\n",
    ")"
   ],
   "id": "c0bad1e8460ec4bf",
   "outputs": [],
   "execution_count": 32
  },
  {
   "metadata": {
    "ExecuteTime": {
     "end_time": "2025-05-27T03:49:07.816822Z",
     "start_time": "2025-05-27T03:49:07.814105Z"
    }
   },
   "cell_type": "code",
   "source": "retrieve_docs_tool = create_retriever_tool(vectorstore.as_retriever(), \"retrieve_question_source_material\", \"Retrieve content from the internal document used as source material to generate exam questions.\")",
   "id": "ee4b2e6f6f45ae03",
   "outputs": [],
   "execution_count": 47
  },
  {
   "metadata": {
    "ExecuteTime": {
     "end_time": "2025-05-27T07:45:04.877705Z",
     "start_time": "2025-05-27T07:45:04.868020Z"
    }
   },
   "cell_type": "code",
   "source": [
    "class GenerateTestPromptInput(BaseModel):\n",
    "    \"\"\"Input schema for generating a test prompt\"\"\"\n",
    "    level: str = Field(..., description=\"Test level: easy , medium or hard. Only three levels are available.\")\n",
    "    type_question: str = Field(..., description=\"Question type: multiple choice  or fill in the blank.\")\n",
    "    total: str = Field(..., description=\"Total number of questions.\")\n",
    "    topic: str = Field(..., description=\"Topic of the test.\")\n",
    "\n",
    "@tool(\"generate_test_prompt\", args_schema=GenerateTestPromptInput)\n",
    "def generate_test_prompt(level: str, type_question: str, total: str, topic: str) -> str:\n",
    "    \"\"\"\n",
    "    Generates a prompt describing the test creation requirements based on the level and type of input questions.\n",
    "    \"\"\"\n",
    "    prompt_templates = f\"\"\"Generate a {type_question} test with topic is {topic} based on the provided document with {total} questions..\n",
    "    Difficulty: {level}, suitable for beginners.\n",
    "    Question types should be diverse, including:\n",
    "        Single correct answer,\n",
    "        Multiple correct answers,\n",
    "        All are correct,\n",
    "        None are correct,\n",
    "        Affirmative and negative statements.\n",
    "    Ensure that all questions are relevant to the document, clearly phrased, and not misleading.\n",
    "\"\"\"\n",
    "    return prompt_templates"
   ],
   "id": "bc69559d4f8f348b",
   "outputs": [],
   "execution_count": 226
  },
  {
   "metadata": {
    "ExecuteTime": {
     "end_time": "2025-05-27T08:33:49.169371Z",
     "start_time": "2025-05-27T08:33:49.166042Z"
    }
   },
   "cell_type": "code",
   "source": [
    "class LearningState(TypedDict):\n",
    "    messages: Annotated[list, add_messages]\n",
    "    revert_prompt: str\n",
    "\n",
    "\n",
    "learning_graph = StateGraph(LearningState)"
   ],
   "id": "f582787b85d11ed5",
   "outputs": [],
   "execution_count": 267
  },
  {
   "metadata": {
    "ExecuteTime": {
     "end_time": "2025-05-27T08:30:18.956765Z",
     "start_time": "2025-05-27T08:30:18.938086Z"
    }
   },
   "cell_type": "code",
   "source": "llm_model = init_chat_model(\"openai:gpt-4o-mini\", temperature=0)",
   "id": "c8615fde7747f9c",
   "outputs": [],
   "execution_count": 254
  },
  {
   "metadata": {
    "ExecuteTime": {
     "end_time": "2025-05-27T08:30:19.658890Z",
     "start_time": "2025-05-27T08:30:19.649681Z"
    }
   },
   "cell_type": "code",
   "source": [
    "llm_generate_prompt = llm_model.bind_tools([generate_test_prompt])\n",
    "llm_generate_documents = llm_model.bind_tools([retrieve_docs_tool])"
   ],
   "id": "7d2258a59dc44e43",
   "outputs": [],
   "execution_count": 255
  },
  {
   "metadata": {
    "ExecuteTime": {
     "end_time": "2025-05-27T08:30:21.078847Z",
     "start_time": "2025-05-27T08:30:21.075410Z"
    }
   },
   "cell_type": "code",
   "source": [
    "def chat_bot_generate_prompt(state: LearningState):\n",
    "    print(\"chat_bot_generate_prompt\")\n",
    "    system_message = {\n",
    "        \"role\": \"system\",\n",
    "        \"content\":\"\"\"You are an intelligent assistant who is only allowed to answer a question if you can use one of the defined tools. If none of the tools match the question, answer verbatim:\n",
    "\n",
    "The question is outside the scope of information I am authorized to access.\n",
    "Never infer or make up an answer without the appropriate tool.\"\"\"\n",
    "    }\n",
    "    response_llm = (\n",
    "        llm_generate_prompt.invoke([system_message] + state[\"messages\"])\n",
    "    )\n",
    "    return {\"messages\": response_llm}"
   ],
   "id": "957220506cd14a2a",
   "outputs": [],
   "execution_count": 256
  },
  {
   "metadata": {
    "ExecuteTime": {
     "end_time": "2025-05-27T08:30:22.512074Z",
     "start_time": "2025-05-27T08:30:22.507935Z"
    }
   },
   "cell_type": "code",
   "source": [
    "def run_tool_generate_prompt(state: LearningState):\n",
    "    print(\"run_tool_generate_prompt\")\n",
    "    last_message = state[\"messages\"][-1]\n",
    "    revert_prompt = ''\n",
    "    if hasattr(last_message, \"tool_calls\") and len(last_message.tool_calls) > 0:\n",
    "        results = []\n",
    "        # Process each tool call\n",
    "        for tool_call in last_message.tool_calls:\n",
    "            if tool_call['name'] == \"generate_test_prompt\":\n",
    "                tool_result = generate_test_prompt.invoke(tool_call['args'])\n",
    "                revert_prompt = tool_result\n",
    "                results.append(ToolMessage(content=tool_result, name=\"generate_test_prompt\",tool_call_id=tool_call['id']))\n",
    "\n",
    "        return {\"messages\": results , \"revert_prompt\": revert_prompt}\n",
    "    return {\"messages\": []}\n"
   ],
   "id": "6a36b44408885f6d",
   "outputs": [],
   "execution_count": 257
  },
  {
   "metadata": {
    "ExecuteTime": {
     "end_time": "2025-05-27T08:30:24.115453Z",
     "start_time": "2025-05-27T08:30:24.112688Z"
    }
   },
   "cell_type": "code",
   "source": [
    "def route_tool(state: LearningState):\n",
    "    print(\"route_tool\")\n",
    "    last_message = state[\"messages\"][-1]\n",
    "    if hasattr(last_message , \"tool_calls\") and len(last_message.tool_calls) > 0:\n",
    "        return \"tools\"\n",
    "    return END\n"
   ],
   "id": "9e5cc9b803975672",
   "outputs": [],
   "execution_count": 258
  },
  {
   "metadata": {
    "ExecuteTime": {
     "end_time": "2025-05-27T08:30:25.669312Z",
     "start_time": "2025-05-27T08:30:25.665432Z"
    }
   },
   "cell_type": "code",
   "source": [
    "def get_context_or_response(state: LearningState):\n",
    "    print(\"get_context_or_response\")\n",
    "    system_message = [\n",
    "         {\n",
    "            \"role\": \"system\",\n",
    "        \"content\":\"\"\"Only create a quiz if the question content is within the scope of the provided documentation.\n",
    "If the topic requesting the quiz is not within the documentation, please respond verbatim with the following:\n",
    "The document requesting the quiz is not within the scope of the allowed documentation.\n",
    "Do not speculate or create content that is not within the documentation.\"\"\"\n",
    "        }\n",
    "    ]\n",
    "\n",
    "    response_llm = (\n",
    "        llm_generate_documents.invoke(system_message + state[\"messages\"])\n",
    "    )\n",
    "    return {\"messages\": response_llm}"
   ],
   "id": "16dcfb5792656324",
   "outputs": [],
   "execution_count": 259
  },
  {
   "metadata": {
    "ExecuteTime": {
     "end_time": "2025-05-27T08:30:27.275707Z",
     "start_time": "2025-05-27T08:30:27.272726Z"
    }
   },
   "cell_type": "code",
   "source": [
    "def route_documents(state: LearningState):\n",
    "    print(\"route_documents\")\n",
    "    last_message = state[\"messages\"][-1]\n",
    "    if hasattr(last_message , \"tool_calls\") and len(last_message.tool_calls) > 0:\n",
    "        return \"tools\"\n",
    "    return END"
   ],
   "id": "f067bc74082eed84",
   "outputs": [],
   "execution_count": 260
  },
  {
   "metadata": {
    "ExecuteTime": {
     "end_time": "2025-05-27T08:30:29.193018Z",
     "start_time": "2025-05-27T08:30:29.188207Z"
    }
   },
   "cell_type": "code",
   "source": [
    "def run_tool_generate_examination(state: LearningState):\n",
    "    print(\"run_tool_generate_examination\")\n",
    "    last_message = state[\"messages\"][-1]\n",
    "    if hasattr(last_message, \"tool_calls\") and len(last_message.tool_calls) > 0:\n",
    "        results = []\n",
    "        # Process each tool call\n",
    "        for tool_call in last_message.tool_calls:\n",
    "            if tool_call['name'] == \"retrieve_question_source_material\":\n",
    "                tool_result = retrieve_docs_tool.invoke({\"query\": tool_call[\"args\"].get(\"query\", \"\")})\n",
    "                results.append(ToolMessage(content=tool_result, name=\"retrieve_question_source_material\",tool_call_id=tool_call['id']))\n",
    "\n",
    "        return {\"messages\": results}\n",
    "    return {\"messages\": []}\n"
   ],
   "id": "91d31934aeefb995",
   "outputs": [],
   "execution_count": 261
  },
  {
   "metadata": {
    "ExecuteTime": {
     "end_time": "2025-05-27T08:33:38.690544Z",
     "start_time": "2025-05-27T08:33:38.686113Z"
    }
   },
   "cell_type": "code",
   "source": [
    "def generating_examination(state: LearningState):\n",
    "    generating_examination_prompt = \"\"\"The returned result must be in JSON format with the following structure:\\n\n",
    "question_data: list of questions, each element is an object containing:\\n\n",
    "question: question content,type_question: question type, only accepts one of two values:\n",
    "\"multi_choice\" if it is a multiple choice question,\n",
    "\"fill_in_blank\" if it is a fill-in-the-blank question,\n",
    "type_answer: answer type, only accepts one of the following values:\\n\n",
    "\"single_correct\": only 1 correct answer,\n",
    "\"multi_correct\": multiple correct answers,\n",
    "\"all_correct\": all answers are correct,\n",
    "\"none_correct\": all answers are incorrect,\n",
    "answers_data: array of answers, each element has:\\n\n",
    "content: content of the answer,\n",
    "is_correct: true if the answer is correct, false if the answer is incorrect.\\n\n",
    "Question: {question}\\n\n",
    "Context: {context}\"\"\"\n",
    "    revert_prompt = state[\"revert_prompt\"]\n",
    "    context = state[\"messages\"][-1].content\n",
    "    prompt = generating_examination_prompt.format(question=revert_prompt,context=context)\n",
    "    response_examination = llm_model.invoke([{\"role\": \"user\", \"content\": prompt}])\n",
    "    return {\"messages\": response_examination}\n"
   ],
   "id": "8482de81e2f27b3e",
   "outputs": [],
   "execution_count": 266
  },
  {
   "metadata": {
    "ExecuteTime": {
     "end_time": "2025-05-27T08:33:53.480323Z",
     "start_time": "2025-05-27T08:33:53.470309Z"
    }
   },
   "cell_type": "code",
   "source": [
    "learning_graph.add_node(\"chat_bot_generate_prompt\",chat_bot_generate_prompt)\n",
    "learning_graph.add_node(\"run_tool_generate_prompt\",run_tool_generate_prompt)\n",
    "learning_graph.add_node(\"get_context_or_response\",get_context_or_response)\n",
    "learning_graph.add_node(\"retriever_tools\",run_tool_generate_examination)\n",
    "learning_graph.add_node(\"generating_examination\",generating_examination)\n",
    "learning_graph.add_edge(START, \"chat_bot_generate_prompt\")\n",
    "learning_graph.add_conditional_edges(\"chat_bot_generate_prompt\",route_tool,{\n",
    "    \"tools\":\"run_tool_generate_prompt\"  ,\n",
    "    END:END\n",
    "} )\n",
    "learning_graph.add_edge(\"run_tool_generate_prompt\",\"get_context_or_response\")\n",
    "learning_graph.add_conditional_edges(\"get_context_or_response\",route_documents,{\n",
    "    \"tools\":\"retriever_tools\",\n",
    "    END:END\n",
    "})\n",
    "learning_graph.add_edge(\"retriever_tools\",\"generating_examination\")\n",
    "graph = learning_graph.compile()"
   ],
   "id": "b1f83cadeb519113",
   "outputs": [],
   "execution_count": 268
  },
  {
   "metadata": {
    "ExecuteTime": {
     "end_time": "2025-05-27T08:33:55.189278Z",
     "start_time": "2025-05-27T08:33:55.019637Z"
    }
   },
   "cell_type": "code",
   "source": "graph",
   "id": "5815185b92eb5429",
   "outputs": [
    {
     "data": {
      "text/plain": [
       "<langgraph.graph.state.CompiledStateGraph object at 0x1380ec490>"
      ],
      "image/png": "[encoded data removed]"
     },
     "execution_count": 269,
     "metadata": {},
     "output_type": "execute_result"
    }
   ],
   "execution_count": 269
  },
  {
   "metadata": {
    "ExecuteTime": {
     "end_time": "2025-05-27T08:35:36.065542Z",
     "start_time": "2025-05-27T08:34:06.144625Z"
    }
   },
   "cell_type": "code",
   "source": [
    "response = graph.invoke({\n",
    "    \"messages\":\"\"\"I want to create an easy multiple choice test with 10 questions on the topic \"Health benefits of going to the beach\" \"\"\"\n",
    "})\n",
    "response[\"messages\"][-1].content\n"
   ],
   "id": "4976e23ca57e7664",
   "outputs": [
    {
     "name": "stdout",
     "output_type": "stream",
     "text": [
      "chat_bot_generate_prompt\n",
      "route_tool\n",
      "run_tool_generate_prompt\n",
      "get_context_or_response\n",
      "route_documents\n",
      "run_tool_generate_examination\n"
     ]
    },
    {
     "data": {
      "text/plain": [
       "'```json\\n{\\n  \"question_data\": [\\n    {\\n      \"question\": \"What is one of the benefits of visiting the beach?\",\\n      \"type_question\": \"multi_choice\",\\n      \"type_answer\": \"single_correct\",\\n      \"answers_data\": [\\n        {\\n          \"content\": \"It helps relieve stress.\",\\n          \"is_correct\": true\\n        },\\n        {\\n          \"content\": \"It guarantees a cure for all ailments.\",\\n          \"is_correct\": false\\n        },\\n        {\\n          \"content\": \"It has no effect on mental health.\",\\n          \"is_correct\": false\\n        },\\n        {\\n          \"content\": \"It makes you more sedentary.\",\\n          \"is_correct\": false\\n        }\\n      ]\\n    },\\n    {\\n      \"question\": \"Which activities can you do at the beach to become more active?\",\\n      \"type_question\": \"multi_choice\",\\n      \"type_answer\": \"multi_correct\",\\n      \"answers_data\": [\\n        {\\n          \"content\": \"Swimming\",\\n          \"is_correct\": true\\n        },\\n        {\\n          \"content\": \"Sitting and doing nothing\",\\n          \"is_correct\": false\\n        },\\n        {\\n          \"content\": \"Taking a long walk\",\\n          \"is_correct\": true\\n        },\\n        {\\n          \"content\": \"Playing ball toss with friends\",\\n          \"is_correct\": true\\n        }\\n      ]\\n    },\\n    {\\n      \"question\": \"Spending time at the beach can help families feel more socially bonded.\",\\n      \"type_question\": \"multi_choice\",\\n      \"type_answer\": \"single_correct\",\\n      \"answers_data\": [\\n        {\\n          \"content\": \"True\",\\n          \"is_correct\": true\\n        },\\n        {\\n          \"content\": \"False\",\\n          \"is_correct\": false\\n        }\\n      ]\\n    },\\n    {\\n      \"question\": \"Visiting the beach has no impact on how you cope with pain.\",\\n      \"type_question\": \"multi_choice\",\\n      \"type_answer\": \"single_correct\",\\n      \"answers_data\": [\\n        {\\n          \"content\": \"True\",\\n          \"is_correct\": false\\n        },\\n        {\\n          \"content\": \"False\",\\n          \"is_correct\": true\\n        }\\n      ]\\n    },\\n    {\\n      \"question\": \"What is a potential long-term effect of spending time at the beach?\",\\n      \"type_question\": \"multi_choice\",\\n      \"type_answer\": \"single_correct\",\\n      \"answers_data\": [\\n        {\\n          \"content\": \"Improved social bonding\",\\n          \"is_correct\": true\\n        },\\n        {\\n          \"content\": \"Increased stress levels\",\\n          \"is_correct\": false\\n        },\\n        {\\n          \"content\": \"Decreased physical activity\",\\n          \"is_correct\": false\\n        },\\n        {\\n          \"content\": \"No change in lifestyle\",\\n          \"is_correct\": false\\n        }\\n      ]\\n    },\\n    {\\n      \"question\": \"Which of the following statements is correct about beach visits?\",\\n      \"type_question\": \"multi_choice\",\\n      \"type_answer\": \"all_correct\",\\n      \"answers_data\": [\\n        {\\n          \"content\": \"They can help relieve stress.\",\\n          \"is_correct\": true\\n        },\\n        {\\n          \"content\": \"They encourage physical activity.\",\\n          \"is_correct\": true\\n        },\\n        {\\n          \"content\": \"They can improve family relationships.\",\\n          \"is_correct\": true\\n        },\\n        {\\n          \"content\": \"They have no health benefits.\",\\n          \"is_correct\": false\\n        }\\n      ]\\n    },\\n    {\\n      \"question\": \"What type of activities can help you cope with pain while at the beach?\",\\n      \"type_question\": \"multi_choice\",\\n      \"type_answer\": \"multi_correct\",\\n      \"answers_data\": [\\n        {\\n          \"content\": \"Relaxing on the sand\",\\n          \"is_correct\": true\\n        },\\n        {\\n          \"content\": \"Engaging in sports\",\\n          \"is_correct\": true\\n        },\\n        {\\n          \"content\": \"Ignoring your pain\",\\n          \"is_correct\": false\\n        },\\n        {\\n          \"content\": \"Taking a swim\",\\n          \"is_correct\": true\\n        }\\n      ]\\n    },\\n    {\\n      \"question\": \"Is it true that spending time at the beach can have small, sustained effects over time?\",\\n      \"type_question\": \"multi_choice\",\\n      \"type_answer\": \"single_correct\",\\n      \"answers_data\": [\\n        {\\n          \"content\": \"True\",\\n          \"is_correct\": true\\n        },\\n        {\\n          \"content\": \"False\",\\n          \"is_correct\": false\\n        }\\n      ]\\n    },\\n    {\\n      \"question\": \"Which of the following is NOT a benefit of going to the beach?\",\\n      \"type_question\": \"multi_choice\",\\n      \"type_answer\": \"none_correct\",\\n      \"answers_data\": [\\n        {\\n          \"content\": \"It helps relieve stress.\",\\n          \"is_correct\": false\\n        },\\n        {\\n          \"content\": \"It encourages family bonding.\",\\n          \"is_correct\": false\\n        },\\n        {\\n          \"content\": \"It promotes physical activity.\",\\n          \"is_correct\": false\\n        },\\n        {\\n          \"content\": \"It has no positive effects.\",\\n          \"is_correct\": true\\n        }\\n      ]\\n    }\\n  ]\\n}\\n```'"
      ]
     },
     "execution_count": 270,
     "metadata": {},
     "output_type": "execute_result"
    }
   ],
   "execution_count": 270
  },
  {
   "metadata": {
    "ExecuteTime": {
     "end_time": "2025-05-27T08:41:37.657731Z",
     "start_time": "2025-05-27T08:41:37.652993Z"
    }
   },
   "cell_type": "code",
   "source": [
    "def format_and_save_json(json_string, filename=\"learning.json\"):\n",
    "    \"\"\"\n",
    "    Format a JSON string by removing ```json prefix and ``` suffix,\n",
    "    and save it to a file.\n",
    "\n",
    "    Args:\n",
    "        json_string (str): The JSON string to format\n",
    "        filename (str): The name of the file to save the formatted JSON to\n",
    "    \"\"\"\n",
    "    # Remove ```json prefix and ``` suffix if they exist\n",
    "    if json_string.startswith(\"```json\"):\n",
    "        json_string = json_string[7:]  # Remove ```json\n",
    "    elif json_string.startswith(\"```\"):\n",
    "        json_string = json_string[3:]  # Remove ```\n",
    "\n",
    "    if json_string.endswith(\"```\"):\n",
    "        json_string = json_string[:-3]  # Remove ```\n",
    "\n",
    "    # Strip any leading/trailing whitespace\n",
    "    json_string = json_string.strip()\n",
    "\n",
    "    # Save to file\n",
    "    with open(filename, \"w\") as f:\n",
    "        f.write(json_string)\n",
    "\n",
    "    print(f\"JSON saved to {filename}\")\n",
    "    return json_string\n",
    "\n",
    "# Format and save the JSON\n"
   ],
   "id": "eb4ec7f2fbf16c1b",
   "outputs": [],
   "execution_count": 271
  },
  {
   "metadata": {
    "ExecuteTime": {
     "end_time": "2025-05-27T08:41:52.866012Z",
     "start_time": "2025-05-27T08:41:52.861610Z"
    }
   },
   "cell_type": "code",
   "source": "formatted_json = format_and_save_json(response[\"messages\"][-1].content)",
   "id": "60cea3664010f1f1",
   "outputs": [
    {
     "name": "stdout",
     "output_type": "stream",
     "text": [
      "JSON saved to learning.json\n"
     ]
    }
   ],
   "execution_count": 272
  }
 ],
 "metadata": {
  "kernelspec": {
   "display_name": "Python 3",
   "language": "python",
   "name": "python3"
  },
  "language_info": {
   "codemirror_mode": {
    "name": "ipython",
    "version": 2
   },
   "file_extension": ".py",
   "mimetype": "text/x-python",
   "name": "python",
   "nbconvert_exporter": "python",
   "pygments_lexer": "ipython2",
   "version": "2.7.6"
  }
 },
 "nbformat": 4,
 "nbformat_minor": 5
}
