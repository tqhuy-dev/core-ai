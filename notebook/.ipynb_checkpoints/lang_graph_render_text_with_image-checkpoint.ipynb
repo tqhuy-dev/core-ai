{
 "cells": [
  {
   "cell_type": "code",
   "execution_count": 1,
   "id": "initial_id",
   "metadata": {
    "ExecuteTime": {
     "end_time": "2025-05-28T04:26:29.061460Z",
     "start_time": "2025-05-28T04:26:29.058655Z"
    }
   },
   "outputs": [],
   "source": [
    "from langchain.chat_models import init_chat_model\n",
    "from langgraph.graph import StateGraph, START, END,add_messages\n",
    "import os, getpass\n",
    "import re\n",
    "\n",
    "from openai import OpenAI\n",
    "from pydantic import BaseModel, Field\n",
    "import base64"
   ]
  },
  {
   "cell_type": "code",
   "execution_count": 2,
   "id": "d715d1497dc4f8a1",
   "metadata": {
    "ExecuteTime": {
     "end_time": "2025-05-28T03:32:21.614780Z",
     "start_time": "2025-05-28T03:32:11.617201Z"
    }
   },
   "outputs": [
    {
     "name": "stdin",
     "output_type": "stream",
     "text": [
      "Enter API key for OpenAI:  ········\n"
     ]
    }
   ],
   "source": [
    "if not os.environ.get(\"OPENAI_API_KEY\"):\n",
    "    os.environ[\"OPENAI_API_KEY\"] = getpass.getpass(\"Enter API key for OpenAI: \")"
   ]
  },
  {
   "cell_type": "code",
   "execution_count": 3,
   "id": "3b3083b57c35d928",
   "metadata": {
    "ExecuteTime": {
     "end_time": "2025-05-28T03:33:56.207910Z",
     "start_time": "2025-05-28T03:33:55.877399Z"
    }
   },
   "outputs": [],
   "source": [
    "llm_model = init_chat_model(\"openai:gpt-4o-mini\", temperature=0)"
   ]
  },
  {
   "cell_type": "code",
   "execution_count": 4,
   "id": "bb6dcdce87eaa52",
   "metadata": {
    "ExecuteTime": {
     "end_time": "2025-05-28T04:15:03.060342Z",
     "start_time": "2025-05-28T04:15:03.057502Z"
    }
   },
   "outputs": [],
   "source": [
    "def extract_curly_brace_contents(text: str) -> list[str]:\n",
    "    \"\"\"\n",
    "    Trích xuất tất cả nội dung nằm trong dấu {} trong một chuỗi văn bản.\n",
    "\n",
    "    Ví dụ:\n",
    "    Input: \"This is a {cat} and a {dog}.\"\n",
    "    Output: [\"cat\", \"dog\"]\n",
    "    \"\"\"\n",
    "    return re.findall(r\"\\{([^{}]+)\\}\", text)"
   ]
  },
  {
   "cell_type": "code",
   "execution_count": 6,
   "id": "9d9264a32fda3486",
   "metadata": {
    "ExecuteTime": {
     "end_time": "2025-05-28T04:21:59.226049Z",
     "start_time": "2025-05-28T04:21:59.223719Z"
    }
   },
   "outputs": [],
   "source": [
    "def parse_list_to_map(list_of_strings: list[str]) -> dict[str, str]:\n",
    "    \"\"\"\n",
    "    Parse a list of strings into a dictionary where even indices are keys and odd indices are values.\n",
    "    \n",
    "    Example:\n",
    "    Input: [\"key1\", \"value1\", \"key2\", \"value2\"]\n",
    "    Output: {\"key1\": \"value1\", \"key2\": \"value2\"}\n",
    "    \"\"\"\n",
    "    return dict(zip(list_of_strings[::2], list_of_strings[1::2]))\n"
   ]
  },
  {
   "cell_type": "code",
   "execution_count": 37,
   "id": "92f7fe520f5d5c7a",
   "metadata": {
    "ExecuteTime": {
     "end_time": "2025-05-28T04:31:09.100103Z",
     "start_time": "2025-05-28T04:28:55.966235Z"
    }
   },
   "outputs": [],
   "source": [
    "client = OpenAI()\n",
    "for key, value in dict_data.items():\n",
    "    response_image = client.responses.create(\n",
    "        model=\"gpt-4o-mini\",\n",
    "        input=f\"Generate an image with description: {value}\",\n",
    "        tools=[{\"type\": \"image_generation\"}],\n",
    "    )\n",
    "\n",
    "    image_data = [\n",
    "    output.result\n",
    "    for output in response_image.output\n",
    "    if output.type == \"image_generation_call\"\n",
    "    ]\n",
    "\n",
    "    if image_data:\n",
    "        image_base64 = image_data[0]\n",
    "\n",
    "        with open(f\"{key}.png\", \"wb\") as f:\n",
    "            f.write(base64.b64decode(image_base64))"
   ]
  },
  {
   "cell_type": "code",
   "execution_count": 38,
   "id": "31ffe50cdf7b9bd",
   "metadata": {
    "ExecuteTime": {
     "end_time": "2025-05-28T04:37:06.826025Z",
     "start_time": "2025-05-28T04:37:06.822857Z"
    }
   },
   "outputs": [],
   "source": [
    "def format_placeholders(text: str, replacements: dict[str, str]) -> str:\n",
    "    \"\"\"\n",
    "    Thay thế các placeholder dạng {key} trong đoạn văn bằng giá trị từ từ điển.\n",
    "\n",
    "    Args:\n",
    "        text (str): Chuỗi văn bản chứa các placeholder dạng {key}\n",
    "        replacements (Dict[str, str]): Từ điển chứa các key và giá trị thay thế\n",
    "\n",
    "    Returns:\n",
    "        str: Văn bản sau khi đã được thay thế\n",
    "    \"\"\"\n",
    "    def replace_match(match):\n",
    "        key_dict = match.group(1)\n",
    "        return replacements.get(key_dict, match.group(0))  # giữ nguyên nếu không tìm thấy key\n",
    "\n",
    "    return re.sub(r\"\\{([^{}]+)\\}\", replace_match, text)"
   ]
  },
  {
   "cell_type": "code",
   "execution_count": 12,
   "id": "2e27d255e002130c",
   "metadata": {
    "ExecuteTime": {
     "end_time": "2025-05-28T04:45:45.129864Z",
     "start_time": "2025-05-28T04:45:45.126506Z"
    }
   },
   "outputs": [],
   "source": [
    "def remove_character_placeholders(text: str) -> str:\n",
    "\n",
    "    text = text.replace(\"{\", \"\").replace(\"}\", \"\")\n",
    "    return text\n"
   ]
  },
  {
   "cell_type": "code",
   "execution_count": 11,
   "id": "a9113414dfe28e78",
   "metadata": {
    "ExecuteTime": {
     "end_time": "2025-05-28T04:53:13.308263Z",
     "start_time": "2025-05-28T04:53:13.301935Z"
    }
   },
   "outputs": [],
   "source": [
    "def replace_image_placeholders(text: str, image_map: dict[str, str]) -> str:\n",
    "    \"\"\"\n",
    "    Thay thế các đoạn {key} - {description} trong văn bản bằng thẻ HTML <img> nếu key có trong image_map.\n",
    "\n",
    "    Args:\n",
    "        text (str): Đoạn văn chứa placeholder\n",
    "        image_map (Dict[str, str]): ánh xạ key -> tên file ảnh (có thể là URL hoặc tên file)\n",
    "\n",
    "    Returns:\n",
    "        str: Đoạn văn đã được thay thế bằng thẻ <img>\n",
    "    \"\"\"\n",
    "    pattern = r\"\\{([^{}]+)\\}\\s*-\\s*\\{([^{}]+)\\}\"\n",
    "\n",
    "    def replacer(match):\n",
    "        key = match.group(1).strip()\n",
    "        description = match.group(2).strip()\n",
    "        if key in image_map:\n",
    "            image_file = image_map[key]\n",
    "            return f'<img src=\"{image_file}\" alt=\"{description}\" width=\"300\"/>'\n",
    "        else:\n",
    "            return match.group(0)  # Giữ nguyên nếu không tìm thấy key\n",
    "\n",
    "    return re.sub(pattern, replacer, text)"
   ]
  },
  {
   "cell_type": "code",
   "execution_count": 49,
   "id": "65bcc518937c2c54",
   "metadata": {
    "ExecuteTime": {
     "end_time": "2025-05-28T04:53:30.627724Z",
     "start_time": "2025-05-28T04:53:30.623534Z"
    }
   },
   "outputs": [
    {
     "data": {
      "text/plain": [
       "'Once upon a time in a cozy little town, there lived a mischievous cat named Whiskers. Whiskers had a knack for getting into trouble, whether it was knocking over flower pots or stealing socks from the laundry basket. One sunny afternoon, he decided to embark on a grand adventure. He spotted a butterfly fluttering by and, with a leap of faith, he chased it right into the neighbor\\'s yard. Little did he know, the neighbor was hosting a barbecue, and Whiskers\\' entrance was about to turn the party upside down. \\n\\n<img src=\"barbecue.png\" alt=\"a backyard barbecue with people laughing and a cat leaping into the scene\" width=\"300\"/> \\n\\nAs Whiskers darted through the crowd, he knocked over a plate of burgers, sending them flying like frisbees. The guests erupted in laughter as they watched the flying patties, and Whiskers, oblivious to the chaos he was causing, continued his pursuit of the butterfly. In a hilarious twist, he ended up tangled in a string of sausages, looking like a furry, confused piñata. The partygoers couldn\\'t stop laughing, and from that day on, Whiskers became the unofficial mascot of the neighborhood, known for his clumsy antics and the unforgettable barbecue disaster. \\n\\n<img src=\"cat_tangled.png\" alt=\"a cat tangled in sausages, looking bewildered while people laugh in the background\" width=\"300\"/>'"
      ]
     },
     "execution_count": 49,
     "metadata": {},
     "output_type": "execute_result"
    }
   ],
   "source": [
    "new_content =  replace_image_placeholders(\"\"\"Once upon a time in a cozy little town, there lived a mischievous cat named Whiskers. Whiskers had a knack for getting into trouble, whether it was knocking over flower pots or stealing socks from the laundry basket. One sunny afternoon, he decided to embark on a grand adventure. He spotted a butterfly fluttering by and, with a leap of faith, he chased it right into the neighbor's yard. Little did he know, the neighbor was hosting a barbecue, and Whiskers' entrance was about to turn the party upside down. \\n\\n{barbecue} - {a backyard barbecue with people laughing and a cat leaping into the scene} \\n\\nAs Whiskers darted through the crowd, he knocked over a plate of burgers, sending them flying like frisbees. The guests erupted in laughter as they watched the flying patties, and Whiskers, oblivious to the chaos he was causing, continued his pursuit of the butterfly. In a hilarious twist, he ended up tangled in a string of sausages, looking like a furry, confused piñata. The partygoers couldn't stop laughing, and from that day on, Whiskers became the unofficial mascot of the neighborhood, known for his clumsy antics and the unforgettable barbecue disaster. \\n\\n{cat_tangled} - {a cat tangled in sausages, looking bewildered while people laugh in the background}\"\"\", {\n",
    "    \"barbecue\": \"barbecue.png\",\n",
    "    \"cat_tangled\": \"cat_tangled.png\"\n",
    "})\n",
    "new_content"
   ]
  },
  {
   "cell_type": "code",
   "execution_count": 50,
   "id": "134c09dcbfe30d25",
   "metadata": {
    "ExecuteTime": {
     "end_time": "2025-05-28T04:55:36.768066Z",
     "start_time": "2025-05-28T04:55:36.765786Z"
    }
   },
   "outputs": [],
   "source": [
    "with open('story.md', 'w') as f:\n",
    "    f.write(new_content)\n"
   ]
  },
  {
   "cell_type": "code",
   "execution_count": 7,
   "id": "44bd9cf32f4d321d",
   "metadata": {
    "ExecuteTime": {
     "end_time": "2025-05-28T06:08:10.880191Z",
     "start_time": "2025-05-28T06:08:10.873722Z"
    }
   },
   "outputs": [],
   "source": [
    "from typing import TypedDict, Annotated\n",
    "\n",
    "class StoryImageState(TypedDict):\n",
    "    messages: Annotated[list, add_messages]\n",
    "    image_map: dict[str, str]"
   ]
  },
  {
   "cell_type": "code",
   "execution_count": 8,
   "id": "56ab11f979330561",
   "metadata": {
    "ExecuteTime": {
     "end_time": "2025-05-28T07:00:09.763121Z",
     "start_time": "2025-05-28T07:00:09.759021Z"
    }
   },
   "outputs": [],
   "source": [
    "def create_story(state: StoryImageState):\n",
    "    system_message = {\n",
    "        \"role\": \"system\",\n",
    "        \"content\":\"\"\"Write a compelling story, with each paragraph accompanied by a generated image. Each image should be described in the format: {image_name} - {image_description},\n",
    "e.g. {cat} - {a cat is sleeping}.\n",
    "Each paragraph should be accompanied by an image that is relevant to the content of the paragraph.\"\"\"\n",
    "    }\n",
    "    response = (\n",
    "        llm_model.invoke([system_message] + state[\"messages\"])\n",
    "    )\n",
    "    return {\"messages\": [response]}\n",
    "    "
   ]
  },
  {
   "cell_type": "code",
   "execution_count": 9,
   "id": "9537eec7e9915dc4",
   "metadata": {},
   "outputs": [],
   "source": [
    "def get_image_tag_in_story(state: StoryImageState):\n",
    "    story = state[\"messages\"][-1].content\n",
    "    tag_images = extract_curly_brace_contents(story)\n",
    "    images_dict = parse_list_to_map(tag_images)\n",
    "    return {\"image_map\":images_dict}"
   ]
  },
  {
   "cell_type": "code",
   "execution_count": 13,
   "id": "8c136bd2-1398-4e09-9a0a-ac0608d2453e",
   "metadata": {},
   "outputs": [],
   "source": [
    "def generating_images(state: StoryImageState):\n",
    "    client = OpenAI()\n",
    "    dict_data = state[\"image_map\"]\n",
    "    for key, value in dict_data.items():\n",
    "        response_image = client.responses.create(\n",
    "            model=\"gpt-4o-mini\",\n",
    "            input=f\"Generate an image with description: {value}\",\n",
    "            tools=[{\"type\": \"image_generation\"}],\n",
    "        )\n",
    "\n",
    "        image_data = [output.result for output in response_image.output if output.type == \"image_generation_call\"]\n",
    "    \n",
    "        if image_data:\n",
    "            image_base64 = image_data[0]\n",
    "    \n",
    "            with open(f\"{key}.png\", \"wb\") as f:\n",
    "                f.write(base64.b64decode(image_base64))\n",
    "                dict_data[key] = f\"{key}.png\"\n",
    "    return {\"image_map\":dict_data}"
   ]
  },
  {
   "cell_type": "code",
   "execution_count": 14,
   "id": "bce41e55-61ae-4fe0-98af-b5e92735d5d4",
   "metadata": {},
   "outputs": [],
   "source": [
    "def impletement_image_into_text(state: StoryImageState):\n",
    "    story = state[\"messages\"][-1].content\n",
    "    image_dict = state[\"image_map\"]\n",
    "    new_story = replace_image_placeholders(story, image_dict)\n",
    "    return {\"messages\":[{\"role\":\"user\", \"content\": new_story}]}"
   ]
  },
  {
   "cell_type": "code",
   "execution_count": 17,
   "id": "9ebfc41c-ced0-4acd-9915-bf49f9732ed5",
   "metadata": {},
   "outputs": [
    {
     "data": {
      "image/png": "[encoded data removed]",
      "text/plain": [
       "<langgraph.graph.state.CompiledStateGraph object at 0x1170a86e0>"
      ]
     },
     "execution_count": 17,
     "metadata": {},
     "output_type": "execute_result"
    }
   ],
   "source": [
    "graph = StateGraph(StoryImageState)\n",
    "\n",
    "graph.add_node(\"create_story\",create_story)\n",
    "graph.add_node(\"get_image_tag_in_story\",get_image_tag_in_story)\n",
    "graph.add_node(\"generating_images\",generating_images)\n",
    "graph.add_node(\"impletement_image_into_text\",impletement_image_into_text)\n",
    "\n",
    "graph.add_edge(START , \"create_story\")\n",
    "graph.add_edge(\"create_story\" , \"get_image_tag_in_story\")\n",
    "graph.add_edge(\"get_image_tag_in_story\" , \"generating_images\")\n",
    "graph.add_edge(\"generating_images\" , \"impletement_image_into_text\")\n",
    "\n",
    "graph.compile()"
   ]
  },
  {
   "cell_type": "code",
   "execution_count": null,
   "id": "36966045-7fe4-4b99-bb51-93e80130d40b",
   "metadata": {},
   "outputs": [],
   "source": [
    "response = graph.invoke({\"messages\":[\"role\":\"user\" , \"content\":\"create a funny story about a cat, the story has 2 to 3 paragraphs\"]})"
   ]
  }
 ],
 "metadata": {
  "kernelspec": {
   "display_name": "Python 3 (ipykernel)",
   "language": "python",
   "name": "python3"
  },
  "language_info": {
   "codemirror_mode": {
    "name": "ipython",
    "version": 3
   },
   "file_extension": ".py",
   "mimetype": "text/x-python",
   "name": "python",
   "nbconvert_exporter": "python",
   "pygments_lexer": "ipython3",
   "version": "3.13.2"
  }
 },
 "nbformat": 4,
 "nbformat_minor": 5
}
